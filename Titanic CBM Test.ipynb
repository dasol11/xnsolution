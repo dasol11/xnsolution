{
 "cells": [
  {
   "cell_type": "code",
   "execution_count": 28,
   "id": "9722df07",
   "metadata": {},
   "outputs": [],
   "source": [
    "import numpy as np\n",
    "import pandas as pd"
   ]
  },
  {
   "cell_type": "code",
   "execution_count": 29,
   "id": "32d7a063",
   "metadata": {},
   "outputs": [],
   "source": [
    "from CBM import cbm"
   ]
  },
  {
   "cell_type": "code",
   "execution_count": 30,
   "id": "d8ecfba4",
   "metadata": {},
   "outputs": [],
   "source": [
    "df = pd.read_csv('./data/titanic.csv', encoding='euc-kr')"
   ]
  },
  {
   "cell_type": "code",
   "execution_count": 31,
   "id": "6e8e7578",
   "metadata": {},
   "outputs": [],
   "source": [
    "df = df.dropna()"
   ]
  },
  {
   "cell_type": "code",
   "execution_count": 32,
   "id": "271fdd51",
   "metadata": {},
   "outputs": [],
   "source": [
    "# df = pd.read_csv('test_data.csv', encoding='euc-kr')\n",
    "\n",
    "trdat = df.values[0:600,:]\n",
    "tsdat = df.values[600:891, :]"
   ]
  },
  {
   "cell_type": "code",
   "execution_count": 33,
   "id": "26cefdf7",
   "metadata": {},
   "outputs": [
    {
     "data": {
      "text/plain": [
       "0      0\n",
       "1      0\n",
       "2      0\n",
       "3      0\n",
       "4      0\n",
       "      ..\n",
       "886    0\n",
       "887    0\n",
       "888    0\n",
       "889    0\n",
       "890    0\n",
       "Length: 889, dtype: int64"
      ]
     },
     "execution_count": 33,
     "metadata": {},
     "output_type": "execute_result"
    }
   ],
   "source": [
    "df.isnull().sum(axis=1)"
   ]
  },
  {
   "cell_type": "code",
   "execution_count": 34,
   "id": "d62d7ece",
   "metadata": {},
   "outputs": [],
   "source": [
    "cb = cbm(trdat, tsdat, n_clusters=5, alpha=0.05)"
   ]
  },
  {
   "cell_type": "code",
   "execution_count": 35,
   "id": "428b5658",
   "metadata": {},
   "outputs": [
    {
     "data": {
      "text/plain": [
       "{'trScore': array([4.56100047e+00, 1.13028808e+01, 8.10441303e+00, 2.36049782e+01,\n",
       "        5.33886979e+00, 6.41050975e+00, 9.42688249e+00, 8.90586299e+00,\n",
       "        1.32468528e+01, 9.87475829e+00, 7.27079520e+00, 2.15348782e+01,\n",
       "        4.46568918e+00, 2.22022612e+01, 9.62004914e+00, 1.02043178e+01,\n",
       "        1.43852295e+01, 1.20176876e+01, 9.49626918e+00, 1.11250125e+01,\n",
       "        4.85661707e+00, 8.80895047e+00, 7.25695794e+00, 1.20873276e+01,\n",
       "        1.12044948e+01, 2.08659524e+01, 9.54350981e+00, 2.15444086e+01,\n",
       "        8.01090527e+00, 6.00129695e+00, 1.32314942e+01, 1.65142965e+01,\n",
       "        7.93935705e+00, 9.73848312e+00, 1.10634137e+01, 9.03675869e+00,\n",
       "        1.38978603e+01, 4.00231712e+00, 1.02204286e+01, 1.05774195e+01,\n",
       "        1.02383213e+01, 1.00006552e+01, 9.25050588e+00, 1.39847915e+01,\n",
       "        6.93290926e+00, 5.72727995e+00, 5.33568987e+00, 7.67527078e+00,\n",
       "        1.08311369e+01, 8.42449256e+00, 1.26471259e+01, 3.76182912e+00,\n",
       "        1.16216278e+01, 6.61320488e+00, 1.65551322e+01, 1.57490940e+01,\n",
       "        6.76616069e+00, 8.81988274e+00, 1.11645975e+01, 1.83595232e+01,\n",
       "        8.24432836e+00, 8.46757925e+00, 1.03371922e+01, 1.70991358e+01,\n",
       "        1.45487810e+01, 6.17763943e+00, 3.53863372e+00, 1.60966523e+01,\n",
       "        5.76106084e+00, 4.23806664e+00, 1.68910286e+01, 6.12013681e+00,\n",
       "        8.65000575e+00, 1.32391967e+01, 1.61039327e+01, 5.24011442e+00,\n",
       "        5.22736218e+00, 1.68044232e+01, 7.13841840e+00, 3.33396821e+00,\n",
       "        9.37671881e+00, 7.11752296e+00, 8.36265498e+00, 6.56651199e+00,\n",
       "        1.48104488e+01, 1.53798764e+01, 5.08526347e+00, 1.49143537e+01,\n",
       "        3.21228245e+00, 3.39531654e+00, 3.16834866e+00, 7.62897767e+00,\n",
       "        8.60173121e+00, 8.71197508e+00, 4.97642756e+00, 1.23579248e+01,\n",
       "        1.32288990e+01, 6.17518886e+00, 3.79499174e+00, 8.19654069e+00,\n",
       "        4.89576833e+00, 1.01191665e+01, 3.53446752e+00, 6.61553018e+00,\n",
       "        3.13709163e+00, 6.13283441e+00, 9.74376130e+00, 4.01247981e+00,\n",
       "        6.65028927e+00, 1.20013983e+01, 1.14386078e+01, 2.88839079e+00,\n",
       "        7.54197101e+00, 1.14825928e+01, 2.85051400e+00, 1.06861329e+01,\n",
       "        3.57191194e+00, 1.21280025e+01, 1.28444775e+01, 6.56112771e+00,\n",
       "        4.65244185e+00, 7.64083034e+00, 1.14051990e+01, 9.38294706e+00,\n",
       "        1.19552024e+01, 4.56178868e+00, 8.34376003e+00, 1.21226395e+01,\n",
       "        4.85756574e+00, 8.38113719e+00, 2.66070557e+00, 1.01812309e+01,\n",
       "        5.44822089e+00, 3.38170074e+00, 7.20859239e+00, 1.07853759e+01,\n",
       "        1.01109156e+01, 2.73689464e+00, 9.02919840e+00, 1.11003910e+01,\n",
       "        5.73833972e+00, 6.11796201e+00, 3.02493505e+00, 3.86701336e+00,\n",
       "        3.81143683e+00, 8.31916921e+00, 9.87301064e+00, 9.26971838e+00,\n",
       "        3.51128793e+00, 4.61354585e+00, 8.55229398e+00, 7.04654756e+00,\n",
       "        8.77249539e+00, 4.29796663e+00, 8.31338335e+00, 5.33982612e+00,\n",
       "        2.68159487e+00, 4.27791174e+00, 9.59211255e+00, 6.11137080e+00,\n",
       "        5.47929360e+00, 2.42691399e+00, 2.44362762e+00, 9.17461899e+00,\n",
       "        8.84639598e+00, 9.05064169e+00, 7.64146342e+00, 8.90145045e+00,\n",
       "        5.76438931e+00, 6.99853223e+00, 8.56391732e+00, 5.46510475e+00,\n",
       "        2.26082298e+00, 6.87145168e+00, 2.65327465e+00, 7.25422605e+00,\n",
       "        6.83784968e+00, 2.75858584e+00, 2.94058207e+00, 8.04180054e+00,\n",
       "        7.96192942e+00, 7.63720664e+00, 7.79549759e+00, 7.63720664e+00,\n",
       "        7.68338499e+00, 5.91842013e+00, 6.33077925e+00, 5.82736874e+00,\n",
       "        2.95924973e+00, 4.74809916e+00, 3.24321192e+00, 5.42402516e+00,\n",
       "        7.05978079e+00, 5.92543202e+00, 5.52202793e+00, 3.94008149e+00,\n",
       "        5.33370985e+00, 5.85983097e+00, 6.12325314e+00, 2.25386450e+00,\n",
       "        6.62672932e+00, 2.63155977e+00, 5.35561491e+00, 5.96862381e+00,\n",
       "        6.31270838e+00, 2.80009710e+00, 5.59161230e+00, 4.91762556e+00,\n",
       "        5.14331717e+00, 2.00769995e+00, 4.47622380e+00, 1.97876562e+00,\n",
       "        2.47558374e+00, 3.71904894e+00, 5.01661939e+00, 5.05175088e+00,\n",
       "        3.23676024e+00, 4.82699717e+00, 2.52357934e+00, 5.08121720e+00,\n",
       "        2.49024560e+00, 4.20023776e+00, 3.81852207e+00, 4.37509622e+00,\n",
       "        1.95000584e+00, 4.68314973e+00, 1.90784219e+00, 3.08415967e+00,\n",
       "        4.94957909e+00, 4.13108413e+00, 2.10635317e+00, 3.54902439e+00,\n",
       "        4.62003858e+00, 2.64462529e+00, 4.62059033e+00, 3.38525402e+00,\n",
       "        4.33973231e+00, 3.02000575e+00, 2.34646038e+00, 4.35793216e+00,\n",
       "        4.30664239e+00, 2.40653506e+00, 1.83533311e+00, 3.54709038e+00,\n",
       "        3.23843051e+00, 3.55047524e+00, 3.52151455e+00, 3.23196681e+00,\n",
       "        2.88379106e+00, 3.70742453e+00, 3.24536307e+00, 2.62277535e+00,\n",
       "        2.44929208e+00, 2.89688282e+00, 3.06707600e+00, 3.56548473e+00,\n",
       "        2.96455394e+00, 2.83474494e+00, 2.54070272e+00, 3.37896187e+00,\n",
       "        3.27967218e+00, 2.39117628e+00, 2.54561486e+00, 3.19882691e+00,\n",
       "        2.37083529e+00, 2.82956121e+00, 2.63442796e+00, 2.07603366e+00,\n",
       "        2.39236720e+00, 2.92200964e+00, 2.47444935e+00, 2.18543293e+00,\n",
       "        2.20864158e+00, 2.02411275e+00, 1.76503045e+00, 1.98279422e+00,\n",
       "        1.48399886e+00, 2.49305797e+00, 2.02275243e+00, 1.57632347e+00,\n",
       "        1.91950968e+00, 1.92346468e+00, 2.11542233e+00, 6.68095706e-01,\n",
       "        1.84294213e+00, 1.85131477e+00, 1.75878173e+00, 1.62339955e+00,\n",
       "        1.86180725e+00, 1.77288261e+00, 1.83667510e+00, 1.57503464e+00,\n",
       "        1.70116621e+00, 1.66851470e+00, 6.42873485e-01, 1.61132121e+00,\n",
       "        1.33333333e+00, 1.49723220e+00, 5.00000000e-01, 1.13925179e+00,\n",
       "        1.76468945e+00, 1.48299864e+00, 1.58943166e+00, 1.66520071e+00,\n",
       "        1.33333333e+00, 1.60221083e+00, 1.36029931e+00, 1.18129567e+00,\n",
       "        1.15438903e+00, 1.19416388e+00, 5.00000000e-01, 1.11827173e+00,\n",
       "        1.07047701e+00, 8.93371642e-01, 1.04093894e+00, 1.03701433e+00,\n",
       "        7.24821549e-01, 9.15340477e-01, 8.07472640e-01, 9.57062931e-01,\n",
       "        8.83934683e-01, 8.32809961e-01, 8.85866385e-01, 1.08780915e+00,\n",
       "        7.13068763e-01, 4.94750217e-01, 6.71638291e-01, 6.93480490e-01,\n",
       "        8.04707127e-01, 9.36085478e-01, 5.19424575e-01, 5.57274402e-01,\n",
       "        7.18715520e-01, 8.41735168e-01, 8.18117719e-01, 5.52685047e-01,\n",
       "        4.48061397e-01, 4.04828496e-01, 3.88981371e-01, 6.92412118e-01,\n",
       "        5.00000000e-01, 4.53749367e-01, 4.57734926e-01, 3.69227357e-01,\n",
       "        4.31718564e-01, 3.16365764e-01, 5.70962348e-01, 5.29088945e-01,\n",
       "        2.64804929e-01, 3.59620342e-01, 4.97462163e-01, 3.79277105e-01,\n",
       "        3.05062794e-01, 4.46173380e-01, 2.61906949e-01, 2.81028835e-01,\n",
       "        1.89800458e-01, 3.82445325e-01, 3.67202490e-01, 1.49882970e-01,\n",
       "        1.86793104e-01, 1.13718489e-01, 1.41555069e-01, 2.95637861e-01,\n",
       "        1.42135113e-01, 4.45464793e-02, 2.56418718e-01, 2.43965610e-01,\n",
       "        1.28357395e-01, 1.16155089e-01, 1.32622549e-01, 1.19947299e-01,\n",
       "        1.01431813e-01, 1.63391272e-01, 1.65681898e-01, 7.91817022e-02,\n",
       "        5.88084079e-02, 7.10247151e-02, 6.71789706e-02, 1.66205546e-02,\n",
       "        1.06563656e-01, 2.40568599e-02, 1.63240591e-02, 8.67204961e-02,\n",
       "        3.59584207e-02, 7.03422813e-02, 5.26757646e-03, 5.98713773e-02,\n",
       "        2.10889398e-02, 1.21418621e-03, 9.93181336e-03, 2.66856262e-03,\n",
       "        4.20908745e-03, 2.16452024e-03, 1.98909373e-03, 1.93912188e-04,\n",
       "        1.07140674e-02, 4.48449473e-06, 1.27760331e-03, 1.09814075e-02,\n",
       "        2.56353732e-03, 1.37099940e-03, 7.31721704e-03, 3.25453660e-03,\n",
       "        1.99492110e-02, 5.81875792e-02, 5.07377957e-05, 4.19834606e-03,\n",
       "        2.59437697e-04, 8.52527568e-04, 1.73450291e-03, 1.24455167e-02,\n",
       "        4.42836236e-03, 3.91108078e-02, 8.33864410e-03, 5.07928446e-04,\n",
       "        4.04593578e-02, 5.95831812e-03, 3.72350974e-02, 2.36209127e-02,\n",
       "        7.01258710e-02, 3.64822781e-02, 5.25861494e-02, 8.75539779e-02,\n",
       "        4.66289650e-02, 9.32569324e-02, 1.14325217e-01, 6.41534315e-02,\n",
       "        1.09758258e-01, 1.65026269e-01, 8.41694816e-02, 8.06387200e-02,\n",
       "        1.62251939e-01, 5.52019809e-02, 1.69993338e-01, 2.12115073e-01,\n",
       "        2.38669706e-01, 2.65141823e-02, 3.01810700e-01, 2.02156791e-01,\n",
       "        2.68117443e-01, 3.08760061e-01, 3.40486597e-01, 2.04616504e-01,\n",
       "        2.36043546e-01, 2.96056710e-01, 4.41214986e-01, 2.78178524e-01,\n",
       "        3.48662402e-01, 5.07286542e-01, 2.90911623e-01, 4.98549017e-01,\n",
       "        5.31558547e-01, 3.32890678e-01, 5.44888796e-01, 3.68225584e-01,\n",
       "        3.76752018e-01, 7.12370915e-01, 4.08593561e-01, 8.06319767e-01,\n",
       "        7.03348158e-01, 8.42441816e-01, 8.75027991e-01, 4.92045684e-01,\n",
       "        8.26263933e-01, 5.27596320e-01, 9.94555642e-01, 5.64386835e-01,\n",
       "        5.88355039e-01, 6.02417228e-01, 9.67638828e-01, 9.41806194e-01,\n",
       "        8.67361276e-01, 8.81282037e-01, 7.02917679e-01, 1.05091447e+00,\n",
       "        1.02398582e+00, 9.77511338e-01, 8.07241999e-01, 8.95070759e-01,\n",
       "        8.33747216e-01, 1.39767547e+00, 1.59053543e+00, 1.16295436e+00,\n",
       "        9.25930902e-01, 1.33289594e+00, 1.65263757e+00, 1.33230331e+00,\n",
       "        1.12098779e+00, 1.05038826e+00, 1.31193832e+00, 1.77527585e+00,\n",
       "        2.03628251e+00, 1.39888958e+00, 1.18241188e+00, 1.89487569e+00,\n",
       "        1.23718063e+00, 1.33333333e+00, 1.58859368e+00, 1.52994004e+00,\n",
       "        1.61229886e+00, 1.37922551e+00, 1.89558244e+00, 1.64176606e+00,\n",
       "        1.70049669e+00, 1.94323464e+00, 1.52930511e+00, 1.94037312e+00,\n",
       "        1.94609826e+00, 2.02457818e+00, 1.65527848e+00, 2.20139951e+00,\n",
       "        2.52232445e+00, 2.09419563e+00, 2.48900669e+00, 2.31987247e+00,\n",
       "        1.85306145e+00, 2.42743287e+00, 2.40389475e+00, 2.40986815e+00,\n",
       "        2.32261001e+00, 2.02640476e+00, 2.76175120e+00, 2.09791187e+00,\n",
       "        2.78483427e+00, 2.99201875e+00, 2.20749730e+00, 2.88466293e+00,\n",
       "        2.65195529e+00, 2.35046774e+00, 2.35795079e+00, 2.67415605e+00,\n",
       "        2.43583852e+00, 2.36159099e+00, 2.62943082e+00, 3.34460536e+00,\n",
       "        2.25656156e+00, 2.63317823e+00, 3.05674537e+00, 3.35870322e+00,\n",
       "        2.90912855e+00, 2.98713672e+00, 2.54444347e+00, 3.81746138e+00,\n",
       "        4.15511796e+00, 3.30995738e+00, 3.00891461e+00, 3.46414233e+00,\n",
       "        3.24212695e+00, 3.45869584e+00, 3.69853848e+00, 3.22919863e+00,\n",
       "        3.69508375e+00, 3.74260368e+00, 4.63384210e+00, 4.37939251e+00,\n",
       "        3.45678661e+00, 4.29174006e+00, 4.27845624e+00, 3.59705904e+00,\n",
       "        4.47064428e+00, 4.18720995e+00, 3.74012119e+00, 3.78792892e+00,\n",
       "        4.33278361e+00, 4.25697358e+00, 4.55187749e+00, 3.98475750e+00,\n",
       "        4.72099883e+00, 5.47207687e+00, 5.31233859e+00, 3.72636684e+00,\n",
       "        4.23608637e+00, 4.51514198e+00, 4.59754768e+00, 3.75168516e+00,\n",
       "        5.32654705e+00, 4.49564494e+00, 5.27749012e+00, 5.16954664e+00,\n",
       "        5.56009410e+00, 5.99122092e+00, 3.63638574e+00, 4.81966859e+00,\n",
       "        5.29224242e+00, 5.47104767e+00, 6.45473744e+00, 4.64215517e+00,\n",
       "        5.09685171e+00, 4.98222825e+00, 6.49719626e+00, 6.43258366e+00,\n",
       "        5.32595465e+00, 3.99876080e+00, 4.67938720e+00, 5.49672312e+00,\n",
       "        6.80566924e+00, 5.61530941e+00, 6.93417046e+00, 6.33659323e+00]),\n",
       " 'tsScore': array([ 5.79370809,  5.85379426,  6.89003749,  6.88491554,  6.56245885,\n",
       "         5.26214402,  6.86539724,  6.79696677,  5.01246891,  4.65655917,\n",
       "         6.4085184 ,  6.46909253,  6.5352001 ,  5.85622125,  7.31438396,\n",
       "         6.91174928,  7.50372495,  6.96258847,  5.41310834,  7.73898274,\n",
       "         5.5050667 ,  7.67840525,  5.37255165,  5.63137143,  9.1140747 ,\n",
       "         9.0032631 ,  8.05563683,  5.54471412,  7.41947938, 10.10357111,\n",
       "         8.89804796,  8.74438818,  7.87021038,  8.2005333 ,  7.33048719,\n",
       "         6.06299127,  6.72904698,  6.0759776 ,  7.78172539,  5.76925274,\n",
       "         9.16840009,  8.56917632,  8.58345891,  8.67696365, 10.24521588,\n",
       "         5.93065726, 10.67355011,  7.87905028,  8.89637813,  7.93235757,\n",
       "         8.33763215,  6.05254766,  9.32764052,  9.97993393, 10.25261167,\n",
       "         8.07754007, 10.6819378 ,  6.35014886, 11.74666359, 11.5434478 ,\n",
       "        11.28502221,  7.84394609,  7.07884778, 10.84784708, 10.69368868,\n",
       "         6.41410906,  8.34804732,  8.19695099, 10.58233791,  8.70792003,\n",
       "        10.42835216, 12.33239256,  9.74550752, 10.99459842,  6.66960045,\n",
       "         6.66007448,  9.52573413, 12.87024878, 12.69496435, 11.49466138,\n",
       "        12.54178093,  6.83307001, 12.24269378, 11.6335225 , 12.82608518,\n",
       "        12.50544573,  7.00700381,  7.00807617, 12.81321843, 12.76995707,\n",
       "        12.58818475, 12.52996621, 11.91213032, 12.31877804,  8.59250488,\n",
       "         9.09390197, 10.7692188 ,  8.72833124, 14.76602934, 13.92323855,\n",
       "        12.41201414, 14.11449223,  8.00757196,  7.9933209 ,  7.24233916,\n",
       "        10.12189358, 12.62636404, 14.83614381, 14.07305556, 12.23067264,\n",
       "        14.26145425, 15.91261672,  7.8576413 ,  9.09883102, 15.39598704,\n",
       "        16.26916635, 15.91598062,  9.76058328,  8.27227645, 11.32313609,\n",
       "         8.35462862,  7.68239434,  9.0318731 , 14.08130033,  8.00189372,\n",
       "        16.94276061, 11.59808341,  8.4911843 , 13.62687495, 17.31884769,\n",
       "        12.68055431, 12.59616882,  8.26930886,  8.29745372,  8.68166266,\n",
       "        18.78763223, 18.31555559, 10.30439208, 10.3343403 , 17.11754176,\n",
       "        12.22069879,  0.51016884,  9.20468487, 14.12545769, 16.893954  ,\n",
       "         9.68619738, 10.11201446, 13.70469732,  9.78003445, 12.18590253,\n",
       "        18.53592094,  9.29107042,  8.80712696, 16.38320969, 16.2133125 ,\n",
       "         9.03405499,  9.46217096,  9.53051804, 12.67068393, 11.13568839,\n",
       "        10.46565657, 18.11438709, 21.23929794,  9.29335174, 14.38608295,\n",
       "        19.90181436, 15.17326399, 11.6402881 ,  9.7090225 ,  9.38946457,\n",
       "        12.05619019, 13.35452892, 14.90233044, 23.40834606,  9.56214965,\n",
       "        12.61195493, 13.15085809, 11.53328938, 23.46177841, 15.58684125,\n",
       "        14.91608851, 13.73400106, 17.29816665,  9.80577426,  9.84283827,\n",
       "        12.6298922 , 22.66442451, 21.71459875, 24.83656867, 11.92959062,\n",
       "        10.46742678, 22.87860058, 21.58696388, 10.15594357, 10.04536318,\n",
       "        14.54808012, 13.63711066, 15.56714221, 15.74402993, 10.01680116,\n",
       "        11.96725874, 24.66034863, 21.82050262, 15.63514287, 10.80834691,\n",
       "        16.31107354, 15.88891763, 10.46945381, 14.91182864, 10.72783702,\n",
       "        12.52949912, 10.50836506, 25.77006228, 11.09121075, 25.71666498,\n",
       "        16.13625225, 16.50471473, 12.6556521 , 19.67665402, 15.98510685,\n",
       "        16.25516233, 16.90094219, 28.18935749, 23.32255661, 13.14057063,\n",
       "        16.46962761, 27.31181127, 17.28897313, 18.28980662, 18.43104695,\n",
       "        16.9248695 , 11.48423156, 11.59643101, 16.89982463, 11.61389528,\n",
       "        13.59830202, 21.04633265, 22.83299438, 11.75642804, 12.47067454,\n",
       "        17.54255378, 17.76042098, 12.00786879, 13.4901425 , 29.76300357,\n",
       "        17.97161769, 13.24893413, 19.83418296, 25.49057531, 22.91267302,\n",
       "        21.89605493, 17.75401518, 18.96656703, 15.39636019, 25.05440867,\n",
       "        17.72524929, 32.83521932, 17.92856431, 18.07364273, 13.55754193,\n",
       "        16.64249988, 32.11554108, 12.4624791 , 14.69134486, 18.54840246,\n",
       "        15.55665184, 14.7929015 , 19.51262023, 12.92515248, 16.88461082,\n",
       "        18.16420892, 15.48424176, 18.22819359, 18.97384506, 13.16590986,\n",
       "        13.17960083, 15.15162811, 20.58390918, 14.77100312, 13.76463684,\n",
       "        18.65694327, 13.06595467, 13.42724106, 37.7485002 , 13.13894749,\n",
       "        18.30127288, 24.06515704, 37.52488753, 14.84730041]),\n",
       " 'CL': 12.12891666818058}"
      ]
     },
     "execution_count": 35,
     "metadata": {},
     "output_type": "execute_result"
    }
   ],
   "source": [
    "cb"
   ]
  },
  {
   "cell_type": "code",
   "execution_count": 36,
   "id": "fedd3f00",
   "metadata": {},
   "outputs": [],
   "source": [
    "import matplotlib.pyplot as plt"
   ]
  },
  {
   "cell_type": "code",
   "execution_count": 27,
   "id": "ecc465be",
   "metadata": {},
   "outputs": [
    {
     "data": {
      "image/png": "[encoded data removed]",
      "text/plain": [
       "<Figure size 576x288 with 1 Axes>"
      ]
     },
     "metadata": {
      "needs_background": "light"
     },
     "output_type": "display_data"
    }
   ],
   "source": [
    "plt.figure(figsize=(8,4))\n",
    "plt.plot()\n",
    "plt.show()"
   ]
  },
  {
   "cell_type": "code",
   "execution_count": null,
   "id": "56ccbe29",
   "metadata": {},
   "outputs": [],
   "source": []
  }
 ],
 "metadata": {
  "kernelspec": {
   "display_name": "Python 3 (ipykernel)",
   "language": "python",
   "name": "python3"
  },
  "language_info": {
   "codemirror_mode": {
    "name": "ipython",
    "version": 3
   },
   "file_extension": ".py",
   "mimetype": "text/x-python",
   "name": "python",
   "nbconvert_exporter": "python",
   "pygments_lexer": "ipython3",
   "version": "3.8.12"
  }
 },
 "nbformat": 4,
 "nbformat_minor": 5
}
