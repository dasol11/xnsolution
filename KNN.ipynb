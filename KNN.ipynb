{
 "cells": [
  {
   "cell_type": "code",
   "execution_count": null,
   "id": "2371f970",
   "metadata": {},
   "outputs": [],
   "source": [
    "\"\"\"\n",
    "Created on Thur Jul  7 16:20:39 2022\n",
    "\n",
    "@author: Junhyun\n",
    "\"\"\"\n",
    "\n",
    "import numpy as np\n",
    "import pandas as pd\n",
    "from sklearn.metrics import r2_score\n",
    "from sklearn.metrics import mean_squared_error\n",
    "from sklearn.neighbors import KNeighborsRegressor\n",
    "\n",
    "def MAPE_regression(y_test, y_pred):\n",
    "    return np.mean(np.abs((y_test - y_pred) / y_test)) * 100 \n",
    "\n",
    "# KNN (Regression)\n",
    "def knnRegressor(x_train, y_train, x_test, y_test, n_neighbors=3):\n",
    "    '''\n",
    "        @Input \n",
    "            trainX : type : array\n",
    "            trainY : type : array\n",
    "            testX : type : array\n",
    "            n_neighbors : type : int\n",
    "        @Output\n",
    "            pred : type : array\n",
    "    '''\n",
    "    model = KNeighborsRegressor(n_neighbors=n_neighbors)\n",
    "    model.fit(x_train, y_train)\n",
    "    y_pred = model.predict(x_test)\n",
    "    \n",
    "    MSE = mean_squared_error(y_test, y_pred)#MSE 값은 출력하지 않아도 됩니다. RMSE를 구하기 위한 절차입니다.    \n",
    "\n",
    "    #출력 대상입니다. 성능지표로써 3가지값이 출력되게 됩니다.\n",
    "    RMSE = np.sqrt(MSE)\n",
    "    MAPE = MAPE_regression(y_test,y_pred)\n",
    "    R_squared = r2_score(y_test,y_pred)\n",
    "\n",
    "    return({\"y_pred\":y_pred, \"RMSE\":RMSE, \"MAPE\":MAPE, \"R_squared\":R_squared})\n",
    "\n",
    "regdat = pd.read_csv('E:\\\\연구실\\\\연구과제\\\\엑센솔루션\\\\py\\\\data\\\\regression\\\\RMS_bearing.csv')\n",
    "\n",
    "train_x = regdat.values[0:500,0:3]\n",
    "train_y = regdat.values[0:500,3]\n",
    "test_x = regdat.values[500:983,0:3]\n",
    "test_y = regdat.values[500:983,3]\n",
    "\n",
    "knn = knnRegressor(x_train, y_train, x_test, y_test, n_neighbors=3)"
   ]
  },
  {
   "cell_type": "code",
   "execution_count": 2,
   "id": "bbcc3d70",
   "metadata": {},
   "outputs": [],
   "source": [
    "from sklearn.neighbors import KNeighborsClassifier\n",
    "from sklearn.metrics import roc_auc_score\n",
    "from sklearn.metrics import roc_curve\n",
    "import joblib\n",
    "\n",
    "# KNN (Classification)\n",
    "def knnClassifier(x_train, y_train, x_test, y_test, n_neighbors=3):\n",
    "    '''\n",
    "    @Input \n",
    "        trainX : type : array\n",
    "        trainY : type : array\n",
    "        testX : type : array\n",
    "        n_neighbors : type : int\n",
    "    @Output\n",
    "        pred : type : array\n",
    "    '''\n",
    "    model = KNeighborsClassifier(n_neighbors=3)\n",
    "    model.fit(x_train, y_train)\n",
    "    \n",
    "    # KNN 모델 Pickle 파일로 저장 (경로 따로 설정 필요)\n",
    "    saveModel = joblib.dump(model, \"model.pkl\")\n",
    "    \n",
    "    y_pred = model.predict(x_test) # 불량 : 1, 정상 : 0\n",
    "    \n",
    "    # calculate AUC of model\n",
    "    auc = roc_auc_score(y_test, y_pred)\n",
    "    fpr, tpr, thresholds = roc_curve(y_test, y_pred)\n",
    "    \n",
    "    return({\"auc_score\": auc, \"fpr\":fpr, \"tpr\":tpr})"
   ]
  },
  {
   "cell_type": "code",
   "execution_count": 1,
   "id": "6ed3a091",
   "metadata": {},
   "outputs": [],
   "source": [
    "import pandas as pd\n",
    "import numpy as np\n",
    "df = pd.read_csv('/workspace/xnsolution/data/사출6호기테스트.csv', encoding='euc-kr', header=None)\n",
    "\n",
    "trainX = df.iloc[:,7:9]\n",
    "trainY = df.iloc[:,0]\n",
    "testX = df.iloc[:,7:9]\n",
    "testY = df.iloc[:,0]"
   ]
  },
  {
   "cell_type": "code",
   "execution_count": 4,
   "id": "0c725a88",
   "metadata": {},
   "outputs": [
    {
     "data": {
      "text/plain": [
       "KNeighborsClassifier(n_neighbors=3)"
      ]
     },
     "execution_count": 4,
     "metadata": {},
     "output_type": "execute_result"
    }
   ],
   "source": [
    "model = KNeighborsClassifier(n_neighbors=3)\n",
    "model.fit(trainX, trainY)"
   ]
  },
  {
   "cell_type": "code",
   "execution_count": 5,
   "id": "7fe772f6",
   "metadata": {},
   "outputs": [],
   "source": [
    "pred_prob = model.predict_proba(testX)"
   ]
  },
  {
   "cell_type": "code",
   "execution_count": 14,
   "id": "4477bc82",
   "metadata": {},
   "outputs": [
    {
     "data": {
      "text/plain": [
       "0    3231\n",
       "1       2\n",
       "Name: 0, dtype: int64"
      ]
     },
     "execution_count": 14,
     "metadata": {},
     "output_type": "execute_result"
    }
   ],
   "source": [
    "testY.value_counts()"
   ]
  },
  {
   "cell_type": "code",
   "execution_count": 10,
   "id": "bd636fdd",
   "metadata": {},
   "outputs": [
    {
     "data": {
      "image/png": "[encoded data removed]",
      "text/plain": [
       "<Figure size 576x288 with 1 Axes>"
      ]
     },
     "metadata": {
      "needs_background": "light"
     },
     "output_type": "display_data"
    }
   ],
   "source": [
    "import matplotlib.pyplot as plt\n",
    "plt.figure(figsize=(8,4))\n",
    "plt.plot(pred_prob)\n",
    "plt.show()"
   ]
  },
  {
   "cell_type": "code",
   "execution_count": null,
   "id": "6fcf0524",
   "metadata": {},
   "outputs": [],
   "source": [
    "y_pred = model.predict(x_test) # 불량 : 1, 정상 : 0"
   ]
  },
  {
   "cell_type": "code",
   "execution_count": null,
   "id": "b72ba6db",
   "metadata": {},
   "outputs": [],
   "source": []
  }
 ],
 "metadata": {
  "kernelspec": {
   "display_name": "Python 3 (ipykernel)",
   "language": "python",
   "name": "python3"
  },
  "language_info": {
   "codemirror_mode": {
    "name": "ipython",
    "version": 3
   },
   "file_extension": ".py",
   "mimetype": "text/x-python",
   "name": "python",
   "nbconvert_exporter": "python",
   "pygments_lexer": "ipython3",
   "version": "3.8.12"
  }
 },
 "nbformat": 4,
 "nbformat_minor": 5
}
