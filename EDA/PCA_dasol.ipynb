{
 "cells": [
  {
   "cell_type": "code",
   "execution_count": 69,
   "id": "9eff87c2",
   "metadata": {},
   "outputs": [],
   "source": [
    "import pandas as pd\n",
    "import matplotlib.pyplot as plt\n",
    "import matplotlib\n",
    "from matplotlib import rc\n",
    "%matplotlib inline\n",
    "from matplotlib import font_manager\n",
    "import numpy as np\n",
    "from sklearn.preprocessing import MinMaxScaler"
   ]
  },
  {
   "cell_type": "code",
   "execution_count": 70,
   "id": "01723311",
   "metadata": {},
   "outputs": [],
   "source": [
    "data = '/workspace/xnsolution/data/6호기_6월_0725.csv'"
   ]
  },
  {
   "cell_type": "code",
   "execution_count": 122,
   "id": "ccdbbec8",
   "metadata": {},
   "outputs": [],
   "source": [
    "df  = pd.read_csv(data, encoding = 'euc-kr')\n",
    "# df  = pd.read_csv(data, encoding = 'euc-kr',index_col= \"날짜 및 시간\")"
   ]
  },
  {
   "cell_type": "code",
   "execution_count": 123,
   "id": "b4fdee6e",
   "metadata": {},
   "outputs": [],
   "source": [
    "from sklearn.preprocessing import StandardScaler "
   ]
  },
  {
   "cell_type": "code",
   "execution_count": 124,
   "id": "02fa8b11",
   "metadata": {},
   "outputs": [
    {
     "name": "stdout",
     "output_type": "stream",
     "text": [
      "['판정코드', '판정명', '순번', '기계코드', '기계이름', '날짜 및 시간', '공정횟수', '보압+사출시간', '사출시간', '계량시간', '공정시간', '형폐시간', '쿠션위치', '보압절환위치', '계량완료위치', '형계위치', '사출최대속도', '사출최대압력', '보압절환압력', '최대배압', '히터1', '히터2', '히터3', '히터4', '히터5', '히터6', '히터7', '호퍼온도', '금형온도1(외부온도1)', '금형온도2(외부온도2)', '금형온도3(외부온도3)', '금형온도4(외부온도4)', '금형온도5(외부온도5)', '금형온도6(외부온도6)', '금형온도7(외부온도7)', '금형온도8(외부온도8)', '금형온도9(외부온도9)', '금형온도10(외부온도10)', 'SETTING_사출속도_1', 'SETTING_사출속도_2', 'SETTING_사출속도_3', 'SETTING_사출속도_4', 'SETTING_사출속도_5', 'SETTING_사출속도_6', 'SETTING_사출속도_7', 'SETTING_사출속도_8', 'SETTING_사출속도_9', 'SETTING_사출속도_10', 'SETTING_사출압력_1', 'SETTING_사출압력_2', 'SETTING_사출압력_3', 'SETTING_사출압력_4', 'SETTING_사출압력_5', 'SETTING_사출압력_6', 'SETTING_사출압력_7', 'SETTING_사출압력_8', 'SETTING_사출압력_9', 'SETTING_사출압력_10', 'SETTING_사출거리_1', 'SETTING_사출거리_2', 'SETTING_사출거리_3', 'SETTING_사출거리_4', 'SETTING_사출거리_5', 'SETTING_사출거리_6', 'SETTING_사출거리_7', 'SETTING_사출거리_8', 'SETTING_사출거리_9', 'SETTING_사출거리_10', 'SETTING_보압압력_1', 'SETTING_보압압력_2', 'SETTING_보압압력_3', 'SETTING_보압압력_4', 'SETTING_보압압력_5', 'SETTING_보압시간_1', 'SETTING_보압시간_2', 'SETTING_보압시간_3', 'SETTING_보압시간_4', 'SETTING_보압시간_5', 'SETTING_보압속도_1', 'SETTING_보압속도_2', 'SETTING_보압속도_3', 'SETTING_보압속도_4', 'SETTING_보압속도_5', 'SETTING_계량위치_1', 'SETTING_계량위치_2', 'SETTING_계량위치_3', 'SETTING_계량위치_4', 'SETTING_계량속도_1', 'SETTING_계량속도_2', 'SETTING_계량속도_3', 'SETTING_계량속도_4', 'SETTING_배압_1', 'SETTING_배압_2', 'SETTING_배압_3', 'SETTING_배압_4', 'SETTING_강제후퇴거리_1', 'SETTING_강제후퇴거리_2', 'SETTING_강제후퇴속도_1', 'SETTING_강제후퇴속도_2', 'SETTING_히터_1', 'SETTING_히터_2', 'SETTING_히터_3', 'SETTING_히터_4', 'SETTING_히터_5', 'SETTING_히터_6', 'SETTING_히터_7', 'SETTING_호퍼온도', 'SETTING_금형온도1(외부온도1)', 'SETTING_금형온도2(외부온도2)', 'SETTING_금형온도3(외부온도3)', 'SETTING_금형온도4(외부온도4)', 'SETTING_금형온도5(외부온도5)', 'SETTING_금형온도6(외부온도6)', 'SETTING_금형온도7(외부온도7)', 'SETTING_금형온도8(외부온도8)', 'SETTING_금형온도9(외부온도9)', 'SETTING_금형온도10(외부온도10)', 'SETTING_금형온도11(외부온도11)', 'SETTING_금형온도12(외부온도12)', 'SETTING_사출시간', 'SETTING_냉각시간', 'SETTING_사출지연시간', 'SETTING_계량지연시간', '작업일자', '기계코드.1', '주야구분', '작업순번', '작업시작일시', '작업종료일시', '품번', '원료', '작업자', '캐비티', '생산카운트', '양품카운트', '퍼징', '순번.1', '기계코드.2', '불량코드', '불량이름', '불량일시', 'CNT']\n"
     ]
    }
   ],
   "source": [
    "col_list= df.columns.tolist()\n",
    "print(col_list)"
   ]
  },
  {
   "cell_type": "code",
   "execution_count": 125,
   "id": "845335b5",
   "metadata": {},
   "outputs": [
    {
     "name": "stdout",
     "output_type": "stream",
     "text": [
      "['보압+사출시간', '사출시간', '계량시간', '공정시간', '형폐시간', '쿠션위치', '보압절환위치', '계량완료위치', '형계위치', '사출최대속도', '사출최대압력', '보압절환압력', '최대배압', '히터1', '히터2', '히터3', '히터4', '히터5', '히터6', '히터7', '호퍼온도', '금형온도1(외부온도1)', '금형온도2(외부온도2)', '금형온도3(외부온도3)', '금형온도4(외부온도4)', '금형온도5(외부온도5)', '금형온도6(외부온도6)', '금형온도7(외부온도7)', '금형온도8(외부온도8)', '금형온도9(외부온도9)', '금형온도10(외부온도10)']\n"
     ]
    }
   ],
   "source": [
    "col_list = col_list[7:38]\n",
    "print(col_list)"
   ]
  },
  {
   "cell_type": "code",
   "execution_count": 128,
   "id": "7c10492c",
   "metadata": {},
   "outputs": [],
   "source": [
    "df = df.iloc[22342:,:]"
   ]
  },
  {
   "cell_type": "code",
   "execution_count": 131,
   "id": "a3811d4b",
   "metadata": {},
   "outputs": [],
   "source": [
    "df_sen  = df.iloc[:,7:38] "
   ]
  },
  {
   "cell_type": "code",
   "execution_count": 132,
   "id": "17e1ad92",
   "metadata": {},
   "outputs": [
    {
     "data": {
      "text/html": [
       "<div>\n",
       "<style scoped>\n",
       "    .dataframe tbody tr th:only-of-type {\n",
       "        vertical-align: middle;\n",
       "    }\n",
       "\n",
       "    .dataframe tbody tr th {\n",
       "        vertical-align: top;\n",
       "    }\n",
       "\n",
       "    .dataframe thead th {\n",
       "        text-align: right;\n",
       "    }\n",
       "</style>\n",
       "<table border=\"1\" class=\"dataframe\">\n",
       "  <thead>\n",
       "    <tr style=\"text-align: right;\">\n",
       "      <th></th>\n",
       "      <th>보압+사출시간</th>\n",
       "      <th>사출시간</th>\n",
       "      <th>계량시간</th>\n",
       "      <th>공정시간</th>\n",
       "      <th>형폐시간</th>\n",
       "      <th>쿠션위치</th>\n",
       "      <th>보압절환위치</th>\n",
       "      <th>계량완료위치</th>\n",
       "      <th>형계위치</th>\n",
       "      <th>사출최대속도</th>\n",
       "      <th>...</th>\n",
       "      <th>금형온도1(외부온도1)</th>\n",
       "      <th>금형온도2(외부온도2)</th>\n",
       "      <th>금형온도3(외부온도3)</th>\n",
       "      <th>금형온도4(외부온도4)</th>\n",
       "      <th>금형온도5(외부온도5)</th>\n",
       "      <th>금형온도6(외부온도6)</th>\n",
       "      <th>금형온도7(외부온도7)</th>\n",
       "      <th>금형온도8(외부온도8)</th>\n",
       "      <th>금형온도9(외부온도9)</th>\n",
       "      <th>금형온도10(외부온도10)</th>\n",
       "    </tr>\n",
       "  </thead>\n",
       "  <tbody>\n",
       "    <tr>\n",
       "      <th>22342</th>\n",
       "      <td>1.3</td>\n",
       "      <td>0.6</td>\n",
       "      <td>2.9</td>\n",
       "      <td>31.1</td>\n",
       "      <td>4.0</td>\n",
       "      <td>6.4</td>\n",
       "      <td>15.9</td>\n",
       "      <td>36.6</td>\n",
       "      <td>333.7</td>\n",
       "      <td>58.2</td>\n",
       "      <td>...</td>\n",
       "      <td>0</td>\n",
       "      <td>0</td>\n",
       "      <td>0</td>\n",
       "      <td>0</td>\n",
       "      <td>0</td>\n",
       "      <td>0</td>\n",
       "      <td>0</td>\n",
       "      <td>0</td>\n",
       "      <td>0</td>\n",
       "      <td>0</td>\n",
       "    </tr>\n",
       "    <tr>\n",
       "      <th>22343</th>\n",
       "      <td>1.6</td>\n",
       "      <td>0.9</td>\n",
       "      <td>2.4</td>\n",
       "      <td>24.2</td>\n",
       "      <td>4.0</td>\n",
       "      <td>10.9</td>\n",
       "      <td>15.9</td>\n",
       "      <td>36.6</td>\n",
       "      <td>333.7</td>\n",
       "      <td>52.5</td>\n",
       "      <td>...</td>\n",
       "      <td>0</td>\n",
       "      <td>0</td>\n",
       "      <td>0</td>\n",
       "      <td>0</td>\n",
       "      <td>0</td>\n",
       "      <td>0</td>\n",
       "      <td>0</td>\n",
       "      <td>0</td>\n",
       "      <td>0</td>\n",
       "      <td>0</td>\n",
       "    </tr>\n",
       "    <tr>\n",
       "      <th>22344</th>\n",
       "      <td>1.6</td>\n",
       "      <td>0.9</td>\n",
       "      <td>2.0</td>\n",
       "      <td>44.4</td>\n",
       "      <td>4.0</td>\n",
       "      <td>12.4</td>\n",
       "      <td>15.9</td>\n",
       "      <td>36.6</td>\n",
       "      <td>333.7</td>\n",
       "      <td>51.7</td>\n",
       "      <td>...</td>\n",
       "      <td>0</td>\n",
       "      <td>0</td>\n",
       "      <td>0</td>\n",
       "      <td>0</td>\n",
       "      <td>0</td>\n",
       "      <td>0</td>\n",
       "      <td>0</td>\n",
       "      <td>0</td>\n",
       "      <td>0</td>\n",
       "      <td>0</td>\n",
       "    </tr>\n",
       "    <tr>\n",
       "      <th>22345</th>\n",
       "      <td>1.6</td>\n",
       "      <td>0.9</td>\n",
       "      <td>2.0</td>\n",
       "      <td>23.9</td>\n",
       "      <td>4.0</td>\n",
       "      <td>12.0</td>\n",
       "      <td>15.9</td>\n",
       "      <td>36.7</td>\n",
       "      <td>333.9</td>\n",
       "      <td>52.3</td>\n",
       "      <td>...</td>\n",
       "      <td>0</td>\n",
       "      <td>0</td>\n",
       "      <td>0</td>\n",
       "      <td>0</td>\n",
       "      <td>0</td>\n",
       "      <td>0</td>\n",
       "      <td>0</td>\n",
       "      <td>0</td>\n",
       "      <td>0</td>\n",
       "      <td>0</td>\n",
       "    </tr>\n",
       "    <tr>\n",
       "      <th>22346</th>\n",
       "      <td>1.6</td>\n",
       "      <td>0.9</td>\n",
       "      <td>1.8</td>\n",
       "      <td>35.8</td>\n",
       "      <td>4.0</td>\n",
       "      <td>12.7</td>\n",
       "      <td>15.9</td>\n",
       "      <td>36.6</td>\n",
       "      <td>333.9</td>\n",
       "      <td>50.5</td>\n",
       "      <td>...</td>\n",
       "      <td>0</td>\n",
       "      <td>0</td>\n",
       "      <td>0</td>\n",
       "      <td>0</td>\n",
       "      <td>0</td>\n",
       "      <td>0</td>\n",
       "      <td>0</td>\n",
       "      <td>0</td>\n",
       "      <td>0</td>\n",
       "      <td>0</td>\n",
       "    </tr>\n",
       "  </tbody>\n",
       "</table>\n",
       "<p>5 rows × 31 columns</p>\n",
       "</div>"
      ],
      "text/plain": [
       "       보압+사출시간  사출시간  계량시간  공정시간  형폐시간  쿠션위치  보압절환위치  계량완료위치   형계위치  사출최대속도  \\\n",
       "22342      1.3   0.6   2.9  31.1   4.0   6.4    15.9    36.6  333.7    58.2   \n",
       "22343      1.6   0.9   2.4  24.2   4.0  10.9    15.9    36.6  333.7    52.5   \n",
       "22344      1.6   0.9   2.0  44.4   4.0  12.4    15.9    36.6  333.7    51.7   \n",
       "22345      1.6   0.9   2.0  23.9   4.0  12.0    15.9    36.7  333.9    52.3   \n",
       "22346      1.6   0.9   1.8  35.8   4.0  12.7    15.9    36.6  333.9    50.5   \n",
       "\n",
       "       ...  금형온도1(외부온도1)  금형온도2(외부온도2)  금형온도3(외부온도3)  금형온도4(외부온도4)  \\\n",
       "22342  ...             0             0             0             0   \n",
       "22343  ...             0             0             0             0   \n",
       "22344  ...             0             0             0             0   \n",
       "22345  ...             0             0             0             0   \n",
       "22346  ...             0             0             0             0   \n",
       "\n",
       "       금형온도5(외부온도5)  금형온도6(외부온도6)  금형온도7(외부온도7)  금형온도8(외부온도8)  금형온도9(외부온도9)  \\\n",
       "22342             0             0             0             0             0   \n",
       "22343             0             0             0             0             0   \n",
       "22344             0             0             0             0             0   \n",
       "22345             0             0             0             0             0   \n",
       "22346             0             0             0             0             0   \n",
       "\n",
       "       금형온도10(외부온도10)  \n",
       "22342               0  \n",
       "22343               0  \n",
       "22344               0  \n",
       "22345               0  \n",
       "22346               0  \n",
       "\n",
       "[5 rows x 31 columns]"
      ]
     },
     "execution_count": 132,
     "metadata": {},
     "output_type": "execute_result"
    }
   ],
   "source": [
    "df_sen.head()"
   ]
  },
  {
   "cell_type": "code",
   "execution_count": 133,
   "id": "a6343b81",
   "metadata": {},
   "outputs": [
    {
     "name": "stdout",
     "output_type": "stream",
     "text": [
      "[ 0  1  2  3  4  5  6  7  8  9 10 11 14 15 16 17 18 19 20]\n"
     ]
    }
   ],
   "source": [
    "li  = np.where(round(df_sen.describe().iloc[2,:], 4) != 0)[0]\n",
    "print(li)"
   ]
  },
  {
   "cell_type": "code",
   "execution_count": 134,
   "id": "9a2d7976",
   "metadata": {},
   "outputs": [],
   "source": [
    "df1 = df_sen.iloc[:, li]"
   ]
  },
  {
   "cell_type": "code",
   "execution_count": 135,
   "id": "74715ba7",
   "metadata": {},
   "outputs": [
    {
     "data": {
      "text/plain": [
       "array([[0.05      , 0.025     , 0.21621622, ..., 0.69135802, 0.86384977,\n",
       "        0.84583333],\n",
       "       [0.0875    , 0.0625    , 0.14864865, ..., 0.74074074, 0.86384977,\n",
       "        0.84583333],\n",
       "       [0.0875    , 0.0625    , 0.09459459, ..., 0.7654321 , 0.85915493,\n",
       "        0.85      ],\n",
       "       ...,\n",
       "       [0.0375    , 0.0375    , 0.08108108, ..., 0.75308642, 0.1971831 ,\n",
       "        0.89166667],\n",
       "       [0.0375    , 0.0375    , 0.04054054, ..., 0.75308642, 0.20657277,\n",
       "        0.89166667],\n",
       "       [0.0375    , 0.0375    , 0.04054054, ..., 0.75308642, 0.20657277,\n",
       "        0.89166667]])"
      ]
     },
     "execution_count": 135,
     "metadata": {},
     "output_type": "execute_result"
    }
   ],
   "source": [
    "scaler = MinMaxScaler()\n",
    "scaler.fit_transform(df1)"
   ]
  },
  {
   "cell_type": "code",
   "execution_count": 136,
   "id": "11c7a253",
   "metadata": {},
   "outputs": [],
   "source": [
    "df_scaled = scaler.transform(df1)"
   ]
  },
  {
   "cell_type": "code",
   "execution_count": 137,
   "id": "eb6e012d",
   "metadata": {},
   "outputs": [
    {
     "data": {
      "text/plain": [
       "array([[0.05      , 0.025     , 0.21621622, ..., 0.69135802, 0.86384977,\n",
       "        0.84583333],\n",
       "       [0.0875    , 0.0625    , 0.14864865, ..., 0.74074074, 0.86384977,\n",
       "        0.84583333],\n",
       "       [0.0875    , 0.0625    , 0.09459459, ..., 0.7654321 , 0.85915493,\n",
       "        0.85      ],\n",
       "       ...,\n",
       "       [0.0375    , 0.0375    , 0.08108108, ..., 0.75308642, 0.1971831 ,\n",
       "        0.89166667],\n",
       "       [0.0375    , 0.0375    , 0.04054054, ..., 0.75308642, 0.20657277,\n",
       "        0.89166667],\n",
       "       [0.0375    , 0.0375    , 0.04054054, ..., 0.75308642, 0.20657277,\n",
       "        0.89166667]])"
      ]
     },
     "execution_count": 137,
     "metadata": {},
     "output_type": "execute_result"
    }
   ],
   "source": [
    "df_scaled"
   ]
  },
  {
   "cell_type": "code",
   "execution_count": 138,
   "id": "61fe566f",
   "metadata": {},
   "outputs": [],
   "source": [
    "from sklearn.decomposition import PCA\n",
    "import seaborn as sns"
   ]
  },
  {
   "cell_type": "code",
   "execution_count": 139,
   "id": "1d802b6d",
   "metadata": {},
   "outputs": [],
   "source": [
    "pca = PCA(n_components=2)\n"
   ]
  },
  {
   "cell_type": "code",
   "execution_count": 140,
   "id": "bac3a811",
   "metadata": {},
   "outputs": [],
   "source": [
    "df_pca = pca.fit_transform(df_scaled)"
   ]
  },
  {
   "cell_type": "code",
   "execution_count": 141,
   "id": "79e89309",
   "metadata": {},
   "outputs": [
    {
     "data": {
      "text/plain": [
       "array([[-0.2108886 ,  0.50631868],\n",
       "       [-0.36446756,  0.34953634],\n",
       "       [-0.40625291,  0.29835443],\n",
       "       ...,\n",
       "       [ 0.14435522, -0.07883657],\n",
       "       [ 0.1233504 , -0.09680868],\n",
       "       [ 0.1233504 , -0.09680868]])"
      ]
     },
     "execution_count": 141,
     "metadata": {},
     "output_type": "execute_result"
    }
   ],
   "source": [
    "df_pca"
   ]
  },
  {
   "cell_type": "code",
   "execution_count": 142,
   "id": "dfca45e9",
   "metadata": {},
   "outputs": [
    {
     "data": {
      "text/plain": [
       "[<matplotlib.lines.Line2D at 0x7f03932d0340>]"
      ]
     },
     "execution_count": 142,
     "metadata": {},
     "output_type": "execute_result"
    },
    {
     "data": {
      "image/png": "[encoded data removed]",
      "text/plain": [
       "<Figure size 432x288 with 1 Axes>"
      ]
     },
     "metadata": {
      "needs_background": "light"
     },
     "output_type": "display_data"
    }
   ],
   "source": [
    "plt. plot (pca.explained_variance_, 'o-')\n"
   ]
  },
  {
   "cell_type": "code",
   "execution_count": 143,
   "id": "41cf8b4a",
   "metadata": {},
   "outputs": [
    {
     "name": "stdout",
     "output_type": "stream",
     "text": [
      "[0.12147772 0.07584817]\n"
     ]
    }
   ],
   "source": [
    "print(pca.explained_variance_)"
   ]
  },
  {
   "cell_type": "code",
   "execution_count": 144,
   "id": "8fa82c99",
   "metadata": {},
   "outputs": [],
   "source": [
    "pca_pred  = pd.DataFrame(df_pca)"
   ]
  },
  {
   "cell_type": "code",
   "execution_count": 145,
   "id": "2bd57b1c",
   "metadata": {},
   "outputs": [
    {
     "data": {
      "text/html": [
       "<div>\n",
       "<style scoped>\n",
       "    .dataframe tbody tr th:only-of-type {\n",
       "        vertical-align: middle;\n",
       "    }\n",
       "\n",
       "    .dataframe tbody tr th {\n",
       "        vertical-align: top;\n",
       "    }\n",
       "\n",
       "    .dataframe thead th {\n",
       "        text-align: right;\n",
       "    }\n",
       "</style>\n",
       "<table border=\"1\" class=\"dataframe\">\n",
       "  <thead>\n",
       "    <tr style=\"text-align: right;\">\n",
       "      <th></th>\n",
       "      <th>0</th>\n",
       "      <th>1</th>\n",
       "    </tr>\n",
       "  </thead>\n",
       "  <tbody>\n",
       "    <tr>\n",
       "      <th>0</th>\n",
       "      <td>-0.210889</td>\n",
       "      <td>0.506319</td>\n",
       "    </tr>\n",
       "    <tr>\n",
       "      <th>1</th>\n",
       "      <td>-0.364468</td>\n",
       "      <td>0.349536</td>\n",
       "    </tr>\n",
       "    <tr>\n",
       "      <th>2</th>\n",
       "      <td>-0.406253</td>\n",
       "      <td>0.298354</td>\n",
       "    </tr>\n",
       "    <tr>\n",
       "      <th>3</th>\n",
       "      <td>-0.386626</td>\n",
       "      <td>0.315874</td>\n",
       "    </tr>\n",
       "    <tr>\n",
       "      <th>4</th>\n",
       "      <td>-0.414865</td>\n",
       "      <td>0.291986</td>\n",
       "    </tr>\n",
       "    <tr>\n",
       "      <th>...</th>\n",
       "      <td>...</td>\n",
       "      <td>...</td>\n",
       "    </tr>\n",
       "    <tr>\n",
       "      <th>25513</th>\n",
       "      <td>0.129912</td>\n",
       "      <td>-0.085531</td>\n",
       "    </tr>\n",
       "    <tr>\n",
       "      <th>25514</th>\n",
       "      <td>0.144355</td>\n",
       "      <td>-0.078837</td>\n",
       "    </tr>\n",
       "    <tr>\n",
       "      <th>25515</th>\n",
       "      <td>0.144355</td>\n",
       "      <td>-0.078837</td>\n",
       "    </tr>\n",
       "    <tr>\n",
       "      <th>25516</th>\n",
       "      <td>0.123350</td>\n",
       "      <td>-0.096809</td>\n",
       "    </tr>\n",
       "    <tr>\n",
       "      <th>25517</th>\n",
       "      <td>0.123350</td>\n",
       "      <td>-0.096809</td>\n",
       "    </tr>\n",
       "  </tbody>\n",
       "</table>\n",
       "<p>25518 rows × 2 columns</p>\n",
       "</div>"
      ],
      "text/plain": [
       "              0         1\n",
       "0     -0.210889  0.506319\n",
       "1     -0.364468  0.349536\n",
       "2     -0.406253  0.298354\n",
       "3     -0.386626  0.315874\n",
       "4     -0.414865  0.291986\n",
       "...         ...       ...\n",
       "25513  0.129912 -0.085531\n",
       "25514  0.144355 -0.078837\n",
       "25515  0.144355 -0.078837\n",
       "25516  0.123350 -0.096809\n",
       "25517  0.123350 -0.096809\n",
       "\n",
       "[25518 rows x 2 columns]"
      ]
     },
     "execution_count": 145,
     "metadata": {},
     "output_type": "execute_result"
    }
   ],
   "source": [
    "pca_pred"
   ]
  },
  {
   "cell_type": "code",
   "execution_count": 146,
   "id": "362c19e9",
   "metadata": {},
   "outputs": [
    {
     "name": "stderr",
     "output_type": "stream",
     "text": [
      "/opt/conda/lib/python3.8/site-packages/seaborn/_decorators.py:36: FutureWarning: Pass the following variables as keyword args: x, y. From version 0.12, the only valid positional argument will be `data`, and passing other arguments without an explicit keyword will result in an error or misinterpretation.\n",
      "  warnings.warn(\n"
     ]
    },
    {
     "data": {
      "text/plain": [
       "<AxesSubplot:xlabel='0', ylabel='1'>"
      ]
     },
     "execution_count": 146,
     "metadata": {},
     "output_type": "execute_result"
    },
    {
     "data": {
      "image/png": "[encoded data removed]",
      "text/plain": [
       "<Figure size 432x288 with 1 Axes>"
      ]
     },
     "metadata": {
      "needs_background": "light"
     },
     "output_type": "display_data"
    }
   ],
   "source": [
    "sns.scatterplot(pca_pred[0],pca_pred[1],data = pca_pred ,s = 5)"
   ]
  },
  {
   "cell_type": "code",
   "execution_count": null,
   "id": "ac9cf10a",
   "metadata": {},
   "outputs": [],
   "source": []
  },
  {
   "cell_type": "code",
   "execution_count": null,
   "id": "3be5344b",
   "metadata": {},
   "outputs": [],
   "source": []
  }
 ],
 "metadata": {
  "kernelspec": {
   "display_name": "Python 3 (ipykernel)",
   "language": "python",
   "name": "python3"
  },
  "language_info": {
   "codemirror_mode": {
    "name": "ipython",
    "version": 3
   },
   "file_extension": ".py",
   "mimetype": "text/x-python",
   "name": "python",
   "nbconvert_exporter": "python",
   "pygments_lexer": "ipython3",
   "version": "3.8.12"
  }
 },
 "nbformat": 4,
 "nbformat_minor": 5
}
