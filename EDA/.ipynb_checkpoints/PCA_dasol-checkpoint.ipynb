{
 "cells": [
  {
   "cell_type": "code",
   "execution_count": 24,
   "id": "65c910fe",
   "metadata": {},
   "outputs": [],
   "source": [
    "import pandas as pd\n",
    "import matplotlib.pyplot as plt\n",
    "import matplotlib\n",
    "from matplotlib import rc\n",
    "%matplotlib inline\n",
    "from matplotlib import font_manager\n",
    "import numpy as np\n",
    "from sklearn.preprocessing import MinMaxScaler"
   ]
  },
  {
   "cell_type": "code",
   "execution_count": 4,
   "id": "6b5a46c9",
   "metadata": {},
   "outputs": [],
   "source": [
    "data = '/workspace/xnsolution/data/6호기_6월_0725.csv'"
   ]
  },
  {
   "cell_type": "code",
   "execution_count": 7,
   "id": "f4e3b026",
   "metadata": {},
   "outputs": [],
   "source": [
    "df  = pd.read_csv(data, encoding = 'euc-kr')\n",
    "# df  = pd.read_csv(data, encoding = 'euc-kr',index_col= \"날짜 및 시간\")"
   ]
  },
  {
   "cell_type": "code",
   "execution_count": 8,
   "id": "a4f8fc31",
   "metadata": {},
   "outputs": [],
   "source": [
    "from sklearn.preprocessing import StandardScaler "
   ]
  },
  {
   "cell_type": "code",
   "execution_count": 9,
   "id": "c2868102",
   "metadata": {},
   "outputs": [
    {
     "name": "stdout",
     "output_type": "stream",
     "text": [
      "['판정코드', '판정명', '순번', '기계코드', '기계이름', '날짜 및 시간', '공정횟수', '보압+사출시간', '사출시간', '계량시간', '공정시간', '형폐시간', '쿠션위치', '보압절환위치', '계량완료위치', '형계위치', '사출최대속도', '사출최대압력', '보압절환압력', '최대배압', '히터1', '히터2', '히터3', '히터4', '히터5', '히터6', '히터7', '호퍼온도', '금형온도1(외부온도1)', '금형온도2(외부온도2)', '금형온도3(외부온도3)', '금형온도4(외부온도4)', '금형온도5(외부온도5)', '금형온도6(외부온도6)', '금형온도7(외부온도7)', '금형온도8(외부온도8)', '금형온도9(외부온도9)', '금형온도10(외부온도10)', 'SETTING_사출속도_1', 'SETTING_사출속도_2', 'SETTING_사출속도_3', 'SETTING_사출속도_4', 'SETTING_사출속도_5', 'SETTING_사출속도_6', 'SETTING_사출속도_7', 'SETTING_사출속도_8', 'SETTING_사출속도_9', 'SETTING_사출속도_10', 'SETTING_사출압력_1', 'SETTING_사출압력_2', 'SETTING_사출압력_3', 'SETTING_사출압력_4', 'SETTING_사출압력_5', 'SETTING_사출압력_6', 'SETTING_사출압력_7', 'SETTING_사출압력_8', 'SETTING_사출압력_9', 'SETTING_사출압력_10', 'SETTING_사출거리_1', 'SETTING_사출거리_2', 'SETTING_사출거리_3', 'SETTING_사출거리_4', 'SETTING_사출거리_5', 'SETTING_사출거리_6', 'SETTING_사출거리_7', 'SETTING_사출거리_8', 'SETTING_사출거리_9', 'SETTING_사출거리_10', 'SETTING_보압압력_1', 'SETTING_보압압력_2', 'SETTING_보압압력_3', 'SETTING_보압압력_4', 'SETTING_보압압력_5', 'SETTING_보압시간_1', 'SETTING_보압시간_2', 'SETTING_보압시간_3', 'SETTING_보압시간_4', 'SETTING_보압시간_5', 'SETTING_보압속도_1', 'SETTING_보압속도_2', 'SETTING_보압속도_3', 'SETTING_보압속도_4', 'SETTING_보압속도_5', 'SETTING_계량위치_1', 'SETTING_계량위치_2', 'SETTING_계량위치_3', 'SETTING_계량위치_4', 'SETTING_계량속도_1', 'SETTING_계량속도_2', 'SETTING_계량속도_3', 'SETTING_계량속도_4', 'SETTING_배압_1', 'SETTING_배압_2', 'SETTING_배압_3', 'SETTING_배압_4', 'SETTING_강제후퇴거리_1', 'SETTING_강제후퇴거리_2', 'SETTING_강제후퇴속도_1', 'SETTING_강제후퇴속도_2', 'SETTING_히터_1', 'SETTING_히터_2', 'SETTING_히터_3', 'SETTING_히터_4', 'SETTING_히터_5', 'SETTING_히터_6', 'SETTING_히터_7', 'SETTING_호퍼온도', 'SETTING_금형온도1(외부온도1)', 'SETTING_금형온도2(외부온도2)', 'SETTING_금형온도3(외부온도3)', 'SETTING_금형온도4(외부온도4)', 'SETTING_금형온도5(외부온도5)', 'SETTING_금형온도6(외부온도6)', 'SETTING_금형온도7(외부온도7)', 'SETTING_금형온도8(외부온도8)', 'SETTING_금형온도9(외부온도9)', 'SETTING_금형온도10(외부온도10)', 'SETTING_금형온도11(외부온도11)', 'SETTING_금형온도12(외부온도12)', 'SETTING_사출시간', 'SETTING_냉각시간', 'SETTING_사출지연시간', 'SETTING_계량지연시간', '작업일자', '기계코드.1', '주야구분', '작업순번', '작업시작일시', '작업종료일시', '품번', '원료', '작업자', '캐비티', '생산카운트', '양품카운트', '퍼징', '순번.1', '기계코드.2', '불량코드', '불량이름', '불량일시', 'CNT']\n"
     ]
    }
   ],
   "source": [
    "col_list= df.columns.tolist()\n",
    "print(col_list)"
   ]
  },
  {
   "cell_type": "code",
   "execution_count": 10,
   "id": "ce5def41",
   "metadata": {},
   "outputs": [
    {
     "name": "stdout",
     "output_type": "stream",
     "text": [
      "['보압+사출시간', '사출시간', '계량시간', '공정시간', '형폐시간', '쿠션위치', '보압절환위치', '계량완료위치', '형계위치', '사출최대속도', '사출최대압력', '보압절환압력', '최대배압', '히터1', '히터2', '히터3', '히터4', '히터5', '히터6', '히터7', '호퍼온도', '금형온도1(외부온도1)', '금형온도2(외부온도2)', '금형온도3(외부온도3)', '금형온도4(외부온도4)', '금형온도5(외부온도5)', '금형온도6(외부온도6)', '금형온도7(외부온도7)', '금형온도8(외부온도8)', '금형온도9(외부온도9)', '금형온도10(외부온도10)']\n"
     ]
    }
   ],
   "source": [
    "col_list = col_list[7:38]\n",
    "print(col_list)"
   ]
  },
  {
   "cell_type": "code",
   "execution_count": 16,
   "id": "27b5c619",
   "metadata": {},
   "outputs": [],
   "source": [
    "df_sen  = df.iloc[:,7:38] "
   ]
  },
  {
   "cell_type": "code",
   "execution_count": 21,
   "id": "76c0055e",
   "metadata": {},
   "outputs": [
    {
     "data": {
      "text/html": [
       "<div>\n",
       "<style scoped>\n",
       "    .dataframe tbody tr th:only-of-type {\n",
       "        vertical-align: middle;\n",
       "    }\n",
       "\n",
       "    .dataframe tbody tr th {\n",
       "        vertical-align: top;\n",
       "    }\n",
       "\n",
       "    .dataframe thead th {\n",
       "        text-align: right;\n",
       "    }\n",
       "</style>\n",
       "<table border=\"1\" class=\"dataframe\">\n",
       "  <thead>\n",
       "    <tr style=\"text-align: right;\">\n",
       "      <th></th>\n",
       "      <th>보압+사출시간</th>\n",
       "      <th>사출시간</th>\n",
       "      <th>계량시간</th>\n",
       "      <th>공정시간</th>\n",
       "      <th>형폐시간</th>\n",
       "      <th>쿠션위치</th>\n",
       "      <th>보압절환위치</th>\n",
       "      <th>계량완료위치</th>\n",
       "      <th>형계위치</th>\n",
       "      <th>사출최대속도</th>\n",
       "      <th>...</th>\n",
       "      <th>금형온도1(외부온도1)</th>\n",
       "      <th>금형온도2(외부온도2)</th>\n",
       "      <th>금형온도3(외부온도3)</th>\n",
       "      <th>금형온도4(외부온도4)</th>\n",
       "      <th>금형온도5(외부온도5)</th>\n",
       "      <th>금형온도6(외부온도6)</th>\n",
       "      <th>금형온도7(외부온도7)</th>\n",
       "      <th>금형온도8(외부온도8)</th>\n",
       "      <th>금형온도9(외부온도9)</th>\n",
       "      <th>금형온도10(외부온도10)</th>\n",
       "    </tr>\n",
       "  </thead>\n",
       "  <tbody>\n",
       "    <tr>\n",
       "      <th>0</th>\n",
       "      <td>1.7</td>\n",
       "      <td>1.2</td>\n",
       "      <td>0.9</td>\n",
       "      <td>21.3</td>\n",
       "      <td>3.1</td>\n",
       "      <td>19.9</td>\n",
       "      <td>19.9</td>\n",
       "      <td>36.7</td>\n",
       "      <td>434.8</td>\n",
       "      <td>63.3</td>\n",
       "      <td>...</td>\n",
       "      <td>0</td>\n",
       "      <td>0</td>\n",
       "      <td>0</td>\n",
       "      <td>0</td>\n",
       "      <td>0</td>\n",
       "      <td>0</td>\n",
       "      <td>0</td>\n",
       "      <td>0</td>\n",
       "      <td>0</td>\n",
       "      <td>0</td>\n",
       "    </tr>\n",
       "    <tr>\n",
       "      <th>1</th>\n",
       "      <td>1.1</td>\n",
       "      <td>0.6</td>\n",
       "      <td>1.1</td>\n",
       "      <td>23.6</td>\n",
       "      <td>3.1</td>\n",
       "      <td>19.1</td>\n",
       "      <td>19.9</td>\n",
       "      <td>37.1</td>\n",
       "      <td>435.3</td>\n",
       "      <td>56.7</td>\n",
       "      <td>...</td>\n",
       "      <td>0</td>\n",
       "      <td>0</td>\n",
       "      <td>0</td>\n",
       "      <td>0</td>\n",
       "      <td>0</td>\n",
       "      <td>0</td>\n",
       "      <td>0</td>\n",
       "      <td>0</td>\n",
       "      <td>0</td>\n",
       "      <td>0</td>\n",
       "    </tr>\n",
       "    <tr>\n",
       "      <th>2</th>\n",
       "      <td>1.0</td>\n",
       "      <td>0.5</td>\n",
       "      <td>1.0</td>\n",
       "      <td>91.5</td>\n",
       "      <td>3.1</td>\n",
       "      <td>18.6</td>\n",
       "      <td>19.9</td>\n",
       "      <td>37.0</td>\n",
       "      <td>435.2</td>\n",
       "      <td>64.3</td>\n",
       "      <td>...</td>\n",
       "      <td>0</td>\n",
       "      <td>0</td>\n",
       "      <td>0</td>\n",
       "      <td>0</td>\n",
       "      <td>0</td>\n",
       "      <td>0</td>\n",
       "      <td>0</td>\n",
       "      <td>0</td>\n",
       "      <td>0</td>\n",
       "      <td>0</td>\n",
       "    </tr>\n",
       "    <tr>\n",
       "      <th>3</th>\n",
       "      <td>0.9</td>\n",
       "      <td>0.4</td>\n",
       "      <td>1.2</td>\n",
       "      <td>22.6</td>\n",
       "      <td>3.1</td>\n",
       "      <td>17.9</td>\n",
       "      <td>19.9</td>\n",
       "      <td>36.9</td>\n",
       "      <td>435.1</td>\n",
       "      <td>67.0</td>\n",
       "      <td>...</td>\n",
       "      <td>0</td>\n",
       "      <td>0</td>\n",
       "      <td>0</td>\n",
       "      <td>0</td>\n",
       "      <td>0</td>\n",
       "      <td>0</td>\n",
       "      <td>0</td>\n",
       "      <td>0</td>\n",
       "      <td>0</td>\n",
       "      <td>0</td>\n",
       "    </tr>\n",
       "    <tr>\n",
       "      <th>4</th>\n",
       "      <td>0.9</td>\n",
       "      <td>0.4</td>\n",
       "      <td>1.2</td>\n",
       "      <td>23.0</td>\n",
       "      <td>3.1</td>\n",
       "      <td>16.7</td>\n",
       "      <td>19.9</td>\n",
       "      <td>37.1</td>\n",
       "      <td>435.2</td>\n",
       "      <td>61.5</td>\n",
       "      <td>...</td>\n",
       "      <td>0</td>\n",
       "      <td>0</td>\n",
       "      <td>0</td>\n",
       "      <td>0</td>\n",
       "      <td>0</td>\n",
       "      <td>0</td>\n",
       "      <td>0</td>\n",
       "      <td>0</td>\n",
       "      <td>0</td>\n",
       "      <td>0</td>\n",
       "    </tr>\n",
       "  </tbody>\n",
       "</table>\n",
       "<p>5 rows × 31 columns</p>\n",
       "</div>"
      ],
      "text/plain": [
       "   보압+사출시간  사출시간  계량시간  공정시간  형폐시간  쿠션위치  보압절환위치  계량완료위치   형계위치  사출최대속도  ...  \\\n",
       "0      1.7   1.2   0.9  21.3   3.1  19.9    19.9    36.7  434.8    63.3  ...   \n",
       "1      1.1   0.6   1.1  23.6   3.1  19.1    19.9    37.1  435.3    56.7  ...   \n",
       "2      1.0   0.5   1.0  91.5   3.1  18.6    19.9    37.0  435.2    64.3  ...   \n",
       "3      0.9   0.4   1.2  22.6   3.1  17.9    19.9    36.9  435.1    67.0  ...   \n",
       "4      0.9   0.4   1.2  23.0   3.1  16.7    19.9    37.1  435.2    61.5  ...   \n",
       "\n",
       "   금형온도1(외부온도1)  금형온도2(외부온도2)  금형온도3(외부온도3)  금형온도4(외부온도4)  금형온도5(외부온도5)  \\\n",
       "0             0             0             0             0             0   \n",
       "1             0             0             0             0             0   \n",
       "2             0             0             0             0             0   \n",
       "3             0             0             0             0             0   \n",
       "4             0             0             0             0             0   \n",
       "\n",
       "   금형온도6(외부온도6)  금형온도7(외부온도7)  금형온도8(외부온도8)  금형온도9(외부온도9)  금형온도10(외부온도10)  \n",
       "0             0             0             0             0               0  \n",
       "1             0             0             0             0               0  \n",
       "2             0             0             0             0               0  \n",
       "3             0             0             0             0               0  \n",
       "4             0             0             0             0               0  \n",
       "\n",
       "[5 rows x 31 columns]"
      ]
     },
     "execution_count": 21,
     "metadata": {},
     "output_type": "execute_result"
    }
   ],
   "source": [
    "df_sen.head()"
   ]
  },
  {
   "cell_type": "code",
   "execution_count": null,
   "id": "92efe5f1",
   "metadata": {},
   "outputs": [],
   "source": []
  },
  {
   "cell_type": "code",
   "execution_count": 22,
   "id": "ef170ee0",
   "metadata": {},
   "outputs": [
    {
     "name": "stdout",
     "output_type": "stream",
     "text": [
      "[ 0  1  2  3  4  5  6  7  8  9 10 11 14 15 16 17 18 19 20]\n"
     ]
    }
   ],
   "source": [
    "li  = np.where(round(df_sen.describe().iloc[2,:], 4) != 0)[0]\n",
    "print(li)"
   ]
  },
  {
   "cell_type": "code",
   "execution_count": 26,
   "id": "eeb1881c",
   "metadata": {},
   "outputs": [],
   "source": [
    "df1 = df_sen.iloc[:, li]"
   ]
  },
  {
   "cell_type": "code",
   "execution_count": 25,
   "id": "4b0f6f1b",
   "metadata": {},
   "outputs": [],
   "source": [
    "scaler = MinMaxScaler()"
   ]
  },
  {
   "cell_type": "code",
   "execution_count": 28,
   "id": "32223de4",
   "metadata": {},
   "outputs": [],
   "source": [
    "df_scaled = scaler.fit(df1)"
   ]
  },
  {
   "cell_type": "code",
   "execution_count": 29,
   "id": "e8d03ae3",
   "metadata": {},
   "outputs": [],
   "source": [
    "from sklearn.decomposition import PCA"
   ]
  },
  {
   "cell_type": "code",
   "execution_count": 30,
   "id": "d4f71cd5",
   "metadata": {},
   "outputs": [
    {
     "ename": "TypeError",
     "evalue": "float() argument must be a string or a number, not 'MinMaxScaler'",
     "output_type": "error",
     "traceback": [
      "\u001b[0;31m---------------------------------------------------------------------------\u001b[0m",
      "\u001b[0;31mTypeError\u001b[0m                                 Traceback (most recent call last)",
      "Input \u001b[0;32mIn [30]\u001b[0m, in \u001b[0;36m<module>\u001b[0;34m\u001b[0m\n\u001b[1;32m      1\u001b[0m pca \u001b[38;5;241m=\u001b[39m PCA(n_components\u001b[38;5;241m=\u001b[39m\u001b[38;5;241m2\u001b[39m)\n\u001b[0;32m----> 2\u001b[0m pcaDF \u001b[38;5;241m=\u001b[39m \u001b[43mpca\u001b[49m\u001b[38;5;241;43m.\u001b[39;49m\u001b[43mfit_transform\u001b[49m\u001b[43m(\u001b[49m\u001b[43mmm_df\u001b[49m\u001b[43m)\u001b[49m\n",
      "File \u001b[0;32m/opt/conda/lib/python3.8/site-packages/sklearn/decomposition/_pca.py:376\u001b[0m, in \u001b[0;36mPCA.fit_transform\u001b[0;34m(self, X, y)\u001b[0m\n\u001b[1;32m    355\u001b[0m \u001b[38;5;28;01mdef\u001b[39;00m \u001b[38;5;21mfit_transform\u001b[39m(\u001b[38;5;28mself\u001b[39m, X, y\u001b[38;5;241m=\u001b[39m\u001b[38;5;28;01mNone\u001b[39;00m):\n\u001b[1;32m    356\u001b[0m     \u001b[38;5;124;03m\"\"\"Fit the model with X and apply the dimensionality reduction on X.\u001b[39;00m\n\u001b[1;32m    357\u001b[0m \n\u001b[1;32m    358\u001b[0m \u001b[38;5;124;03m    Parameters\u001b[39;00m\n\u001b[0;32m   (...)\u001b[0m\n\u001b[1;32m    374\u001b[0m \u001b[38;5;124;03m    C-ordered array, use 'np.ascontiguousarray'.\u001b[39;00m\n\u001b[1;32m    375\u001b[0m \u001b[38;5;124;03m    \"\"\"\u001b[39;00m\n\u001b[0;32m--> 376\u001b[0m     U, S, Vt \u001b[38;5;241m=\u001b[39m \u001b[38;5;28;43mself\u001b[39;49m\u001b[38;5;241;43m.\u001b[39;49m\u001b[43m_fit\u001b[49m\u001b[43m(\u001b[49m\u001b[43mX\u001b[49m\u001b[43m)\u001b[49m\n\u001b[1;32m    377\u001b[0m     U \u001b[38;5;241m=\u001b[39m U[:, :\u001b[38;5;28mself\u001b[39m\u001b[38;5;241m.\u001b[39mn_components_]\n\u001b[1;32m    379\u001b[0m     \u001b[38;5;28;01mif\u001b[39;00m \u001b[38;5;28mself\u001b[39m\u001b[38;5;241m.\u001b[39mwhiten:\n\u001b[1;32m    380\u001b[0m         \u001b[38;5;66;03m# X_new = X * V / S * sqrt(n_samples) = U * sqrt(n_samples)\u001b[39;00m\n",
      "File \u001b[0;32m/opt/conda/lib/python3.8/site-packages/sklearn/decomposition/_pca.py:397\u001b[0m, in \u001b[0;36mPCA._fit\u001b[0;34m(self, X)\u001b[0m\n\u001b[1;32m    393\u001b[0m \u001b[38;5;28;01mif\u001b[39;00m issparse(X):\n\u001b[1;32m    394\u001b[0m     \u001b[38;5;28;01mraise\u001b[39;00m \u001b[38;5;167;01mTypeError\u001b[39;00m(\u001b[38;5;124m'\u001b[39m\u001b[38;5;124mPCA does not support sparse input. See \u001b[39m\u001b[38;5;124m'\u001b[39m\n\u001b[1;32m    395\u001b[0m                     \u001b[38;5;124m'\u001b[39m\u001b[38;5;124mTruncatedSVD for a possible alternative.\u001b[39m\u001b[38;5;124m'\u001b[39m)\n\u001b[0;32m--> 397\u001b[0m X \u001b[38;5;241m=\u001b[39m \u001b[38;5;28;43mself\u001b[39;49m\u001b[38;5;241;43m.\u001b[39;49m\u001b[43m_validate_data\u001b[49m\u001b[43m(\u001b[49m\u001b[43mX\u001b[49m\u001b[43m,\u001b[49m\u001b[43m \u001b[49m\u001b[43mdtype\u001b[49m\u001b[38;5;241;43m=\u001b[39;49m\u001b[43m[\u001b[49m\u001b[43mnp\u001b[49m\u001b[38;5;241;43m.\u001b[39;49m\u001b[43mfloat64\u001b[49m\u001b[43m,\u001b[49m\u001b[43m \u001b[49m\u001b[43mnp\u001b[49m\u001b[38;5;241;43m.\u001b[39;49m\u001b[43mfloat32\u001b[49m\u001b[43m]\u001b[49m\u001b[43m,\u001b[49m\n\u001b[1;32m    398\u001b[0m \u001b[43m                        \u001b[49m\u001b[43mensure_2d\u001b[49m\u001b[38;5;241;43m=\u001b[39;49m\u001b[38;5;28;43;01mTrue\u001b[39;49;00m\u001b[43m,\u001b[49m\u001b[43m \u001b[49m\u001b[43mcopy\u001b[49m\u001b[38;5;241;43m=\u001b[39;49m\u001b[38;5;28;43mself\u001b[39;49m\u001b[38;5;241;43m.\u001b[39;49m\u001b[43mcopy\u001b[49m\u001b[43m)\u001b[49m\n\u001b[1;32m    400\u001b[0m \u001b[38;5;66;03m# Handle n_components==None\u001b[39;00m\n\u001b[1;32m    401\u001b[0m \u001b[38;5;28;01mif\u001b[39;00m \u001b[38;5;28mself\u001b[39m\u001b[38;5;241m.\u001b[39mn_components \u001b[38;5;129;01mis\u001b[39;00m \u001b[38;5;28;01mNone\u001b[39;00m:\n",
      "File \u001b[0;32m/opt/conda/lib/python3.8/site-packages/sklearn/base.py:421\u001b[0m, in \u001b[0;36mBaseEstimator._validate_data\u001b[0;34m(self, X, y, reset, validate_separately, **check_params)\u001b[0m\n\u001b[1;32m    419\u001b[0m     out \u001b[38;5;241m=\u001b[39m X\n\u001b[1;32m    420\u001b[0m \u001b[38;5;28;01melif\u001b[39;00m \u001b[38;5;28misinstance\u001b[39m(y, \u001b[38;5;28mstr\u001b[39m) \u001b[38;5;129;01mand\u001b[39;00m y \u001b[38;5;241m==\u001b[39m \u001b[38;5;124m'\u001b[39m\u001b[38;5;124mno_validation\u001b[39m\u001b[38;5;124m'\u001b[39m:\n\u001b[0;32m--> 421\u001b[0m     X \u001b[38;5;241m=\u001b[39m \u001b[43mcheck_array\u001b[49m\u001b[43m(\u001b[49m\u001b[43mX\u001b[49m\u001b[43m,\u001b[49m\u001b[43m \u001b[49m\u001b[38;5;241;43m*\u001b[39;49m\u001b[38;5;241;43m*\u001b[39;49m\u001b[43mcheck_params\u001b[49m\u001b[43m)\u001b[49m\n\u001b[1;32m    422\u001b[0m     out \u001b[38;5;241m=\u001b[39m X\n\u001b[1;32m    423\u001b[0m \u001b[38;5;28;01melse\u001b[39;00m:\n",
      "File \u001b[0;32m/opt/conda/lib/python3.8/site-packages/sklearn/utils/validation.py:63\u001b[0m, in \u001b[0;36m_deprecate_positional_args.<locals>._inner_deprecate_positional_args.<locals>.inner_f\u001b[0;34m(*args, **kwargs)\u001b[0m\n\u001b[1;32m     61\u001b[0m extra_args \u001b[38;5;241m=\u001b[39m \u001b[38;5;28mlen\u001b[39m(args) \u001b[38;5;241m-\u001b[39m \u001b[38;5;28mlen\u001b[39m(all_args)\n\u001b[1;32m     62\u001b[0m \u001b[38;5;28;01mif\u001b[39;00m extra_args \u001b[38;5;241m<\u001b[39m\u001b[38;5;241m=\u001b[39m \u001b[38;5;241m0\u001b[39m:\n\u001b[0;32m---> 63\u001b[0m     \u001b[38;5;28;01mreturn\u001b[39;00m \u001b[43mf\u001b[49m\u001b[43m(\u001b[49m\u001b[38;5;241;43m*\u001b[39;49m\u001b[43margs\u001b[49m\u001b[43m,\u001b[49m\u001b[43m \u001b[49m\u001b[38;5;241;43m*\u001b[39;49m\u001b[38;5;241;43m*\u001b[39;49m\u001b[43mkwargs\u001b[49m\u001b[43m)\u001b[49m\n\u001b[1;32m     65\u001b[0m \u001b[38;5;66;03m# extra_args > 0\u001b[39;00m\n\u001b[1;32m     66\u001b[0m args_msg \u001b[38;5;241m=\u001b[39m [\u001b[38;5;124m'\u001b[39m\u001b[38;5;132;01m{}\u001b[39;00m\u001b[38;5;124m=\u001b[39m\u001b[38;5;132;01m{}\u001b[39;00m\u001b[38;5;124m'\u001b[39m\u001b[38;5;241m.\u001b[39mformat(name, arg)\n\u001b[1;32m     67\u001b[0m             \u001b[38;5;28;01mfor\u001b[39;00m name, arg \u001b[38;5;129;01min\u001b[39;00m \u001b[38;5;28mzip\u001b[39m(kwonly_args[:extra_args],\n\u001b[1;32m     68\u001b[0m                                  args[\u001b[38;5;241m-\u001b[39mextra_args:])]\n",
      "File \u001b[0;32m/opt/conda/lib/python3.8/site-packages/sklearn/utils/validation.py:616\u001b[0m, in \u001b[0;36mcheck_array\u001b[0;34m(array, accept_sparse, accept_large_sparse, dtype, order, copy, force_all_finite, ensure_2d, allow_nd, ensure_min_samples, ensure_min_features, estimator)\u001b[0m\n\u001b[1;32m    614\u001b[0m         array \u001b[38;5;241m=\u001b[39m array\u001b[38;5;241m.\u001b[39mastype(dtype, casting\u001b[38;5;241m=\u001b[39m\u001b[38;5;124m\"\u001b[39m\u001b[38;5;124munsafe\u001b[39m\u001b[38;5;124m\"\u001b[39m, copy\u001b[38;5;241m=\u001b[39m\u001b[38;5;28;01mFalse\u001b[39;00m)\n\u001b[1;32m    615\u001b[0m     \u001b[38;5;28;01melse\u001b[39;00m:\n\u001b[0;32m--> 616\u001b[0m         array \u001b[38;5;241m=\u001b[39m \u001b[43mnp\u001b[49m\u001b[38;5;241;43m.\u001b[39;49m\u001b[43masarray\u001b[49m\u001b[43m(\u001b[49m\u001b[43marray\u001b[49m\u001b[43m,\u001b[49m\u001b[43m \u001b[49m\u001b[43morder\u001b[49m\u001b[38;5;241;43m=\u001b[39;49m\u001b[43morder\u001b[49m\u001b[43m,\u001b[49m\u001b[43m \u001b[49m\u001b[43mdtype\u001b[49m\u001b[38;5;241;43m=\u001b[39;49m\u001b[43mdtype\u001b[49m\u001b[43m)\u001b[49m\n\u001b[1;32m    617\u001b[0m \u001b[38;5;28;01mexcept\u001b[39;00m ComplexWarning \u001b[38;5;28;01mas\u001b[39;00m complex_warning:\n\u001b[1;32m    618\u001b[0m     \u001b[38;5;28;01mraise\u001b[39;00m \u001b[38;5;167;01mValueError\u001b[39;00m(\u001b[38;5;124m\"\u001b[39m\u001b[38;5;124mComplex data not supported\u001b[39m\u001b[38;5;130;01m\\n\u001b[39;00m\u001b[38;5;124m\"\u001b[39m\n\u001b[1;32m    619\u001b[0m                      \u001b[38;5;124m\"\u001b[39m\u001b[38;5;132;01m{}\u001b[39;00m\u001b[38;5;130;01m\\n\u001b[39;00m\u001b[38;5;124m\"\u001b[39m\u001b[38;5;241m.\u001b[39mformat(array)) \u001b[38;5;28;01mfrom\u001b[39;00m \u001b[38;5;21;01mcomplex_warning\u001b[39;00m\n",
      "\u001b[0;31mTypeError\u001b[0m: float() argument must be a string or a number, not 'MinMaxScaler'"
     ]
    }
   ],
   "source": [
    "pca = PCA(n_components=2)\n",
    "df_scaled = pca.fit_transform(mm_df)"
   ]
  },
  {
   "cell_type": "code",
   "execution_count": null,
   "id": "94717845",
   "metadata": {},
   "outputs": [],
   "source": []
  }
 ],
 "metadata": {
  "kernelspec": {
   "display_name": "Python 3 (ipykernel)",
   "language": "python",
   "name": "python3"
  },
  "language_info": {
   "codemirror_mode": {
    "name": "ipython",
    "version": 3
   },
   "file_extension": ".py",
   "mimetype": "text/x-python",
   "name": "python",
   "nbconvert_exporter": "python",
   "pygments_lexer": "ipython3",
   "version": "3.8.12"
  }
 },
 "nbformat": 4,
 "nbformat_minor": 5
}
