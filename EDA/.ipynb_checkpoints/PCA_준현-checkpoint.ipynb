{
 "cells": [
  {
   "cell_type": "code",
   "execution_count": 6,
   "id": "cd918d83",
   "metadata": {},
   "outputs": [],
   "source": [
    "import pandas as pd\n",
    "import numpy as np\n",
    "import matplotlib.pyplot as plt\n",
    "\n",
    "from sklearn.datasets import load_iris # iris dataset\n",
    "from sklearn.preprocessing import StandardScaler  # 표준화 패키지 라이브러리 "
   ]
  },
  {
   "cell_type": "code",
   "execution_count": 7,
   "id": "c2b2fd74",
   "metadata": {},
   "outputs": [],
   "source": [
    "import numpy as np\n",
    "from sklearn.preprocessing import StandardScaler  # 표준화 패키지 라이브러리 \n",
    "from sklearn.decomposition import PCA\n",
    "\n",
    "\n",
    "def EDA_pca(input_data, n_components) :\n",
    "    # to do\n",
    "    # 수치형 예외처리 생각해볼것\n",
    "    if isinstance(input_data, pd.DataFrame) :\n",
    "        input_data = input_data.values\n",
    "    \n",
    "    scaled_data = StandardScaler().fit_transform(input_data) # input_data scale\n",
    "    \n",
    "    ### PCA\n",
    "    pca = PCA(n_components = n_components) # 주성분을 몇개로 할지 결정\n",
    "    pca.fit(scaled_data)\n",
    "    \n",
    "    # scatter plot 관련\n",
    "    components = pca.components_\n",
    "    score_array = pca.transform(scaled_data)\n",
    "    \n",
    "    # standard_deviation 관련\n",
    "    standard_deviation = pca.explained_variance_\n",
    "    proportion_of_variance = pca.explained_variance_ratio_\n",
    "    cum_proportion = np.cumsum(proportion_of_variance)\n",
    "    \n",
    "    return {'standard_deviation' : standard_deviation, 'proportion_of_variance' : proportion_of_variance, 'cum_proportion' : cum_proportion,'components' : components, 'score_array' : score_array}"
   ]
  },
  {
   "cell_type": "code",
   "execution_count": 8,
   "id": "b9868138",
   "metadata": {},
   "outputs": [],
   "source": [
    "wd = '/workspace/xnsolution/data/6호기_6월_0725.csv'"
   ]
  },
  {
   "cell_type": "code",
   "execution_count": 9,
   "id": "7bafdf96",
   "metadata": {},
   "outputs": [],
   "source": [
    "df = pd.read_csv(wd, encoding='euc-kr')"
   ]
  },
  {
   "cell_type": "code",
   "execution_count": 34,
   "id": "70e7b75f",
   "metadata": {},
   "outputs": [],
   "source": [
    "data = df.iloc[:,7:38]"
   ]
  },
  {
   "cell_type": "code",
   "execution_count": 35,
   "id": "627a68e5",
   "metadata": {},
   "outputs": [],
   "source": [
    "ddd = data.iloc[:,np.where(round(data.describe().iloc[2,:], 4) != 0)[0]]"
   ]
  },
  {
   "cell_type": "code",
   "execution_count": 36,
   "id": "f030178d",
   "metadata": {},
   "outputs": [
    {
     "data": {
      "text/plain": [
       "(47860, 19)"
      ]
     },
     "execution_count": 36,
     "metadata": {},
     "output_type": "execute_result"
    }
   ],
   "source": [
    "ddd.shape"
   ]
  },
  {
   "cell_type": "code",
   "execution_count": 39,
   "id": "98c11c13",
   "metadata": {},
   "outputs": [
    {
     "data": {
      "text/html": [
       "<div>\n",
       "<style scoped>\n",
       "    .dataframe tbody tr th:only-of-type {\n",
       "        vertical-align: middle;\n",
       "    }\n",
       "\n",
       "    .dataframe tbody tr th {\n",
       "        vertical-align: top;\n",
       "    }\n",
       "\n",
       "    .dataframe thead th {\n",
       "        text-align: right;\n",
       "    }\n",
       "</style>\n",
       "<table border=\"1\" class=\"dataframe\">\n",
       "  <thead>\n",
       "    <tr style=\"text-align: right;\">\n",
       "      <th></th>\n",
       "      <th>보압+사출시간</th>\n",
       "      <th>사출시간</th>\n",
       "      <th>계량시간</th>\n",
       "      <th>공정시간</th>\n",
       "      <th>형폐시간</th>\n",
       "      <th>쿠션위치</th>\n",
       "      <th>보압절환위치</th>\n",
       "      <th>계량완료위치</th>\n",
       "      <th>형계위치</th>\n",
       "      <th>사출최대속도</th>\n",
       "      <th>사출최대압력</th>\n",
       "      <th>보압절환압력</th>\n",
       "      <th>히터2</th>\n",
       "      <th>히터3</th>\n",
       "      <th>히터4</th>\n",
       "      <th>히터5</th>\n",
       "      <th>히터6</th>\n",
       "      <th>히터7</th>\n",
       "      <th>호퍼온도</th>\n",
       "    </tr>\n",
       "  </thead>\n",
       "  <tbody>\n",
       "    <tr>\n",
       "      <th>0</th>\n",
       "      <td>1.7</td>\n",
       "      <td>1.2</td>\n",
       "      <td>0.9</td>\n",
       "      <td>21.3</td>\n",
       "      <td>3.1</td>\n",
       "      <td>19.9</td>\n",
       "      <td>19.9</td>\n",
       "      <td>36.7</td>\n",
       "      <td>434.8</td>\n",
       "      <td>63.3</td>\n",
       "      <td>109.9</td>\n",
       "      <td>94.5</td>\n",
       "      <td>330.0</td>\n",
       "      <td>320.0</td>\n",
       "      <td>319.8</td>\n",
       "      <td>316.2</td>\n",
       "      <td>291.6</td>\n",
       "      <td>30.5</td>\n",
       "      <td>61.5</td>\n",
       "    </tr>\n",
       "    <tr>\n",
       "      <th>1</th>\n",
       "      <td>1.1</td>\n",
       "      <td>0.6</td>\n",
       "      <td>1.1</td>\n",
       "      <td>23.6</td>\n",
       "      <td>3.1</td>\n",
       "      <td>19.1</td>\n",
       "      <td>19.9</td>\n",
       "      <td>37.1</td>\n",
       "      <td>435.3</td>\n",
       "      <td>56.7</td>\n",
       "      <td>109.0</td>\n",
       "      <td>92.2</td>\n",
       "      <td>330.3</td>\n",
       "      <td>320.1</td>\n",
       "      <td>320.0</td>\n",
       "      <td>314.8</td>\n",
       "      <td>296.1</td>\n",
       "      <td>30.8</td>\n",
       "      <td>62.4</td>\n",
       "    </tr>\n",
       "    <tr>\n",
       "      <th>2</th>\n",
       "      <td>1.0</td>\n",
       "      <td>0.5</td>\n",
       "      <td>1.0</td>\n",
       "      <td>91.5</td>\n",
       "      <td>3.1</td>\n",
       "      <td>18.6</td>\n",
       "      <td>19.9</td>\n",
       "      <td>37.0</td>\n",
       "      <td>435.2</td>\n",
       "      <td>64.3</td>\n",
       "      <td>106.4</td>\n",
       "      <td>99.4</td>\n",
       "      <td>330.5</td>\n",
       "      <td>320.2</td>\n",
       "      <td>320.1</td>\n",
       "      <td>314.8</td>\n",
       "      <td>295.8</td>\n",
       "      <td>30.8</td>\n",
       "      <td>62.5</td>\n",
       "    </tr>\n",
       "    <tr>\n",
       "      <th>3</th>\n",
       "      <td>0.9</td>\n",
       "      <td>0.4</td>\n",
       "      <td>1.2</td>\n",
       "      <td>22.6</td>\n",
       "      <td>3.1</td>\n",
       "      <td>17.9</td>\n",
       "      <td>19.9</td>\n",
       "      <td>36.9</td>\n",
       "      <td>435.1</td>\n",
       "      <td>67.0</td>\n",
       "      <td>103.7</td>\n",
       "      <td>102.0</td>\n",
       "      <td>330.8</td>\n",
       "      <td>320.0</td>\n",
       "      <td>319.7</td>\n",
       "      <td>314.5</td>\n",
       "      <td>295.0</td>\n",
       "      <td>30.9</td>\n",
       "      <td>62.7</td>\n",
       "    </tr>\n",
       "    <tr>\n",
       "      <th>4</th>\n",
       "      <td>0.9</td>\n",
       "      <td>0.4</td>\n",
       "      <td>1.2</td>\n",
       "      <td>23.0</td>\n",
       "      <td>3.1</td>\n",
       "      <td>16.7</td>\n",
       "      <td>19.9</td>\n",
       "      <td>37.1</td>\n",
       "      <td>435.2</td>\n",
       "      <td>61.5</td>\n",
       "      <td>99.1</td>\n",
       "      <td>99.0</td>\n",
       "      <td>330.8</td>\n",
       "      <td>320.0</td>\n",
       "      <td>319.7</td>\n",
       "      <td>314.5</td>\n",
       "      <td>295.2</td>\n",
       "      <td>30.9</td>\n",
       "      <td>62.8</td>\n",
       "    </tr>\n",
       "  </tbody>\n",
       "</table>\n",
       "</div>"
      ],
      "text/plain": [
       "   보압+사출시간  사출시간  계량시간  공정시간  형폐시간  쿠션위치  보압절환위치  계량완료위치   형계위치  사출최대속도  \\\n",
       "0      1.7   1.2   0.9  21.3   3.1  19.9    19.9    36.7  434.8    63.3   \n",
       "1      1.1   0.6   1.1  23.6   3.1  19.1    19.9    37.1  435.3    56.7   \n",
       "2      1.0   0.5   1.0  91.5   3.1  18.6    19.9    37.0  435.2    64.3   \n",
       "3      0.9   0.4   1.2  22.6   3.1  17.9    19.9    36.9  435.1    67.0   \n",
       "4      0.9   0.4   1.2  23.0   3.1  16.7    19.9    37.1  435.2    61.5   \n",
       "\n",
       "   사출최대압력  보압절환압력    히터2    히터3    히터4    히터5    히터6   히터7  호퍼온도  \n",
       "0   109.9    94.5  330.0  320.0  319.8  316.2  291.6  30.5  61.5  \n",
       "1   109.0    92.2  330.3  320.1  320.0  314.8  296.1  30.8  62.4  \n",
       "2   106.4    99.4  330.5  320.2  320.1  314.8  295.8  30.8  62.5  \n",
       "3   103.7   102.0  330.8  320.0  319.7  314.5  295.0  30.9  62.7  \n",
       "4    99.1    99.0  330.8  320.0  319.7  314.5  295.2  30.9  62.8  "
      ]
     },
     "execution_count": 39,
     "metadata": {},
     "output_type": "execute_result"
    }
   ],
   "source": [
    "ddd.head()"
   ]
  },
  {
   "cell_type": "code",
   "execution_count": 40,
   "id": "c5c75696",
   "metadata": {},
   "outputs": [],
   "source": [
    "from sklearn.preprocessing import StandardScaler"
   ]
  },
  {
   "cell_type": "code",
   "execution_count": 43,
   "id": "debe7216",
   "metadata": {},
   "outputs": [],
   "source": [
    "scale = StandardScaler()\n",
    "scale.fit(ddd)\n",
    "scaled_df = scale.transform(ddd)"
   ]
  },
  {
   "cell_type": "code",
   "execution_count": 44,
   "id": "65745e4a",
   "metadata": {},
   "outputs": [
    {
     "data": {
      "text/plain": [
       "array([[ 0.34435133,  0.53795179, -1.41789869, ...,  3.96063912,\n",
       "        -1.21293113, -5.10840244],\n",
       "       [-0.68423243, -0.55251104, -1.00853374, ..., 14.66665451,\n",
       "        -1.16120676, -4.81236755],\n",
       "       [-0.85566306, -0.73425484, -1.21321621, ..., 13.95292015,\n",
       "        -1.16120676, -4.77947479],\n",
       "       ...,\n",
       "       [-0.5128018 , -0.37076723,  0.62892602, ..., -0.08385559,\n",
       "        -0.43706554,  1.30568677],\n",
       "       [-0.5128018 , -0.37076723,  0.01487861, ..., -0.08385559,\n",
       "        -0.40258263,  1.30568677],\n",
       "       [-0.5128018 , -0.37076723,  0.01487861, ..., -0.08385559,\n",
       "        -0.40258263,  1.30568677]])"
      ]
     },
     "execution_count": 44,
     "metadata": {},
     "output_type": "execute_result"
    }
   ],
   "source": [
    "scaled_df"
   ]
  },
  {
   "cell_type": "code",
   "execution_count": 51,
   "id": "a25abe34",
   "metadata": {},
   "outputs": [
    {
     "data": {
      "text/plain": [
       "PCA(n_components=3, svd_solver='full')"
      ]
     },
     "execution_count": 51,
     "metadata": {},
     "output_type": "execute_result"
    }
   ],
   "source": [
    "pca = PCA(n_components=3, svd_solver='full')\n",
    "pca.fit(scaled_df)"
   ]
  },
  {
   "cell_type": "code",
   "execution_count": 63,
   "id": "d4f1ba81",
   "metadata": {},
   "outputs": [],
   "source": [
    "components = pca.components_\n",
    "score_array = pca.transform(scaled_df)\n",
    "pc_var = pca.explained_variance_ratio_"
   ]
  },
  {
   "cell_type": "code",
   "execution_count": 64,
   "id": "4477d1bd",
   "metadata": {},
   "outputs": [
    {
     "data": {
      "text/plain": [
       "array([0.43845884, 0.14804033, 0.09385153])"
      ]
     },
     "execution_count": 64,
     "metadata": {},
     "output_type": "execute_result"
    }
   ],
   "source": [
    "pc_var"
   ]
  },
  {
   "cell_type": "code",
   "execution_count": 61,
   "id": "910c8a02",
   "metadata": {},
   "outputs": [],
   "source": [
    "# 정상 / 이상\n",
    "# 품목 별"
   ]
  },
  {
   "cell_type": "code",
   "execution_count": 62,
   "id": "215296f1",
   "metadata": {},
   "outputs": [
    {
     "data": {
      "text/plain": [
       "array([[-5.26107187,  2.68271838,  6.84629841],\n",
       "       [-7.35167257,  1.16537835, 11.92616491],\n",
       "       [-6.73626888,  1.60515149, 11.81224421],\n",
       "       ...,\n",
       "       [ 1.10552825, -1.6155554 ,  0.31348108],\n",
       "       [ 0.54358514, -1.84900172,  0.32965518],\n",
       "       [ 0.54358514, -1.84900172,  0.32965518]])"
      ]
     },
     "execution_count": 62,
     "metadata": {},
     "output_type": "execute_result"
    }
   ],
   "source": [
    "score_array"
   ]
  },
  {
   "cell_type": "code",
   "execution_count": 68,
   "id": "f22646fa",
   "metadata": {},
   "outputs": [
    {
     "data": {
      "image/png": "[encoded data removed]",
      "text/plain": [
       "<Figure size 576x288 with 1 Axes>"
      ]
     },
     "metadata": {
      "needs_background": "light"
     },
     "output_type": "display_data"
    }
   ],
   "source": [
    "plt.figure(figsize=(8,4))\n",
    "plt.scatter(score_array[:,0], score_array[:,1], color='b')\n",
    "plt.show()"
   ]
  },
  {
   "cell_type": "code",
   "execution_count": 95,
   "id": "8b5e6d45",
   "metadata": {},
   "outputs": [],
   "source": [
    "outkind = outkind.fillna('정상')\n",
    "idid"
   ]
  },
  {
   "cell_type": "code",
   "execution_count": null,
   "id": "a9afca3b",
   "metadata": {},
   "outputs": [],
   "source": [
    "# pcaDf = \n",
    "# score_array"
   ]
  },
  {
   "cell_type": "code",
   "execution_count": 101,
   "id": "2008a562",
   "metadata": {},
   "outputs": [],
   "source": [
    "pcScore = pd.DataFrame(score_array, columns=['PC1','PC2','PC3'])"
   ]
  },
  {
   "cell_type": "code",
   "execution_count": 103,
   "id": "4851522a",
   "metadata": {},
   "outputs": [],
   "source": [
    "pc = pd.concat([pcScore, outkind, idid], axis=1)"
   ]
  },
  {
   "cell_type": "code",
   "execution_count": 109,
   "id": "ac397120",
   "metadata": {},
   "outputs": [],
   "source": [
    "pc['불량이름'] = pc['불량이름'].fillna('정상')"
   ]
  },
  {
   "cell_type": "code",
   "execution_count": 115,
   "id": "effd99a5",
   "metadata": {},
   "outputs": [],
   "source": [
    "kind = pc['불량이름'].unique()"
   ]
  },
  {
   "cell_type": "code",
   "execution_count": 120,
   "id": "2e9c60b7",
   "metadata": {},
   "outputs": [
    {
     "data": {
      "image/png": "[encoded data removed]",
      "text/plain": [
       "<Figure size 1440x720 with 1 Axes>"
      ]
     },
     "metadata": {
      "needs_background": "light"
     },
     "output_type": "display_data"
    }
   ],
   "source": [
    "plt.figure(figsize=(20,10))\n",
    "plt.xticks(fontsize=20)\n",
    "plt.yticks(fontsize=20)\n",
    "for i in range(len(kind)):\n",
    "    plt.scatter(pc['PC1'][pc['불량이름'] == kind[i]], pc['PC2'][pc['불량이름'] == kind[i]], label=kind[i])\n",
    "\n",
    "plt.legend()\n",
    "plt.show()"
   ]
  },
  {
   "cell_type": "code",
   "execution_count": 137,
   "id": "eda96499",
   "metadata": {},
   "outputs": [],
   "source": [
    "pc['품번'] = pc['품번'].fillna('unnamed')"
   ]
  },
  {
   "cell_type": "code",
   "execution_count": 136,
   "id": "130174b9",
   "metadata": {},
   "outputs": [
    {
     "data": {
      "text/plain": [
       "array(['모름', '3D365-48921', '3D365-48922', '3D365-48910'], dtype=object)"
      ]
     },
     "execution_count": 136,
     "metadata": {},
     "output_type": "execute_result"
    }
   ],
   "source": [
    "id = pc['품번'].unique()\n",
    "id"
   ]
  },
  {
   "cell_type": "code",
   "execution_count": 134,
   "id": "788c51f1",
   "metadata": {},
   "outputs": [
    {
     "data": {
      "image/png": "[encoded data removed]",
      "text/plain": [
       "<Figure size 1440x720 with 1 Axes>"
      ]
     },
     "metadata": {
      "needs_background": "light"
     },
     "output_type": "display_data"
    }
   ],
   "source": [
    "plt.figure(figsize=(20,10))\n",
    "plt.xticks(fontsize=20)\n",
    "plt.yticks(fontsize=20)\n",
    "for i in range(len(id)):\n",
    "    plt.scatter(pc['PC1'][pc['품번'] == id[i]], pc['PC2'][pc['품번'] == id[i]], label=id[i])\n",
    "\n",
    "plt.legend()\n",
    "plt.show()"
   ]
  },
  {
   "cell_type": "code",
   "execution_count": 123,
   "id": "23afbf3e",
   "metadata": {},
   "outputs": [
    {
     "data": {
      "text/plain": [
       "array([nan, '3D365-48921', '3D365-48922', '3D365-48910'], dtype=object)"
      ]
     },
     "execution_count": 123,
     "metadata": {},
     "output_type": "execute_result"
    }
   ],
   "source": []
  },
  {
   "cell_type": "code",
   "execution_count": 114,
   "id": "aa440c32",
   "metadata": {},
   "outputs": [
    {
     "data": {
      "text/plain": [
       "array(['미성형(SHORT SHOT)', '정상', '버(BURR)', '가스(GAS)', '수축(SINK MARK)',\n",
       "       '크랙(CRACK)', '기타', '플로우(FLOWMARK)'], dtype=object)"
      ]
     },
     "execution_count": 114,
     "metadata": {},
     "output_type": "execute_result"
    }
   ],
   "source": [
    "kind"
   ]
  },
  {
   "cell_type": "code",
   "execution_count": null,
   "id": "3ffc2faf",
   "metadata": {},
   "outputs": [],
   "source": [
    "np.concatenate"
   ]
  },
  {
   "cell_type": "code",
   "execution_count": null,
   "id": "eaaa6201",
   "metadata": {},
   "outputs": [],
   "source": []
  },
  {
   "cell_type": "code",
   "execution_count": 79,
   "id": "91c9831d",
   "metadata": {},
   "outputs": [
    {
     "data": {
      "text/plain": [
       "0        미성형(SHORT SHOT)\n",
       "1                    NaN\n",
       "2                    NaN\n",
       "3                    NaN\n",
       "4                    NaN\n",
       "              ...       \n",
       "47855                NaN\n",
       "47856                NaN\n",
       "47857                NaN\n",
       "47858                NaN\n",
       "47859                NaN\n",
       "Name: 불량이름, Length: 47860, dtype: object"
      ]
     },
     "execution_count": 79,
     "metadata": {},
     "output_type": "execute_result"
    }
   ],
   "source": [
    "outkind"
   ]
  },
  {
   "cell_type": "code",
   "execution_count": 86,
   "id": "2c531cc3",
   "metadata": {},
   "outputs": [],
   "source": []
  },
  {
   "cell_type": "code",
   "execution_count": null,
   "id": "ddeb23e8",
   "metadata": {},
   "outputs": [],
   "source": []
  }
 ],
 "metadata": {
  "kernelspec": {
   "display_name": "Python 3 (ipykernel)",
   "language": "python",
   "name": "python3"
  },
  "language_info": {
   "codemirror_mode": {
    "name": "ipython",
    "version": 3
   },
   "file_extension": ".py",
   "mimetype": "text/x-python",
   "name": "python",
   "nbconvert_exporter": "python",
   "pygments_lexer": "ipython3",
   "version": "3.8.12"
  }
 },
 "nbformat": 4,
 "nbformat_minor": 5
}
