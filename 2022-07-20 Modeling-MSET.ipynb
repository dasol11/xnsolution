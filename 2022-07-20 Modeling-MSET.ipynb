{
 "cells": [
  {
   "cell_type": "code",
   "execution_count": 1,
   "id": "bfe4633b",
   "metadata": {},
   "outputs": [],
   "source": [
    "class mset_regress():\n",
    "\n",
    "    def __init__(self):\n",
    "        self.hat_array = None  # model이 되는 hat_matrix 저장\n",
    "        self.UCL = None\n",
    "        self.LCL = None\n",
    "        self.varucl = []\n",
    "        self.varlcl = []\n",
    "        self.cov_scaler = msetLR_covariance_scaler()\n",
    "\n",
    "    def fit(self, trdat, alpha=0.05):\n",
    "        \"\"\"\n",
    "\n",
    "        Parameters\n",
    "        ----------\n",
    "        trdat : array\n",
    "            학습 데이터\n",
    "        alpha : float, 0~1, default = 0.05\n",
    "            Control limit의 유의 수준\n",
    "        Returns\n",
    "        -------\n",
    "        trScore : array\n",
    "            Mset Linearregresion의 Train 잔차 (이상감지 통계량)\n",
    "\n",
    "        \"\"\"\n",
    "\n",
    "        train_intercept = np.ones((trdat.shape[0], 1))\n",
    "        y_hat_tr = np.zeros((trdat.shape[0], trdat.shape[1]))\n",
    "        self.hat_array = np.zeros((len(trdat.columns), len(trdat.columns)))\n",
    "\n",
    "        for i in range(len(trdat.columns)):\n",
    "            trainX = np.concatenate((train_intercept, np.delete(trdat.values, i, axis=1)), axis=1)\n",
    "            trainY = trdat.values[:, i]\n",
    "\n",
    "            self.hat_array[:, i] = np.linalg.pinv(trainX.transpose() @ trainX) @ trainX.transpose() @ trainY\n",
    "            y_hat_tr[:, i] = trainX @ self.hat_array[:, i]\n",
    "\n",
    "            # 각 변수 별 Trscore\n",
    "        varTrScore = trdat.values - y_hat_tr\n",
    "\n",
    "        # Trscore rowsum\n",
    "        self.cov_scaler.fit(trdat)  # cov scaler 학습\n",
    "        scaled_varTrScore = self.cov_scaler.transform(varTrScore)  # 변환\n",
    "        trScore = L2norm(scaled_varTrScore).sum(axis=1)  # L2norm\n",
    "\n",
    "        ## CL\n",
    "        # 각 변수 별 CL\n",
    "        for i in range(len(trdat.columns)):\n",
    "            self.varucl.append(bootstrap_limit(scaled_varTrScore[:, i], alpha=alpha / 2))\n",
    "            self.varlcl.append(bootstrap_limit(scaled_varTrScore[:, i], alpha=alpha / 2, upper=False))\n",
    "\n",
    "        # 합산 CL\n",
    "        self.UCL = bootstrap_limit(trScore, alpha=alpha)\n",
    "        self.LCL = self.UCL\n",
    "\n",
    "        return {'trScore': trScore, 'varTrScore': scaled_varTrScore}\n",
    "\n",
    "    def CL_printor(self):\n",
    "        \"\"\"\n",
    "\n",
    "        Returns\n",
    "        -------\n",
    "        UCL, LCL: float\n",
    "            upper, lower Control Limit,\n",
    "        varUCL, varLCL :\n",
    "            변수 별  UCL, LCL\n",
    "\n",
    "        \"\"\"\n",
    "\n",
    "        return {'UCL': self.UCL, 'LCL': self.LCL, 'varUCL': self.varucl, 'varLCL': self.varlcl}\n",
    "\n",
    "    def predict(self, tsdat):\n",
    "        \"\"\"\n",
    "\n",
    "        Parameters\n",
    "        ----------\n",
    "        tsdat : array\n",
    "            예측 데이터\n",
    "\n",
    "        Returns\n",
    "        -------\n",
    "        tsScore : array\n",
    "            Mset RandomForest의 Test 잔차 (이상감지 통계량)\n",
    "\n",
    "        \"\"\"\n",
    "        if isinstance(tsdat, pd.DataFrame):\n",
    "            tsdat = tsdat.values\n",
    "            delete_axis = 1\n",
    "        if isinstance(tsdat, pd.core.series.Series):\n",
    "            tsdat = tsdat.values\n",
    "\n",
    "        if tsdat.ndim == 1:\n",
    "            num_rows, num_columns = tsdat.shape[0], 1\n",
    "            delete_axis = None\n",
    "            test_intercept = np.ones((1))\n",
    "\n",
    "            # 변수 별 연산\n",
    "            y_hat_ts = np.zeros((num_rows))\n",
    "            for i in range(num_columns):\n",
    "                testX = np.concatenate((test_intercept, np.delete(tsdat, i, axis=delete_axis)), axis=delete_axis)\n",
    "                y_hat_ts[i] = testX @ self.hat_array[i]\n",
    "\n",
    "            # Row Sum\n",
    "            varTsScore = tsdat - y_hat_ts\n",
    "            scaled_varTsScore = self.cov_scaler.transform(varTsScore)  # 변환\n",
    "            tsScore = L2norm(scaled_varTsScore).sum(axis=0)  # L2norm\n",
    "\n",
    "        # tsdat.dim != 1\n",
    "        else:\n",
    "            num_rows, num_columns = tsdat.shape[0], tsdat.shape[1]\n",
    "            delete_axis = 1\n",
    "            test_intercept = np.ones((num_rows, 1))\n",
    "\n",
    "            # 변수 별 연산\n",
    "            y_hat_ts = np.zeros((num_rows, num_columns))\n",
    "            for i in range(num_columns):\n",
    "                testX = np.concatenate((test_intercept, np.delete(tsdat, i, axis=delete_axis)), axis=delete_axis)\n",
    "                y_hat_ts[:, i] = testX @ self.hat_array[:, i]\n",
    "\n",
    "            # Row Sum\n",
    "            varTsScore = tsdat - y_hat_ts\n",
    "            scaled_varTsScore = self.cov_scaler.transform(varTsScore)  # 변환\n",
    "            tsScore = L2norm(scaled_varTsScore).sum(axis=1)  # L2norm\n",
    "\n",
    "        return {'Tsscore': tsScore, 'Vartsscore': scaled_varTsScore}"
   ]
  },
  {
   "cell_type": "code",
   "execution_count": 17,
   "id": "96c310c4",
   "metadata": {},
   "outputs": [],
   "source": [
    "import numpy as np\n",
    "\n",
    "def L2norm(stat):\n",
    "    return(np.sqrt(stat**2))\n",
    "\n",
    "def matrix_inv(matrix):\n",
    "    return np.linalg.pinv(matrix)\n",
    "\n",
    "# covariance scaler\n",
    "class msetLR_covariance_scaler() :\n",
    "    \n",
    "    def __init__(self) :\n",
    "        \n",
    "        self.cov_inv_matrix = None\n",
    "            \n",
    "    def fit(self, trdat):\n",
    "        \n",
    "        cov_mat = np.cov(trdat.transpose())\n",
    "        self.cov_inv_matrix = matrix_inv(cov_mat)\n",
    "        \n",
    "    def transform(self, tsdat) :\n",
    "        if isinstance(tsdat, list) :\n",
    "            tsdat = np.array(tsdat).transpose()\n",
    "            \n",
    "        scaled_residual = np.dot(np.array(tsdat), self.cov_inv_matrix)\n",
    "        return scaled_residual"
   ]
  },
  {
   "cell_type": "code",
   "execution_count": 69,
   "id": "46237907",
   "metadata": {},
   "outputs": [],
   "source": [
    "import numpy as np\n",
    "class mset_regress():\n",
    "    \n",
    "    def __init__(self):\n",
    "        self.hat_array = None  # model이 되는 hat_matrix 저장\n",
    "        self.UCL = None\n",
    "        self.LCL = None\n",
    "        self.varucl = []\n",
    "        self.varlcl = []\n",
    "        self.cov_scaler = msetLR_covariance_scaler()  \n",
    "        \n",
    "    def fit(self, trdat, alpha=0.05):\n",
    "        \"\"\"\n",
    "\n",
    "        Parameters\n",
    "        ----------\n",
    "        trdat : array\n",
    "            학습 데이터\n",
    "        alpha : float, 0~1, default = 0.05\n",
    "            Control limit의 유의 수준\n",
    "        Returns\n",
    "        -------\n",
    "        trScore : array\n",
    "            Mset Linearregresion의 Train 잔차 (이상감지 통계량)\n",
    "\n",
    "        \"\"\"\n",
    "        train_intercept = np.ones((trdat.shape[0], 1))\n",
    "        y_hat_tr = np.zeros((trdat.shape[0], trdat.shape[1]))\n",
    "        self.hat_array = np.zeros((trdat.shape[1], trdat.shape[1]))\n",
    "        \n",
    "        for i in range(trdat.shape[1]):\n",
    "            trainX = np.concatenate((train_intercept, np.delete(trdat.values, i, axis=1)), axis=1)\n",
    "            trainY = trdat.values[:, i]\n",
    "\n",
    "            self.hat_array[:, i] = np.linalg.pinv(trainX.transpose() @ trainX) @ trainX.transpose() @ trainY\n",
    "            y_hat_tr[:, i] = trainX @ self.hat_array[:, i]"
   ]
  },
  {
   "cell_type": "code",
   "execution_count": 40,
   "id": "b9f33cdd",
   "metadata": {},
   "outputs": [
    {
     "ename": "SyntaxError",
     "evalue": "invalid syntax (2779347484.py, line 31)",
     "output_type": "error",
     "traceback": [
      "\u001b[0;36m  Input \u001b[0;32mIn [40]\u001b[0;36m\u001b[0m\n\u001b[0;31m    for i in range(1):\u001b[0m\n\u001b[0m                     ^\u001b[0m\n\u001b[0;31mSyntaxError\u001b[0m\u001b[0;31m:\u001b[0m invalid syntax\n"
     ]
    }
   ],
   "source": [
    "class mset_regress():\n",
    "\n",
    "    def __init__(self):\n",
    "        self.hat_array = None  # model이 되는 hat_matrix 저장\n",
    "        self.UCL = None\n",
    "        self.LCL = None\n",
    "        self.varucl = []\n",
    "        self.varlcl = []\n",
    "        self.cov_scaler = msetLR_covariance_scaler()\n",
    "\n",
    "    def fit(self, trdat, alpha=0.05):\n",
    "        \"\"\"\n",
    "\n",
    "        Parameters\n",
    "        ----------\n",
    "        trdat : array\n",
    "            학습 데이터\n",
    "        alpha : float, 0~1, default = 0.05\n",
    "            Control limit의 유의 수준\n",
    "        Returns\n",
    "        -------\n",
    "        trScore : array\n",
    "            Mset Linearregresion의 Train 잔차 (이상감지 통계량)\n",
    "\n",
    "        \"\"\"\n",
    "\n",
    "        train_intercept = np.ones((trdat.shape[0], 1))\n",
    "        y_hat_tr = np.zeros((trdat.shape[0], trdat.shape[1]))\n",
    "        self.hat_array = np.zeros((trdat.shape[1], trdat.shape[1])\n",
    "\n",
    "        for i in range(1):\n",
    "            trainX = np.concatenate((train_intercept, np.delete(trdat.values, i, axis=1)), axis=1)\n",
    "            trainY = trdat.values[:, i]\n",
    "\n",
    "            self.hat_array[:, i] = np.linalg.pinv(trainX.transpose() @ trainX) @ trainX.transpose() @ trainY\n",
    "            y_hat_tr[:, i] = trainX @ self.hat_array[:, i]\n",
    "\n",
    "            # 각 변수 별 Trscore\n",
    "        varTrScore = trdat.values - y_hat_tr\n",
    "\n",
    "        # Trscore rowsum\n",
    "        self.cov_scaler.fit(trdat)  # cov scaler 학습\n",
    "        scaled_varTrScore = self.cov_scaler.transform(varTrScore)  # 변환\n",
    "        trScore = L2norm(scaled_varTrScore).sum(axis=1)  # L2norm\n",
    "\n",
    "        ## CL\n",
    "        # 각 변수 별 CL\n",
    "        for i in range(trdat.shape[1]):\n",
    "            self.varucl.append(bootstrap_limit(scaled_varTrScore[:, i], alpha=alpha / 2))\n",
    "            self.varlcl.append(bootstrap_limit(scaled_varTrScore[:, i], alpha=alpha / 2, upper=False))\n",
    "\n",
    "        # 합산 CL\n",
    "        self.UCL = bootstrap_limit(trScore, alpha=alpha)\n",
    "        self.LCL = self.UCL\n",
    "\n",
    "        return {'trScore': trScore, 'varTrScore': scaled_varTrScore}"
   ]
  },
  {
   "cell_type": "code",
   "execution_count": null,
   "id": "132c5360",
   "metadata": {},
   "outputs": [],
   "source": []
  },
  {
   "cell_type": "code",
   "execution_count": 37,
   "id": "4e6b582e",
   "metadata": {},
   "outputs": [
    {
     "ename": "SyntaxError",
     "evalue": "invalid syntax (500971534.py, line 31)",
     "output_type": "error",
     "traceback": [
      "\u001b[0;36m  Input \u001b[0;32mIn [37]\u001b[0;36m\u001b[0m\n\u001b[0;31m    for i in range(len(trdat.columns)):\u001b[0m\n\u001b[0m                                      ^\u001b[0m\n\u001b[0;31mSyntaxError\u001b[0m\u001b[0;31m:\u001b[0m invalid syntax\n"
     ]
    }
   ],
   "source": [
    "class mset_regress():\n",
    "\n",
    "    def __init__(self):\n",
    "        self.hat_array = None  # model이 되는 hat_matrix 저장\n",
    "        self.UCL = None\n",
    "        self.LCL = None\n",
    "        self.varucl = []\n",
    "        self.varlcl = []\n",
    "        self.cov_scaler = msetLR_covariance_scaler()\n",
    "\n",
    "    def fit(self, trdat, alpha=0.05):\n",
    "        \"\"\"\n",
    "\n",
    "        Parameters\n",
    "        ----------\n",
    "        trdat : array\n",
    "            학습 데이터\n",
    "        alpha : float, 0~1, default = 0.05\n",
    "            Control limit의 유의 수준\n",
    "        Returns\n",
    "        -------\n",
    "        trScore : array\n",
    "            Mset Linearregresion의 Train 잔차 (이상감지 통계량)\n",
    "\n",
    "        \"\"\"\n",
    "\n",
    "        train_intercept = np.ones((trdat.shape[0], 1))\n",
    "        y_hat_tr = np.zeros((trdat.shape[0], trdat.shape[1]))\n",
    "        self.hat_array = np.zeros((trdat.shape[1], trdat.shape[1])\n",
    "\n",
    "        for i in range(len(trdat.columns)):\n",
    "            trainX = np.concatenate((train_intercept, np.delete(trdat.values, i, axis=1)), axis=1)\n",
    "            trainY = trdat.values[:, i]\n",
    "\n",
    "            self.hat_array[:, i] = np.linalg.pinv(trainX.transpose() @ trainX) @ trainX.transpose() @ trainY\n",
    "            y_hat_tr[:, i] = trainX @ self.hat_array[:, i]\n",
    "\n",
    "            # 각 변수 별 Trscore\n",
    "        varTrScore = trdat.values - y_hat_tr\n",
    "\n",
    "        # Trscore rowsum\n",
    "        self.cov_scaler.fit(trdat)  # cov scaler 학습\n",
    "        scaled_varTrScore = self.cov_scaler.transform(varTrScore)  # 변환\n",
    "        trScore = L2norm(scaled_varTrScore).sum(axis=1)  # L2norm\n",
    "\n",
    "        ## CL\n",
    "        # 각 변수 별 CL\n",
    "        for i in range(trdat.shape[1]:\n",
    "            self.varucl.append(bootstrap_limit(scaled_varTrScore[:, i], alpha=alpha / 2))\n",
    "            self.varlcl.append(bootstrap_limit(scaled_varTrScore[:, i], alpha=alpha / 2, upper=False))\n",
    "\n",
    "        # 합산 CL\n",
    "        self.UCL = bootstrap_limit(trScore, alpha=alpha)\n",
    "        self.LCL = self.UCL\n",
    "\n",
    "        return {'trScore': trScore, 'varTrScore': scaled_varTrScore}\n",
    "\n",
    "    def CL_printor(self):\n",
    "        \"\"\"\n",
    "\n",
    "        Returns\n",
    "        -------\n",
    "        UCL, LCL: float\n",
    "            upper, lower Control Limit,\n",
    "        varUCL, varLCL :\n",
    "            변수 별  UCL, LCL\n",
    "\n",
    "        \"\"\"\n",
    "\n",
    "        return {'UCL': self.UCL, 'LCL': self.LCL, 'varUCL': self.varucl, 'varLCL': self.varlcl}\n",
    "\n",
    "    def predict(self, tsdat):\n",
    "        \"\"\"\n",
    "\n",
    "        Parameters\n",
    "        ----------\n",
    "        tsdat : array\n",
    "            예측 데이터\n",
    "\n",
    "        Returns\n",
    "        -------\n",
    "        tsScore : array\n",
    "            Mset RandomForest의 Test 잔차 (이상감지 통계량)\n",
    "\n",
    "        \"\"\"\n",
    "        if isinstance(tsdat, pd.DataFrame):\n",
    "            tsdat = tsdat.values\n",
    "            delete_axis = 1\n",
    "        if isinstance(tsdat, pd.core.series.Series):\n",
    "            tsdat = tsdat.values\n",
    "\n",
    "        if tsdat.ndim == 1:\n",
    "            num_rows, num_columns = tsdat.shape[0], 1\n",
    "            delete_axis = None\n",
    "            test_intercept = np.ones((1))\n",
    "\n",
    "            # 변수 별 연산\n",
    "            y_hat_ts = np.zeros((num_rows))\n",
    "            for i in range(num_columns):\n",
    "                testX = np.concatenate((test_intercept, np.delete(tsdat, i, axis=delete_axis)), axis=delete_axis)\n",
    "                y_hat_ts[i] = testX @ self.hat_array[i]\n",
    "\n",
    "            # Row Sum\n",
    "            varTsScore = tsdat - y_hat_ts\n",
    "            scaled_varTsScore = self.cov_scaler.transform(varTsScore)  # 변환\n",
    "            tsScore = L2norm(scaled_varTsScore).sum(axis=0)  # L2norm\n",
    "\n",
    "        # tsdat.dim != 1\n",
    "        else:\n",
    "            num_rows, num_columns = tsdat.shape[0], tsdat.shape[1]\n",
    "            delete_axis = 1\n",
    "            test_intercept = np.ones((num_rows, 1))\n",
    "\n",
    "            # 변수 별 연산\n",
    "            y_hat_ts = np.zeros((num_rows, num_columns))\n",
    "            for i in range(num_columns):\n",
    "                testX = np.concatenate((test_intercept, np.delete(tsdat, i, axis=delete_axis)), axis=delete_axis)\n",
    "                y_hat_ts[:, i] = testX @ self.hat_array[:, i]\n",
    "\n",
    "            # Row Sum\n",
    "            varTsScore = tsdat - y_hat_ts\n",
    "            scaled_varTsScore = self.cov_scaler.transform(varTsScore)  # 변환\n",
    "            tsScore = L2norm(scaled_varTsScore).sum(axis=1)  # L2norm\n",
    "\n",
    "        return {'Tsscore': tsScore, 'Vartsscore': scaled_varTsScore}\n",
    "    \n",
    "    \n",
    "def mset_LinearRegression(trdat, tsdat, alpha = 0.05) :\n",
    "\n",
    "    model = mset_regress()\n",
    "    fit = model.fit(trdat, alpha)\n",
    "    CL = model.CL_printor()\n",
    "    pred = model.predict(tsdat)\n",
    "\n",
    "    # model pickle 저장\n",
    "    # saved_model = joblib.dump(model, 'mset_LR.pkl')\n",
    "\n",
    "    return {'trScore' : fit['trScore'], 'tsScore' : pred['Tsscore'], 'UCL' : CL['UCL'], 'LCL' : CL['LCL'],\n",
    "        'varTrScore' : fit['varTrScore'], 'Vartsscore' : pred['Vartsscore'], 'varUCL' : CL['varUCL'], 'varLCL' : CL['varLCL']}"
   ]
  },
  {
   "cell_type": "code",
   "execution_count": 2,
   "id": "761d30d4",
   "metadata": {},
   "outputs": [],
   "source": [
    "def mset_LinearRegression(trdat, tsdat, alpha = 0.05) :\n",
    "    \n",
    "    model = mset_regress()\n",
    "    fit = model.fit(trdat, alpha)\n",
    "    CL = model.CL_printor()\n",
    "    pred = model.predict(tsdat)\n",
    "    \n",
    "    # model pickle 저장\n",
    "    # saved_model = joblib.dump(model, 'mset_LR.pkl')\n",
    "    \n",
    "    return {'trScore' : fit['trScore'], 'tsScore' : pred['Tsscore'], 'UCL' : CL['UCL'], 'LCL' : CL['LCL'],\n",
    "            'varTrScore' : fit['varTrScore'], 'Vartsscore' : pred['Vartsscore'], 'varUCL' : CL['varUCL'], 'varLCL' : CL['varLCL']}"
   ]
  },
  {
   "cell_type": "code",
   "execution_count": 10,
   "id": "5b8e9746",
   "metadata": {},
   "outputs": [],
   "source": [
    "import pandas as pd\n",
    "import numpy as np\n",
    "from sklearn.model_selection import train_test_split"
   ]
  },
  {
   "cell_type": "code",
   "execution_count": 11,
   "id": "2c858bd0",
   "metadata": {},
   "outputs": [],
   "source": [
    "df = pd.read_csv('./data/shot6_3D365-48910.csv', encoding='euc-kr')"
   ]
  },
  {
   "cell_type": "code",
   "execution_count": 15,
   "id": "6bfdfaf4",
   "metadata": {},
   "outputs": [],
   "source": [
    "var0 = np.where(round(df.describe().iloc[2,:], 5)  == 0)[0]\n",
    "\n",
    "arr = np.delete(df.values, var0, axis=1)\n",
    "\n",
    "labels = df['판정코드']\n",
    "\n",
    "# train 정상, test 정상\n",
    "in_train, in_test = train_test_split(arr[labels == 0], test_size=0.3, shuffle=False)\n",
    "\n",
    "# test 이상\n",
    "out_test = arr[labels == 1]\n",
    "\n",
    "# test\n",
    "test = np.concatenate([in_test, out_test], axis=0)"
   ]
  },
  {
   "cell_type": "code",
   "execution_count": 21,
   "id": "6ffbe4a7",
   "metadata": {},
   "outputs": [],
   "source": [
    "def bootstrap_limit(stat, alpha=0.05, bootstrap=100, upper = True):\n",
    "    '''\n",
    "        @Description\n",
    "            Bootstrap sampling을 활용한 Control Limit 산출 기법\n",
    "\n",
    "        @Parameter\n",
    "            stat : 통계량 (정상상태의 데이터 입력)\n",
    "            alpha : Control Limit을 정하기 위한 유의수준 (0~1)\n",
    "            bootstrap : 샘플링 횟수\n",
    "        @Return\n",
    "            limit : 임계값 (CL : Control Limit)\n",
    "    '''\n",
    "    \n",
    "    alpha = alpha * 100\n",
    "    if(upper) : alpha = 100 - alpha\n",
    "    samsize = max(100, len(stat))\n",
    "    \n",
    "    stat = stat.reshape(len(stat)) # 2차원 array를 1차원 array로 변환\n",
    "    \n",
    "    # bootstrap 수 만큼 다음 작업을 반복 : samsize(최소 10000번)만큼 정상상태 데이터를 유의수준 만큼 복원 추출 후 평균 값 사용 \n",
    "    limit = np.mean(list(map(lambda x:np.percentile(np.random.choice(stat,samsize,replace=True),alpha), range(0,bootstrap))))\n",
    "    \n",
    "    return limit"
   ]
  },
  {
   "cell_type": "code",
   "execution_count": 22,
   "id": "39da7a5d",
   "metadata": {},
   "outputs": [],
   "source": [
    "model = mset_LinearRegression(pd.DataFrame(in_train[:,2:]), pd.DataFrame(test[:,2:]), alpha=0.05)"
   ]
  },
  {
   "cell_type": "code",
   "execution_count": 24,
   "id": "5ac80017",
   "metadata": {},
   "outputs": [
    {
     "ename": "AttributeError",
     "evalue": "'numpy.ndarray' object has no attribute 'columns'",
     "output_type": "error",
     "traceback": [
      "\u001b[0;31m---------------------------------------------------------------------------\u001b[0m",
      "\u001b[0;31mAttributeError\u001b[0m                            Traceback (most recent call last)",
      "Input \u001b[0;32mIn [24]\u001b[0m, in \u001b[0;36m<module>\u001b[0;34m\u001b[0m\n\u001b[0;32m----> 1\u001b[0m model \u001b[38;5;241m=\u001b[39m \u001b[43mmset_LinearRegression\u001b[49m\u001b[43m(\u001b[49m\u001b[43min_train\u001b[49m\u001b[43m[\u001b[49m\u001b[43m:\u001b[49m\u001b[43m,\u001b[49m\u001b[38;5;241;43m2\u001b[39;49m\u001b[43m:\u001b[49m\u001b[43m]\u001b[49m\u001b[43m,\u001b[49m\u001b[43m \u001b[49m\u001b[43mtest\u001b[49m\u001b[43m[\u001b[49m\u001b[43m:\u001b[49m\u001b[43m,\u001b[49m\u001b[38;5;241;43m2\u001b[39;49m\u001b[43m:\u001b[49m\u001b[43m]\u001b[49m\u001b[43m,\u001b[49m\u001b[43m \u001b[49m\u001b[43malpha\u001b[49m\u001b[38;5;241;43m=\u001b[39;49m\u001b[38;5;241;43m0.05\u001b[39;49m\u001b[43m)\u001b[49m\n",
      "Input \u001b[0;32mIn [2]\u001b[0m, in \u001b[0;36mmset_LinearRegression\u001b[0;34m(trdat, tsdat, alpha)\u001b[0m\n\u001b[1;32m      1\u001b[0m \u001b[38;5;28;01mdef\u001b[39;00m \u001b[38;5;21mmset_LinearRegression\u001b[39m(trdat, tsdat, alpha \u001b[38;5;241m=\u001b[39m \u001b[38;5;241m0.05\u001b[39m) :\n\u001b[1;32m      3\u001b[0m     model \u001b[38;5;241m=\u001b[39m mset_regress()\n\u001b[0;32m----> 4\u001b[0m     fit \u001b[38;5;241m=\u001b[39m \u001b[43mmodel\u001b[49m\u001b[38;5;241;43m.\u001b[39;49m\u001b[43mfit\u001b[49m\u001b[43m(\u001b[49m\u001b[43mtrdat\u001b[49m\u001b[43m,\u001b[49m\u001b[43m \u001b[49m\u001b[43malpha\u001b[49m\u001b[43m)\u001b[49m\n\u001b[1;32m      5\u001b[0m     CL \u001b[38;5;241m=\u001b[39m model\u001b[38;5;241m.\u001b[39mCL_printor()\n\u001b[1;32m      6\u001b[0m     pred \u001b[38;5;241m=\u001b[39m model\u001b[38;5;241m.\u001b[39mpredict(tsdat)\n",
      "Input \u001b[0;32mIn [1]\u001b[0m, in \u001b[0;36mmset_regress.fit\u001b[0;34m(self, trdat, alpha)\u001b[0m\n\u001b[1;32m     27\u001b[0m train_intercept \u001b[38;5;241m=\u001b[39m np\u001b[38;5;241m.\u001b[39mones((trdat\u001b[38;5;241m.\u001b[39mshape[\u001b[38;5;241m0\u001b[39m], \u001b[38;5;241m1\u001b[39m))\n\u001b[1;32m     28\u001b[0m y_hat_tr \u001b[38;5;241m=\u001b[39m np\u001b[38;5;241m.\u001b[39mzeros((trdat\u001b[38;5;241m.\u001b[39mshape[\u001b[38;5;241m0\u001b[39m], trdat\u001b[38;5;241m.\u001b[39mshape[\u001b[38;5;241m1\u001b[39m]))\n\u001b[0;32m---> 29\u001b[0m \u001b[38;5;28mself\u001b[39m\u001b[38;5;241m.\u001b[39mhat_array \u001b[38;5;241m=\u001b[39m np\u001b[38;5;241m.\u001b[39mzeros((\u001b[38;5;28mlen\u001b[39m(\u001b[43mtrdat\u001b[49m\u001b[38;5;241;43m.\u001b[39;49m\u001b[43mcolumns\u001b[49m), \u001b[38;5;28mlen\u001b[39m(trdat\u001b[38;5;241m.\u001b[39mcolumns)))\n\u001b[1;32m     31\u001b[0m \u001b[38;5;28;01mfor\u001b[39;00m i \u001b[38;5;129;01min\u001b[39;00m \u001b[38;5;28mrange\u001b[39m(\u001b[38;5;28mlen\u001b[39m(trdat\u001b[38;5;241m.\u001b[39mcolumns)):\n\u001b[1;32m     32\u001b[0m     trainX \u001b[38;5;241m=\u001b[39m np\u001b[38;5;241m.\u001b[39mconcatenate((train_intercept, np\u001b[38;5;241m.\u001b[39mdelete(trdat\u001b[38;5;241m.\u001b[39mvalues, i, axis\u001b[38;5;241m=\u001b[39m\u001b[38;5;241m1\u001b[39m)), axis\u001b[38;5;241m=\u001b[39m\u001b[38;5;241m1\u001b[39m)\n",
      "\u001b[0;31mAttributeError\u001b[0m: 'numpy.ndarray' object has no attribute 'columns'"
     ]
    }
   ],
   "source": [
    "model = mset_LinearRegression(in_train[:,2:], test[:,2:], alpha=0.05)"
   ]
  },
  {
   "cell_type": "code",
   "execution_count": null,
   "id": "bc6983e3",
   "metadata": {},
   "outputs": [],
   "source": []
  },
  {
   "cell_type": "code",
   "execution_count": 302,
   "id": "e787ee87",
   "metadata": {},
   "outputs": [
    {
     "data": {
      "text/plain": [
       "765.5585713001057"
      ]
     },
     "execution_count": 302,
     "metadata": {},
     "output_type": "execute_result"
    }
   ],
   "source": [
    "model['UCL']"
   ]
  },
  {
   "cell_type": "code",
   "execution_count": 312,
   "id": "c595c00f",
   "metadata": {},
   "outputs": [
    {
     "data": {
      "image/png": "[encoded data removed]",
      "text/plain": [
       "<Figure size 576x288 with 1 Axes>"
      ]
     },
     "metadata": {
      "needs_background": "light"
     },
     "output_type": "display_data"
    }
   ],
   "source": [
    "plt.figure(figsize=(8,4))\n",
    "plt.plot(model['trScore'], color='blue')\n",
    "plt.axhline(y=model['UCL'], color='red')\n",
    "# plt.plot(model['varTrScore'][:,idx], color='green')\n",
    "plt.show()"
   ]
  },
  {
   "cell_type": "code",
   "execution_count": 316,
   "id": "d0f9fb88",
   "metadata": {},
   "outputs": [
    {
     "data": {
      "image/png": "[encoded data removed]",
      "text/plain": [
       "<Figure size 576x288 with 1 Axes>"
      ]
     },
     "metadata": {
      "needs_background": "light"
     },
     "output_type": "display_data"
    }
   ],
   "source": [
    "\n",
    "plt.figure(figsize=(8,4))\n",
    "plt.plot(model['tsScore'], color='blue')\n",
    "# plt.plot(model['varTrScore'][:,idx], color='green')\n",
    "plt.axhline(y=model['UCL'], color='red', alpha=0.9)\n",
    "for i in range(8):\n",
    "    plt.axvline(x=np.arange(len(model['tsScore'])-8, len(model['tsScore']))[i], alpha=0.05, color='red')\n",
    "\n",
    "plt.show()"
   ]
  },
  {
   "cell_type": "code",
   "execution_count": 329,
   "id": "6f452797",
   "metadata": {},
   "outputs": [
    {
     "data": {
      "image/png": "[encoded data removed]",
      "text/plain": [
       "<Figure size 576x288 with 1 Axes>"
      ]
     },
     "metadata": {
      "needs_background": "light"
     },
     "output_type": "display_data"
    }
   ],
   "source": [
    "idx = 5\n",
    "plt.figure(figsize=(8,4))\n",
    "plt.plot(in_train[:,2+idx], color='blue')\n",
    "# plt.plot(model['varTrScore'][:,idx], color='green')\n",
    "\n",
    "plt.show()"
   ]
  },
  {
   "cell_type": "code",
   "execution_count": 330,
   "id": "908d622d",
   "metadata": {},
   "outputs": [
    {
     "data": {
      "image/png": "[encoded data removed]",
      "text/plain": [
       "<Figure size 576x288 with 1 Axes>"
      ]
     },
     "metadata": {
      "needs_background": "light"
     },
     "output_type": "display_data"
    }
   ],
   "source": [
    "idx = 5\n",
    "plt.figure(figsize=(8,4))\n",
    "plt.plot(test[:,2+idx], color='blue')\n",
    "# plt.plot(model['varTrScore'][:,idx], color='green')\n",
    "for i in range(8):\n",
    "    plt.axvline(x=np.arange(len(model['tsScore'])-8, len(model['tsScore']))[i], alpha=0.05, color='red')\n",
    "\n",
    "plt.show()"
   ]
  },
  {
   "cell_type": "code",
   "execution_count": 331,
   "id": "3e76536f",
   "metadata": {},
   "outputs": [
    {
     "data": {
      "image/png": "[encoded data removed]",
      "text/plain": [
       "<Figure size 576x288 with 1 Axes>"
      ]
     },
     "metadata": {
      "needs_background": "light"
     },
     "output_type": "display_data"
    }
   ],
   "source": [
    "idx = 5\n",
    "plt.figure(figsize=(8,4))\n",
    "plt.plot(model['varTrScore'][:,idx], color='blue')\n",
    "# plt.plot(model['varTrScore'][:,idx], color='green')\n",
    "plt.axhline(y=model['varLCL'][idx], color='red')\n",
    "plt.axhline(y=model['varUCL'][idx], color='red')\n",
    "plt.show()"
   ]
  },
  {
   "cell_type": "code",
   "execution_count": 332,
   "id": "6f18bfb5",
   "metadata": {},
   "outputs": [
    {
     "data": {
      "image/png": "[encoded data removed]",
      "text/plain": [
       "<Figure size 576x288 with 1 Axes>"
      ]
     },
     "metadata": {
      "needs_background": "light"
     },
     "output_type": "display_data"
    },
    {
     "name": "stdout",
     "output_type": "stream",
     "text": [
      "쿠션위치\n"
     ]
    }
   ],
   "source": [
    "idx = 5\n",
    "plt.figure(figsize=(8,4))\n",
    "plt.plot(model['Vartsscore'][:,idx], color='blue')\n",
    "# plt.plot(model['varTrScore'][:,idx], color='green')\n",
    "plt.axhline(y=model['varLCL'][idx], color='red')\n",
    "plt.axhline(y=model['varUCL'][idx], color='red')\n",
    "\n",
    "for i in range(8):\n",
    "    plt.axvline(x=np.arange(len(model['tsScore'])-8, len(model['tsScore']))[i], alpha=0.05, color='red')\n",
    "\n",
    "plt.show()\n",
    "\n",
    "print(df.drop(df.columns[var0], axis=1).columns[idx+2])"
   ]
  }
 ],
 "metadata": {
  "kernelspec": {
   "display_name": "Python 3 (ipykernel)",
   "language": "python",
   "name": "python3"
  },
  "language_info": {
   "codemirror_mode": {
    "name": "ipython",
    "version": 3
   },
   "file_extension": ".py",
   "mimetype": "text/x-python",
   "name": "python",
   "nbconvert_exporter": "python",
   "pygments_lexer": "ipython3",
   "version": "3.8.12"
  }
 },
 "nbformat": 4,
 "nbformat_minor": 5
}
