{
 "cells": [
  {
   "cell_type": "code",
   "execution_count": 1,
   "id": "a2c17fe9",
   "metadata": {},
   "outputs": [],
   "source": [
    "## Tsquare"
   ]
  },
  {
   "cell_type": "code",
   "execution_count": 2,
   "id": "6a099cc2",
   "metadata": {},
   "outputs": [],
   "source": [
    "import pandas as pd\n",
    "import numpy as np\n",
    "from sklearn.model_selection import train_test_split"
   ]
  },
  {
   "cell_type": "code",
   "execution_count": 3,
   "id": "bfe4633b",
   "metadata": {},
   "outputs": [],
   "source": [
    "\"\"\"\n",
    "Created on Wed Jul  6 14:29:39 2022\n",
    "@author: suhong\n",
    "\n",
    "Revised on Thur Jul  13 15:00:39 2022\n",
    "@author: Junhyun\n",
    "\n",
    "\"\"\"\n",
    "\n",
    "import numpy as np\n",
    "import pandas as pd\n",
    "import joblib\n",
    "\n",
    "def bootstrap_limit(stat, alpha=0.05, bootstrap=100):\n",
    "    '''\n",
    "        @Description\n",
    "            Bootstrap sampling을 활용한 Control Limit 산출 기법\n",
    "\n",
    "        @Parameter\n",
    "            stat : 통계량 (정상상태의 데이터 입력)\n",
    "            alpha : Control Limit을 정하기 위한 유의수준 (0~1)\n",
    "            bootstrap : 샘플링 횟수\n",
    "        @Return\n",
    "            limit : 임계값 (CL : Control Limit)\n",
    "    '''\n",
    "    alpha = alpha*100\n",
    "    alpha = 100 - alpha\n",
    "    samsize = max(100, len(stat))\n",
    "    \n",
    "    stat = stat.reshape(len(stat)) # 2차원 array를 1차원 array로 변환\n",
    "    \n",
    "    # bootstrap 수 만큼 다음 작업을 반복 : samsize(최소 10000번)만큼 정상상태 데이터를 유의수준 만큼 복원 추출 후 평균 값 사용 \n",
    "    limit = np.mean(list(map(lambda x:np.percentile(np.random.choice(stat,samsize,replace=True),alpha), range(0,bootstrap))))\n",
    "    \n",
    "    return limit\n",
    "\n",
    "# import Hotellings_tsquare\n",
    "\n",
    "class Hotellings_tsquare ():\n",
    "    \n",
    "    \"\"\"\n",
    "    Hotellings T square\n",
    "    \"\"\"\n",
    "    \n",
    "    def __init__(self) :\n",
    "        \n",
    "        self.tr_mu = None\n",
    "        self.tr_cov = None\n",
    "        self.cl = None\n",
    "        \n",
    "    def fit(self, trdat, alpha = 0.05) :\n",
    "        \"\"\"\n",
    "\n",
    "        Parameters\n",
    "        ----------\n",
    "        trdat : array\n",
    "            Train data\n",
    "        alpha : int, 0~1\n",
    "            Bootstrap Limit value. The default is 0.05.\n",
    "\n",
    "        Returns\n",
    "        -------\n",
    "        trScore : array\n",
    "            Train Score, 이상치 점수를 의미함. 클수록 정상패턴에서 벗어남을 의미\n",
    "        CL : float\n",
    "            trScore Control Limit\n",
    "\n",
    "        \"\"\"\n",
    "        if isinstance(trdat,(np.ndarray)):\n",
    "            trdat = pd.DataFrame(trdat)\n",
    "            \n",
    "        trScore = np.zeros((trdat.shape[0], 1))\n",
    "        self.tr_mu = trdat.mean(axis = 0)\n",
    "        self.tr_cov = trdat.cov()\n",
    "        for i in range(len(trdat)):\n",
    "            trScore[i] = (trdat.values[i] - self.tr_mu) @ np.linalg.pinv(self.tr_cov) @ (trdat.values[i] - self.tr_mu).transpose()\n",
    "        \n",
    "        self.cl = bootstrap_limit(trScore, alpha=alpha, bootstrap=100)\n",
    "        \n",
    "        return {'trScore' : trScore}\n",
    "    \n",
    "    def CL_printor(self) :\n",
    "        \"\"\"\n",
    "        \n",
    "        Returns\n",
    "        -------\n",
    "        CL: float\n",
    "            Control Limit,\n",
    "            \n",
    "        \"\"\"\n",
    "        \n",
    "        return {'CL' : self.cl}\n",
    "    \n",
    "    def predict(self, tsdat) :\n",
    "        \"\"\"\n",
    "\n",
    "        Parameters\n",
    "        ----------\n",
    "        tsdat : array\n",
    "            Test data. 예측 대상이 되는 데이터\n",
    "\n",
    "        Returns\n",
    "        -------\n",
    "        tsScore : array\n",
    "            Test data의 이상치 값\n",
    "\n",
    "        \"\"\"\n",
    "        if isinstance(tsdat,(np.ndarray)):\n",
    "            tsdat = pd.DataFrame(tsdat)\n",
    "            \n",
    "        tsScore = np.zeros((tsdat.shape[0], 1))\n",
    "        \n",
    "        for i in range(len(tsdat)):\n",
    "            tsScore[i] = (tsdat.values[i] - self.tr_mu) @ np.linalg.pinv(self.tr_cov) @ (tsdat.values[i] - self.tr_mu).transpose()\n",
    "            \n",
    "        return {'tsScore' : tsScore}"
   ]
  },
  {
   "cell_type": "code",
   "execution_count": 4,
   "id": "e7dab9fc",
   "metadata": {},
   "outputs": [],
   "source": [
    "def tsquare(trdat, tsdat, alpha=0.05):\n",
    "    \"\"\"\n",
    "\n",
    "    Parameters\n",
    "    ----------\n",
    "    trdat : array\n",
    "        Train data. 학습 대상이 되는 데이터\n",
    "    tsdat : array\n",
    "        Test data. 예측 대상이 되는 데이터\n",
    "    alpha : float, 0~1\n",
    "            Bootstrap Limit value. The default is 0.05.\n",
    "\n",
    "    Returns\n",
    "    -------\n",
    "    trScore : array\n",
    "        Train data의 이상치 값\n",
    "    tsScore : array\n",
    "        Test data의 이상치 값\n",
    "    CL : float \n",
    "        Control Limit\n",
    "\n",
    "    \"\"\"\n",
    "    model = Hotellings_tsquare()\n",
    "    fit = model.fit(trdat, alpha=alpha)\n",
    "    CL = model.CL_printor()\n",
    "    pred = model.predict(tsdat)\n",
    "    \n",
    "    # tsquare model pickle 파일로 저장\n",
    "    # saved_model = joblib.dump(model, 't2.pkl')\n",
    "    \n",
    "    return {'trScore':fit['trScore'], 'tsScore':pred['tsScore'], 'CL': CL['CL']}\n",
    "        "
   ]
  },
  {
   "cell_type": "code",
   "execution_count": 5,
   "id": "2c858bd0",
   "metadata": {},
   "outputs": [],
   "source": [
    "df = pd.read_csv('./data/shot6_3D365-48910.csv', encoding='euc-kr')"
   ]
  },
  {
   "cell_type": "code",
   "execution_count": 64,
   "id": "605bf8c5",
   "metadata": {},
   "outputs": [],
   "source": [
    "labels = df['판정코드']"
   ]
  },
  {
   "cell_type": "code",
   "execution_count": 65,
   "id": "a0bd2ada",
   "metadata": {},
   "outputs": [
    {
     "data": {
      "text/plain": [
       "0    6885\n",
       "1       8\n",
       "Name: 판정코드, dtype: int64"
      ]
     },
     "execution_count": 65,
     "metadata": {},
     "output_type": "execute_result"
    }
   ],
   "source": [
    "labels.value_counts()"
   ]
  },
  {
   "cell_type": "code",
   "execution_count": 68,
   "id": "95cbffb5",
   "metadata": {},
   "outputs": [],
   "source": [
    "# train 정상, test 정상\n",
    "in_train, in_test = train_test_split(df.loc[labels == 0], test_size=0.3, shuffle=False)"
   ]
  },
  {
   "cell_type": "code",
   "execution_count": 70,
   "id": "d737c6f5",
   "metadata": {},
   "outputs": [],
   "source": [
    "# test 이상\n",
    "out_test = df[labels == 1]\n",
    "\n",
    "# test\n",
    "test = pd.concat([in_test, out_test], axis=0)"
   ]
  },
  {
   "cell_type": "code",
   "execution_count": 74,
   "id": "ebd03909",
   "metadata": {},
   "outputs": [
    {
     "data": {
      "text/plain": [
       "0    2066\n",
       "1       8\n",
       "Name: 판정코드, dtype: int64"
      ]
     },
     "execution_count": 74,
     "metadata": {},
     "output_type": "execute_result"
    }
   ],
   "source": [
    "test['판정코드'].value_counts()"
   ]
  },
  {
   "cell_type": "code",
   "execution_count": 76,
   "id": "39da7a5d",
   "metadata": {},
   "outputs": [],
   "source": [
    "model = tsquare(in_train.iloc[:,2:], test.iloc[:,2:], alpha=0.05)"
   ]
  },
  {
   "cell_type": "code",
   "execution_count": 95,
   "id": "1ae81420",
   "metadata": {
    "scrolled": true
   },
   "outputs": [
    {
     "data": {
      "image/png": "[encoded data removed]",
      "text/plain": [
       "<Figure size 576x288 with 1 Axes>"
      ]
     },
     "metadata": {
      "needs_background": "light"
     },
     "output_type": "display_data"
    }
   ],
   "source": [
    "import matplotlib.pyplot as plt\n",
    "plt.figure(figsize=(8,4))\n",
    "plt.plot(model['tsScore'], color='blue')\n",
    "plt.axhline(y = model['CL'])\n",
    "plt.show()"
   ]
  },
  {
   "cell_type": "code",
   "execution_count": 48,
   "id": "bcde646b",
   "metadata": {},
   "outputs": [],
   "source": [
    "# index : 0~32 실제 값\n",
    "# index : 33~ 세팅 값"
   ]
  },
  {
   "cell_type": "code",
   "execution_count": null,
   "id": "dec8e787",
   "metadata": {},
   "outputs": [],
   "source": []
  }
 ],
 "metadata": {
  "kernelspec": {
   "display_name": "Python 3 (ipykernel)",
   "language": "python",
   "name": "python3"
  },
  "language_info": {
   "codemirror_mode": {
    "name": "ipython",
    "version": 3
   },
   "file_extension": ".py",
   "mimetype": "text/x-python",
   "name": "python",
   "nbconvert_exporter": "python",
   "pygments_lexer": "ipython3",
   "version": "3.8.12"
  }
 },
 "nbformat": 4,
 "nbformat_minor": 5
}
