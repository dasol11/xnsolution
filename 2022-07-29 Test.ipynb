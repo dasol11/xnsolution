{
 "cells": [
  {
   "cell_type": "code",
   "execution_count": 6,
   "id": "cda008cb",
   "metadata": {},
   "outputs": [],
   "source": [
    "import pandas as pd\n",
    "import numpy as np\n",
    "import matplotlib.pyplot as plt"
   ]
  },
  {
   "cell_type": "code",
   "execution_count": 2,
   "id": "20c93829",
   "metadata": {},
   "outputs": [],
   "source": [
    "data = pd.read_csv('./data/shot6_3D365-48910.csv', encoding='euc-kr')"
   ]
  },
  {
   "cell_type": "code",
   "execution_count": 4,
   "id": "f03a856b",
   "metadata": {},
   "outputs": [
    {
     "name": "stdout",
     "output_type": "stream",
     "text": [
      "순번\n",
      "판정코드\n",
      "보압+사출시간\n",
      "사출시간\n",
      "계량시간\n",
      "공정시간\n",
      "형폐시간\n",
      "쿠션위치\n",
      "보압절환위치\n",
      "계량완료위치\n",
      "형계위치\n",
      "사출최대속도\n",
      "사출최대압력\n",
      "보압절환압력\n",
      "최대배압\n",
      "히터1\n",
      "히터2\n",
      "히터3\n",
      "히터4\n",
      "히터5\n",
      "히터6\n",
      "히터7\n",
      "호퍼온도\n",
      "금형온도1(외부온도1)\n",
      "금형온도2(외부온도2)\n",
      "금형온도3(외부온도3)\n",
      "금형온도4(외부온도4)\n",
      "금형온도5(외부온도5)\n",
      "금형온도6(외부온도6)\n",
      "금형온도7(외부온도7)\n",
      "금형온도8(외부온도8)\n",
      "금형온도9(외부온도9)\n",
      "금형온도10(외부온도10)\n",
      "SETTING_사출속도_1\n",
      "SETTING_사출속도_2\n",
      "SETTING_사출속도_3\n",
      "SETTING_사출속도_4\n",
      "SETTING_사출속도_5\n",
      "SETTING_사출속도_6\n",
      "SETTING_사출속도_7\n",
      "SETTING_사출속도_8\n",
      "SETTING_사출속도_9\n",
      "SETTING_사출속도_10\n",
      "SETTING_사출압력_1\n",
      "SETTING_사출압력_2\n",
      "SETTING_사출압력_3\n",
      "SETTING_사출압력_4\n",
      "SETTING_사출압력_5\n",
      "SETTING_사출압력_6\n",
      "SETTING_사출압력_7\n",
      "SETTING_사출압력_8\n",
      "SETTING_사출압력_9\n",
      "SETTING_사출압력_10\n",
      "SETTING_사출거리_1\n",
      "SETTING_사출거리_2\n",
      "SETTING_사출거리_3\n",
      "SETTING_사출거리_4\n",
      "SETTING_사출거리_5\n",
      "SETTING_사출거리_6\n",
      "SETTING_사출거리_7\n",
      "SETTING_사출거리_8\n",
      "SETTING_사출거리_9\n",
      "SETTING_사출거리_10\n",
      "SETTING_보압압력_1\n",
      "SETTING_보압압력_2\n",
      "SETTING_보압압력_3\n",
      "SETTING_보압압력_4\n",
      "SETTING_보압압력_5\n",
      "SETTING_보압시간_1\n",
      "SETTING_보압시간_2\n",
      "SETTING_보압시간_3\n",
      "SETTING_보압시간_4\n",
      "SETTING_보압시간_5\n",
      "SETTING_보압속도_1\n",
      "SETTING_보압속도_2\n",
      "SETTING_보압속도_3\n",
      "SETTING_보압속도_4\n",
      "SETTING_보압속도_5\n",
      "SETTING_계량위치_1\n",
      "SETTING_계량위치_2\n",
      "SETTING_계량위치_3\n",
      "SETTING_계량위치_4\n",
      "SETTING_계량속도_1\n",
      "SETTING_계량속도_2\n",
      "SETTING_계량속도_3\n",
      "SETTING_계량속도_4\n",
      "SETTING_배압_1\n",
      "SETTING_배압_2\n",
      "SETTING_배압_3\n",
      "SETTING_배압_4\n",
      "SETTING_강제후퇴거리_1\n",
      "SETTING_강제후퇴거리_2\n",
      "SETTING_강제후퇴속도_1\n",
      "SETTING_강제후퇴속도_2\n",
      "SETTING_히터_1\n",
      "SETTING_히터_2\n",
      "SETTING_히터_3\n",
      "SETTING_히터_4\n",
      "SETTING_히터_5\n",
      "SETTING_히터_6\n",
      "SETTING_히터_7\n",
      "SETTING_호퍼온도\n",
      "SETTING_금형온도1(외부온도1)\n",
      "SETTING_금형온도2(외부온도2)\n",
      "SETTING_금형온도3(외부온도3)\n",
      "SETTING_금형온도4(외부온도4)\n",
      "SETTING_금형온도5(외부온도5)\n",
      "SETTING_금형온도6(외부온도6)\n",
      "SETTING_금형온도7(외부온도7)\n",
      "SETTING_금형온도8(외부온도8)\n",
      "SETTING_금형온도9(외부온도9)\n",
      "SETTING_금형온도10(외부온도10)\n",
      "SETTING_금형온도11(외부온도11)\n",
      "SETTING_금형온도12(외부온도12)\n",
      "SETTING_사출시간\n",
      "SETTING_냉각시간\n",
      "SETTING_사출지연시간\n",
      "SETTING_계량지연시간\n"
     ]
    }
   ],
   "source": [
    "for i in range(len(data.columns)):\n",
    "    print(data.columns[i])"
   ]
  },
  {
   "cell_type": "code",
   "execution_count": 5,
   "id": "2f7ad5b1",
   "metadata": {},
   "outputs": [
    {
     "data": {
      "text/plain": [
       "0       22.0\n",
       "1       22.8\n",
       "2       27.4\n",
       "3       23.5\n",
       "4       86.4\n",
       "        ... \n",
       "6888    23.5\n",
       "6889    44.7\n",
       "6890    44.7\n",
       "6891    21.6\n",
       "6892    21.6\n",
       "Name: 공정시간, Length: 6893, dtype: float64"
      ]
     },
     "execution_count": 5,
     "metadata": {},
     "output_type": "execute_result"
    }
   ],
   "source": [
    "data['공정시간']"
   ]
  },
  {
   "cell_type": "code",
   "execution_count": 13,
   "id": "f8dec161",
   "metadata": {},
   "outputs": [],
   "source": [
    "from sklearn.preprocessing import MinMaxScaler"
   ]
  },
  {
   "cell_type": "code",
   "execution_count": 18,
   "id": "ec5fda9f",
   "metadata": {},
   "outputs": [
    {
     "data": {
      "text/plain": [
       "MinMaxScaler()"
      ]
     },
     "execution_count": 18,
     "metadata": {},
     "output_type": "execute_result"
    }
   ],
   "source": [
    "scaler = MinMaxScaler()\n",
    "scaler.fit(pd.DataFrame(data['공정시간']))"
   ]
  },
  {
   "cell_type": "code",
   "execution_count": 20,
   "id": "efecab7b",
   "metadata": {},
   "outputs": [],
   "source": [
    "scaled = scaler.transform(pd.DataFrame(data['공정시간']))"
   ]
  },
  {
   "cell_type": "code",
   "execution_count": 25,
   "id": "c044819c",
   "metadata": {},
   "outputs": [
    {
     "data": {
      "image/png": "[encoded data removed]",
      "text/plain": [
       "<Figure size 576x288 with 1 Axes>"
      ]
     },
     "metadata": {
      "needs_background": "light"
     },
     "output_type": "display_data"
    }
   ],
   "source": [
    "plt.figure(figsize=(8,4))\n",
    "plt.plot(data['공정시간'], color='darkblue', alpha=0.5)\n",
    "plt.plot(data['사출시간'], alpha=1)\n",
    "plt.show()"
   ]
  },
  {
   "cell_type": "code",
   "execution_count": 22,
   "id": "20d59ac1",
   "metadata": {},
   "outputs": [
    {
     "data": {
      "image/png": "[encoded data removed]",
      "text/plain": [
       "<Figure size 576x288 with 1 Axes>"
      ]
     },
     "metadata": {
      "needs_background": "light"
     },
     "output_type": "display_data"
    }
   ],
   "source": [
    "plt.figure(figsize=(8,4))\n",
    "plt.plot(scaled, color='darkblue', alpha=0.5)\n",
    "plt.show()"
   ]
  }
 ],
 "metadata": {
  "kernelspec": {
   "display_name": "Python 3 (ipykernel)",
   "language": "python",
   "name": "python3"
  },
  "language_info": {
   "codemirror_mode": {
    "name": "ipython",
    "version": 3
   },
   "file_extension": ".py",
   "mimetype": "text/x-python",
   "name": "python",
   "nbconvert_exporter": "python",
   "pygments_lexer": "ipython3",
   "version": "3.8.12"
  }
 },
 "nbformat": 4,
 "nbformat_minor": 5
}
