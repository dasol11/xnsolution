{
 "cells": [
  {
   "cell_type": "code",
   "execution_count": 6,
   "id": "4dc38332",
   "metadata": {},
   "outputs": [],
   "source": []
  },
  {
   "cell_type": "code",
   "execution_count": 85,
   "id": "0544857e",
   "metadata": {},
   "outputs": [],
   "source": [
    "from sklearn.linear_model import LogisticRegression\n",
    "import numpy as np\n",
    "import pandas as pd\n",
    "import matplotlib.pyplot as plt\n",
    "from sklearn.model_selection import train_test_split\n",
    "from sklearn.linear_model import LogisticRegression\n",
    "from sklearn.metrics import confusion_matrix\n",
    "from sklearn.metrics import roc_auc_score\n",
    "# Logistic Regression\n",
    "def logisticRegression(trainX, trainY, testX, testY, decision_boundary=0.5):\n",
    "    '''\n",
    "        @Input \n",
    "            trainX : type : array\n",
    "            trainY : type : array\n",
    "            testX : type : array\n",
    "            decision_boundary : type : float\n",
    "        @Output\n",
    "            pred : type : array\n",
    "    '''\n",
    "    model = LogisticRegression(random_state=0).fit(trainX, trainY)\n",
    "    pred_prob = model.predict_proba(testX)\n",
    "    \n",
    "    pred = np.array([], dtype=np.int32)\n",
    "    \n",
    "    for i in range(len(pred_prob)):\n",
    "        if (pred_prob[i][1]>decision_boundary) == True:\n",
    "            pred = np.append(pred, 1)\n",
    "        else:\n",
    "            pred = np.append(pred, 0)\n",
    "            \n",
    "    cofMat = confusion_matrix(testY, pred, labels=[1,0]) # 1: 불량, 0: 정상\n",
    "\n",
    "    #calculate AUC of model\n",
    "    auc = roc_auc_score(testY, pred)\n",
    "    \n",
    "    return({\"pred_prob\" : pred_prob[:,1], \"pred\" : pred, \"confusionMatrix\" : cofMat, \"AucScore\" : auc}) # type : int32"
   ]
  },
  {
   "cell_type": "code",
   "execution_count": 2,
   "id": "a57d2427",
   "metadata": {},
   "outputs": [
    {
     "ename": "NameError",
     "evalue": "name 'LogisticRegression' is not defined",
     "output_type": "error",
     "traceback": [
      "\u001b[0;31m---------------------------------------------------------------------------\u001b[0m",
      "\u001b[0;31mNameError\u001b[0m                                 Traceback (most recent call last)",
      "Input \u001b[0;32mIn [2]\u001b[0m, in \u001b[0;36m<module>\u001b[0;34m\u001b[0m\n\u001b[0;32m----> 1\u001b[0m model \u001b[38;5;241m=\u001b[39m \u001b[43mLogisticRegression\u001b[49m(random_state\u001b[38;5;241m=\u001b[39m\u001b[38;5;241m0\u001b[39m)\u001b[38;5;241m.\u001b[39mfit(trainX, trainY)\n\u001b[1;32m      2\u001b[0m pred_prob \u001b[38;5;241m=\u001b[39m model\u001b[38;5;241m.\u001b[39mpredict_proba(testX)\n",
      "\u001b[0;31mNameError\u001b[0m: name 'LogisticRegression' is not defined"
     ]
    }
   ],
   "source": []
  },
  {
   "cell_type": "code",
   "execution_count": null,
   "id": "b403ea0b",
   "metadata": {},
   "outputs": [],
   "source": []
  },
  {
   "cell_type": "code",
   "execution_count": 19,
   "id": "bd3faca1",
   "metadata": {},
   "outputs": [
    {
     "data": {
      "text/plain": [
       "'/workspace/xnsolution'"
      ]
     },
     "execution_count": 19,
     "metadata": {},
     "output_type": "execute_result"
    }
   ],
   "source": [
    "import os\n",
    "os.getcwd()"
   ]
  },
  {
   "cell_type": "code",
   "execution_count": 3,
   "id": "66e2d3a6",
   "metadata": {},
   "outputs": [],
   "source": [
    "import pandas as pd\n",
    "import numpy as np\n",
    "df = pd.read_csv('/workspace/xnsolution/data/사출6호기테스트.csv', encoding='euc-kr', header=None)\n",
    "\n",
    "trainX = df.iloc[:,7:9]\n",
    "trainY = df.iloc[:,0]\n",
    "testX = df.iloc[:,7:9]\n",
    "testY = df.iloc[:,0]"
   ]
  },
  {
   "cell_type": "code",
   "execution_count": 80,
   "id": "9fd17006",
   "metadata": {},
   "outputs": [],
   "source": [
    "model = logisticRegression(trainX, trainY, testX, testY, decision_boundary=0.5)"
   ]
  },
  {
   "cell_type": "code",
   "execution_count": 88,
   "id": "a05c95ea",
   "metadata": {
    "scrolled": true
   },
   "outputs": [
    {
     "data": {
      "text/plain": [
       "array([0.00039533, 0.00039533, 0.00039533, ..., 0.0006609 , 0.0006609 ,\n",
       "       0.0006609 ])"
      ]
     },
     "execution_count": 88,
     "metadata": {},
     "output_type": "execute_result"
    }
   ],
   "source": [
    "model['pred_prob']"
   ]
  },
  {
   "cell_type": "code",
   "execution_count": 89,
   "id": "34f767dd",
   "metadata": {},
   "outputs": [
    {
     "data": {
      "image/png": "[encoded data removed]",
      "text/plain": [
       "<Figure size 576x288 with 1 Axes>"
      ]
     },
     "metadata": {
      "needs_background": "light"
     },
     "output_type": "display_data"
    }
   ],
   "source": [
    "import matplotlib.pyplot as plt\n",
    "plt.figure(figsize=(8,4))\n",
    "plt.plot(model['pred_prob'])\n",
    "plt.show()"
   ]
  },
  {
   "cell_type": "code",
   "execution_count": null,
   "id": "b282b2a7",
   "metadata": {},
   "outputs": [],
   "source": []
  }
 ],
 "metadata": {
  "kernelspec": {
   "display_name": "Python 3 (ipykernel)",
   "language": "python",
   "name": "python3"
  },
  "language_info": {
   "codemirror_mode": {
    "name": "ipython",
    "version": 3
   },
   "file_extension": ".py",
   "mimetype": "text/x-python",
   "name": "python",
   "nbconvert_exporter": "python",
   "pygments_lexer": "ipython3",
   "version": "3.8.12"
  }
 },
 "nbformat": 4,
 "nbformat_minor": 5
}
