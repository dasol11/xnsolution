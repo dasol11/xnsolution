{
 "cells": [
  {
   "cell_type": "code",
   "execution_count": 1,
   "id": "4dc38332",
   "metadata": {},
   "outputs": [],
   "source": [
    "from sklearn.linear_model import LinearRegression\n",
    "import numpy as np\n",
    "import pandas as pd\n",
    "from sklearn.datasets import load_iris\n",
    "import matplotlib.pyplot as plt\n",
    "from sklearn.model_selection import train_test_split"
   ]
  },
  {
   "cell_type": "code",
   "execution_count": null,
   "id": "0544857e",
   "metadata": {},
   "outputs": [],
   "source": [
    "from sklearn.linear_model import LogisticRegression\n",
    "from sklearn.metrics import confusion_matrix\n",
    "from sklearn.metrics import roc_auc_score\n",
    "# Logistic Regression\n",
    "def logisticRegression(trainX, trainY, testX, decision_boundary=0.5):\n",
    "    '''\n",
    "        @Input \n",
    "            trainX : type : array\n",
    "            trainY : type : array\n",
    "            testX : type : array\n",
    "            decision_boundary : type : float\n",
    "        @Output\n",
    "            pred : type : array\n",
    "    '''\n",
    "    model = LogisticRegression(random_state=0).fit(trainX, trainY)\n",
    "    pred_prob = model.predict_proba(testX)\n",
    "    \n",
    "    pred = np.array([], dtype=np.int32)\n",
    "    \n",
    "    for i in range(len(pred_prob)):\n",
    "        if (pred_prob[i][1]>decision_boundary) == True:\n",
    "            pred = np.append(pred, 1)\n",
    "        else:\n",
    "            pred = np.append(pred, 0)\n",
    "            \n",
    "    cofMat = confusion_matrix(testY, pred, labels=[1,0]) # 1: 불량, 0: 정상\n",
    "\n",
    "    #calculate AUC of model\n",
    "    auc = roc_auc_score(testY, pred)\n",
    "    \n",
    "    return({\"pred_prob\" : pred_prob, \"pred\" : pred, \"confusionMatrix\" : cofMat, \"AucScore\" : auc}) # type : int32"
   ]
  },
  {
   "cell_type": "code",
   "execution_count": null,
   "id": "bd3faca1",
   "metadata": {},
   "outputs": [],
   "source": []
  },
  {
   "cell_type": "code",
   "execution_count": null,
   "id": "66e2d3a6",
   "metadata": {},
   "outputs": [],
   "source": []
  },
  {
   "cell_type": "code",
   "execution_count": null,
   "id": "b6f2bf83",
   "metadata": {},
   "outputs": [],
   "source": []
  },
  {
   "cell_type": "code",
   "execution_count": null,
   "id": "b282b2a7",
   "metadata": {},
   "outputs": [],
   "source": []
  }
 ],
 "metadata": {
  "kernelspec": {
   "display_name": "Python 3 (ipykernel)",
   "language": "python",
   "name": "python3"
  },
  "language_info": {
   "codemirror_mode": {
    "name": "ipython",
    "version": 3
   },
   "file_extension": ".py",
   "mimetype": "text/x-python",
   "name": "python",
   "nbconvert_exporter": "python",
   "pygments_lexer": "ipython3",
   "version": "3.8.12"
  }
 },
 "nbformat": 4,
 "nbformat_minor": 5
}
