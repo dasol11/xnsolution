{
 "cells": [
  {
   "cell_type": "code",
   "execution_count": 8,
   "id": "bfe4633b",
   "metadata": {},
   "outputs": [],
   "source": [
    "## MSET\n",
    "from sklearn.model_selection import train_test_split\n",
    "import numpy as np\n",
    "import pandas as pd\n",
    "import joblib\n",
    "import pickle\n",
    "from scipy import linalg # covaraince sclaer\n",
    "\n",
    "def bootstrap_limit(stat, alpha=0.05, bootstrap=100, upper = True):\n",
    "    '''\n",
    "        @Description\n",
    "            Bootstrap sampling을 활용한 Control Limit 산출 기법\n",
    "\n",
    "        @Parameter\n",
    "            stat : 통계량 (정상상태의 데이터 입력)\n",
    "            alpha : Control Limit을 정하기 위한 유의수준 (0~1)\n",
    "            bootstrap : 샘플링 횟수\n",
    "        @Return\n",
    "            limit : 임계값 (CL : Control Limit)\n",
    "    '''\n",
    "    \n",
    "    alpha = alpha * 100\n",
    "    if(upper) : alpha = 100 - alpha\n",
    "    samsize = max(100, len(stat))\n",
    "    \n",
    "    stat = stat.reshape(len(stat)) # 2차원 array를 1차원 array로 변환\n",
    "    \n",
    "    # bootstrap 수 만큼 다음 작업을 반복 : samsize(최소 10000번)만큼 정상상태 데이터를 유의수준 만큼 복원 추출 후 평균 값 사용 \n",
    "    limit = np.mean(list(map(lambda x:np.percentile(np.random.choice(stat,samsize,replace=True),alpha), range(0,bootstrap))))\n",
    "    \n",
    "    return limit\n",
    "\n",
    "def L2norm(stat):\n",
    "    return(np.sqrt(stat**2))\n",
    "\n",
    "def matrix_inv(matrix):\n",
    "    return linalg.pinv(matrix,cond=1.490116e-08)\n",
    "\n",
    "class msetLR_covariance_scaler() :\n",
    "    \n",
    "    def __init__(self) :\n",
    "        \n",
    "        self.cov_inv_matrix = None\n",
    "            \n",
    "    def fit(self, trdat):\n",
    "        \n",
    "        cov_mat = np.cov(trdat.transpose())\n",
    "        self.cov_inv_matrix = matrix_inv(cov_mat)\n",
    "        \n",
    "    def transform(self, tsdat) :\n",
    "        if isinstance(tsdat, list) :\n",
    "            tsdat = np.array(tsdat).transpose()\n",
    "            \n",
    "        scaled_residual = np.dot(np.array(tsdat), self.cov_inv_matrix)\n",
    "        return scaled_residual\n",
    "    \n",
    "class mset_regress() :\n",
    "    \n",
    "    def __init__(self) :\n",
    "        self.hat_array = None # model이 되는 hat_matrix 저장\n",
    "        self.UCL = None\n",
    "        self.LCL = None\n",
    "        self.varucl = []\n",
    "        self.varlcl = []\n",
    "        self.cov_scaler = msetLR_covariance_scaler()\n",
    "    \n",
    "    def fit(self, trdat, alpha = 0.05) :\n",
    "        \"\"\"\n",
    "\n",
    "        Parameters\n",
    "        ----------\n",
    "        trdat : array\n",
    "            학습 데이터\n",
    "        alpha : float, 0~1, default = 0.05\n",
    "            Control limit의 유의 수준\n",
    "        Returns\n",
    "        -------\n",
    "        trScore : array\n",
    "            Mset Linearregresion의 Train 잔차 (이상감지 통계량)\n",
    "\n",
    "        \"\"\"\n",
    "        train_intercept = np.ones((trdat.shape[0],1))    \n",
    "        y_hat_tr = np.zeros((trdat.shape[0], trdat.shape[1]))\n",
    "        self.hat_array = np.zeros((len(trdat.columns), len(trdat.columns)))\n",
    "\n",
    "        for i in range(len(trdat.columns)) :\n",
    "            trainX = np.concatenate((train_intercept, np.delete(trdat.values,i,axis=1)), axis=1)\n",
    "            trainY = trdat.values[:,i]\n",
    "            \n",
    "            self.hat_array[i] = np.linalg.pinv(trainX.transpose() @ trainX) @ trainX.transpose() @ trainY\n",
    "            y_hat_tr[:,i] = trainX @ self.hat_array[i]            \n",
    "            \n",
    "        # 각 변수 별 Trscore\n",
    "        varTrScore =  trdat.values - y_hat_tr\n",
    "        \n",
    "        # Trscore rowsum\n",
    "        self.cov_scaler.fit(trdat) # cov scaler 학습\n",
    "        scaled_varTrScore = self.cov_scaler.transform(varTrScore) # 변환\n",
    "        trScore = L2norm(scaled_varTrScore).sum(axis = 1) # L2norm\n",
    "        \n",
    "        ## CL\n",
    "        # 각 변수 별 CL\n",
    "        for i in range(len(trdat.columns)) :\n",
    "            \n",
    "            self.varucl.append(bootstrap_limit(scaled_varTrScore[:, i], alpha=alpha/2))\n",
    "            self.varlcl.append(bootstrap_limit(scaled_varTrScore[:, i], alpha=alpha/2, upper=False))\n",
    "        \n",
    "        # 합산 CL\n",
    "        self.UCL = bootstrap_limit(trScore, alpha = alpha)\n",
    "        self.LCL = self.UCL\n",
    "    \n",
    "        return {'trScore' : trScore, 'varTrScore' : scaled_varTrScore}\n",
    "    \n",
    "    def CL_printor(self) :\n",
    "        \"\"\"\n",
    "        \n",
    "        Returns\n",
    "        -------\n",
    "        UCL, LCL: float\n",
    "            upper, lower Control Limit,\n",
    "        varUCL, varLCL :\n",
    "            변수 별  UCL, LCL\n",
    "            \n",
    "        \"\"\"\n",
    "        \n",
    "        return {'UCL' : self.UCL, 'LCL' : self.LCL, 'varUCL' : self.varucl, 'varLCL' : self.varlcl}\n",
    "    \n",
    "    def predict(self, tsdat) :\n",
    "        \"\"\"\n",
    "\n",
    "        Parameters\n",
    "        ----------\n",
    "        tsdat : array\n",
    "            예측 데이터\n",
    "\n",
    "        Returns\n",
    "        -------\n",
    "        tsScore : array\n",
    "            Mset RandomForest의 Test 잔차 (이상감지 통계량)\n",
    "\n",
    "        \"\"\"\n",
    "        if isinstance(tsdat, pd.DataFrame) :\n",
    "            tsdat = tsdat.values\n",
    "            delete_axis = 1\n",
    "        if isinstance(tsdat, pd.core.series.Series) :\n",
    "            tsdat = tsdat.values\n",
    "            \n",
    "        if tsdat.ndim == 1 :\n",
    "            num_rows, num_columns = tsdat.shape[0], 1\n",
    "            delete_axis = None\n",
    "            test_intercept = np.ones((1))\n",
    "           \n",
    "            # 변수 별 연산\n",
    "            y_hat_ts = np.zeros((num_rows))\n",
    "            for i in range(len(trdat.columns)):\n",
    "                testX = np.concatenate((test_intercept, np.delete(tsdat,i,axis=delete_axis)), axis=delete_axis)\n",
    "                y_hat_ts[i] = testX @ self.hat_array[i]\n",
    "        \n",
    "               # Row Sum\n",
    "                varTsScore =  tsdat - y_hat_ts\n",
    "                scaled_varTsScore = self.cov_scaler.transform(varTsScore) # 변환\n",
    "                tsScore = L2norm(scaled_varTsScore).sum(axis = 0) # L2norm\n",
    "\n",
    "        # tsdat.dim != 1\n",
    "        else :\n",
    "            num_rows, num_columns = tsdat.shape[0], tsdat.shape[1]\n",
    "            delete_axis = 1\n",
    "            test_intercept = np.ones((num_rows,1))\n",
    "\n",
    "            # 변수 별 연산 \n",
    "            y_hat_ts = np.zeros((num_rows, num_columns))\n",
    "            for i in range(len(trdat.columns)) :\n",
    "                testX = np.concatenate((test_intercept, np.delete(tsdat,i,axis=delete_axis)), axis=delete_axis)\n",
    "                y_hat_ts[:,i] = testX @ self.hat_array[:,i]\n",
    "\n",
    "            # Row Sum                \n",
    "            varTsScore =  tsdat - y_hat_ts\n",
    "            scaled_varTsScore = self.cov_scaler.transform(varTsScore) # 변환\n",
    "            tsScore = L2norm(scaled_varTsScore).sum(axis = 1) # L2norm\n",
    "            \n",
    "        return {'tsScore' : tsScore, 'varTsScore' : scaled_varTsScore}\n",
    "    \n",
    "def mset_LinearRegression(trdat, tsdat, alpha = 0.05) :\n",
    "    \n",
    "    model = mset_regress()\n",
    "    fit = model.fit(trdat, alpha)\n",
    "    CL = model.CL_printor()\n",
    "    pred = model.predict(tsdat)\n",
    "    \n",
    "    # model pickle 저장\n",
    "    saved_model = joblib.dump(model, 'mset_LR.pkl')\n",
    "    \n",
    "    return {'trScore' : fit['trScore'], 'tsScore' : pred['tsScore'], 'UCL' : CL['UCL'], 'LCL' : CL['LCL'],\n",
    "            'varTrScore' : fit['varTrScore'], 'varTsScore' : pred['varTsScore'], 'varUCL' : CL['varUCL'], 'varLCL' : CL['varLCL']}"
   ]
  },
  {
   "cell_type": "code",
   "execution_count": 9,
   "id": "2c858bd0",
   "metadata": {},
   "outputs": [],
   "source": [
    "df = pd.read_csv('./data/shot6_3D365-48910.csv', encoding='euc-kr')"
   ]
  },
  {
   "cell_type": "code",
   "execution_count": 10,
   "id": "605bf8c5",
   "metadata": {},
   "outputs": [],
   "source": [
    "labels = df['판정코드']"
   ]
  },
  {
   "cell_type": "code",
   "execution_count": 11,
   "id": "a0bd2ada",
   "metadata": {},
   "outputs": [
    {
     "data": {
      "text/plain": [
       "0    6885\n",
       "1       8\n",
       "Name: 판정코드, dtype: int64"
      ]
     },
     "execution_count": 11,
     "metadata": {},
     "output_type": "execute_result"
    }
   ],
   "source": [
    "labels.value_counts()"
   ]
  },
  {
   "cell_type": "code",
   "execution_count": 12,
   "id": "95cbffb5",
   "metadata": {},
   "outputs": [],
   "source": [
    "# train 정상, test 정상\n",
    "in_train, in_test = train_test_split(df.loc[labels == 0], test_size=0.3, shuffle=False)"
   ]
  },
  {
   "cell_type": "code",
   "execution_count": 13,
   "id": "d737c6f5",
   "metadata": {},
   "outputs": [],
   "source": [
    "# test 이상\n",
    "out_test = df[labels == 1]\n",
    "\n",
    "# test\n",
    "test = pd.concat([in_test, out_test], axis=0)"
   ]
  },
  {
   "cell_type": "code",
   "execution_count": 14,
   "id": "ebd03909",
   "metadata": {},
   "outputs": [
    {
     "data": {
      "text/plain": [
       "0    2066\n",
       "1       8\n",
       "Name: 판정코드, dtype: int64"
      ]
     },
     "execution_count": 14,
     "metadata": {},
     "output_type": "execute_result"
    }
   ],
   "source": [
    "test['판정코드'].value_counts()"
   ]
  },
  {
   "cell_type": "code",
   "execution_count": null,
   "id": "39da7a5d",
   "metadata": {},
   "outputs": [],
   "source": [
    "model = mset_LinearRegression(in_train.iloc[:,2:], test.iloc[:,2:], alpha=0.05)"
   ]
  },
  {
   "cell_type": "code",
   "execution_count": 95,
   "id": "1ae81420",
   "metadata": {},
   "outputs": [
    {
     "data": {
      "image/png": "[encoded data removed]",
      "text/plain": [
       "<Figure size 576x288 with 1 Axes>"
      ]
     },
     "metadata": {
      "needs_background": "light"
     },
     "output_type": "display_data"
    }
   ],
   "source": [
    "import matplotlib.pyplot as plt\n",
    "plt.figure(figsize=(8,4))\n",
    "plt.plot(model['tsScore'], color='blue')\n",
    "plt.axhline(y = model['CL'])\n",
    "plt.show()"
   ]
  },
  {
   "cell_type": "code",
   "execution_count": null,
   "id": "e92d2d3d",
   "metadata": {},
   "outputs": [],
   "source": []
  },
  {
   "cell_type": "code",
   "execution_count": null,
   "id": "1a28df57",
   "metadata": {},
   "outputs": [],
   "source": []
  },
  {
   "cell_type": "code",
   "execution_count": 40,
   "id": "7f22ac1d",
   "metadata": {},
   "outputs": [],
   "source": [
    "# train 정상, test 정상\n",
    "in_train, in_test = train_test_split(df.values[labels == 0, 2:33], test_size=0.3, shuffle=False)\n",
    "\n",
    "# test 이상\n",
    "out_test = df.values[labels == 1, 2:33]\n",
    "\n",
    "# test\n",
    "test = np.concatenate([in_test, out_test], axis=0)\n",
    "\n",
    "model2 = tsquare(in_train, test, alpha=0.05)"
   ]
  },
  {
   "cell_type": "code",
   "execution_count": 41,
   "id": "878b8d81",
   "metadata": {},
   "outputs": [
    {
     "data": {
      "image/png": "[encoded data removed]",
      "text/plain": [
       "<Figure size 576x288 with 1 Axes>"
      ]
     },
     "metadata": {
      "needs_background": "light"
     },
     "output_type": "display_data"
    }
   ],
   "source": [
    "import matplotlib.pyplot as plt\n",
    "plt.figure(figsize=(8,4))\n",
    "plt.plot(model2['tsScore'], color='blue')\n",
    "# plt.axhline(y = model['CL'], color='red')\n",
    "plt.show()"
   ]
  },
  {
   "cell_type": "code",
   "execution_count": 48,
   "id": "bcde646b",
   "metadata": {},
   "outputs": [],
   "source": [
    "# index : 0~32 실제 값\n",
    "# index : 33~ 세팅 값"
   ]
  },
  {
   "cell_type": "code",
   "execution_count": null,
   "id": "4194889c",
   "metadata": {},
   "outputs": [],
   "source": []
  },
  {
   "cell_type": "code",
   "execution_count": 45,
   "id": "ba153179",
   "metadata": {},
   "outputs": [
    {
     "data": {
      "text/plain": [
       "48.42177209055219"
      ]
     },
     "execution_count": 45,
     "metadata": {},
     "output_type": "execute_result"
    }
   ],
   "source": [
    "model['CL']"
   ]
  },
  {
   "cell_type": "code",
   "execution_count": 47,
   "id": "fbe24bab",
   "metadata": {},
   "outputs": [
    {
     "data": {
      "text/plain": [
       "46.43647731401474"
      ]
     },
     "execution_count": 47,
     "metadata": {},
     "output_type": "execute_result"
    }
   ],
   "source": [
    "model2['CL']"
   ]
  },
  {
   "cell_type": "code",
   "execution_count": null,
   "id": "dec8e787",
   "metadata": {},
   "outputs": [],
   "source": []
  }
 ],
 "metadata": {
  "kernelspec": {
   "display_name": "Python 3 (ipykernel)",
   "language": "python",
   "name": "python3"
  },
  "language_info": {
   "codemirror_mode": {
    "name": "ipython",
    "version": 3
   },
   "file_extension": ".py",
   "mimetype": "text/x-python",
   "name": "python",
   "nbconvert_exporter": "python",
   "pygments_lexer": "ipython3",
   "version": "3.8.12"
  }
 },
 "nbformat": 4,
 "nbformat_minor": 5
}
