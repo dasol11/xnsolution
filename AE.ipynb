{
 "cells": [
  {
   "cell_type": "code",
   "execution_count": 25,
   "id": "2fa3234b",
   "metadata": {},
   "outputs": [],
   "source": [
    "import torch\n",
    "import torchvision\n",
    "import torch.nn.functional as F\n",
    "from torch import nn, optim\n",
    "from torchvision import transforms, datasets\n",
    "from torch.utils.data import TensorDataset, DataLoader\n",
    "import matplotlib.pyplot as plt\n",
    "from mpl_toolkits.mplot3d import Axes3D \n",
    "from matplotlib import cm \n",
    "import numpy as np\n",
    "\n",
    "from sklearn.datasets import load_iris"
   ]
  },
  {
   "cell_type": "code",
   "execution_count": 29,
   "id": "d311ee3f",
   "metadata": {},
   "outputs": [],
   "source": [
    "iris  = load_iris()"
   ]
  },
  {
   "cell_type": "code",
   "execution_count": 30,
   "id": "a5c5e7bd",
   "metadata": {},
   "outputs": [],
   "source": [
    "X = iris.data\n",
    "Y = iris.target\n",
    "X = torch.tensor(X, dtype = torch.float32)\n",
    "Y = torch.tensor(Y, dtype = torch.int64)"
   ]
  },
  {
   "cell_type": "code",
   "execution_count": 40,
   "id": "fa911373",
   "metadata": {},
   "outputs": [],
   "source": [
    "dataset = TensorDataset(X,Y)\n",
    "loader= DataLoader(dataset, batch_size=1, shuffle = True)"
   ]
  },
  {
   "cell_type": "code",
   "execution_count": 46,
   "id": "cf44584d",
   "metadata": {},
   "outputs": [
    {
     "data": {
      "text/plain": [
       "4"
      ]
     },
     "execution_count": 46,
     "metadata": {},
     "output_type": "execute_result"
    }
   ],
   "source": [
    "X.size(1)"
   ]
  },
  {
   "cell_type": "code",
   "execution_count": 6,
   "id": "2700a01f",
   "metadata": {},
   "outputs": [],
   "source": [
    "# 오토인코더 모듈 정의\n",
    "class Autoencoder(nn.Module):\n",
    "    def __init__(self, X_train):\n",
    "        super(Autoencoder, self).__init__()\n",
    "        data_size = X_train.size(1)\n",
    "        \n",
    "        \n",
    "        self.encoder = nn.Sequential( \n",
    "            nn.Linear(data_size, 32), #차원을 data_size에서 점차 줄여나갑니다.\n",
    "            nn.ReLU(),\n",
    "            nn.Linear(32, 16),\n",
    "            nn.ReLU(),\n",
    "            nn.Linear(16, 8),\n",
    "            nn.ReLU(),\n",
    "            nn.Linear(8, 4),   \n",
    "        )\n",
    "        self.decoder = nn.Sequential(\n",
    "            nn.Linear(4, 8), #디코더는 차원을 점차 data_size로 복원합니다.\n",
    "            nn.ReLU(),\n",
    "            nn.Linear(8, 16),\n",
    "            nn.ReLU(),\n",
    "            nn.Linear(16, 32),\n",
    "            nn.ReLU(),\n",
    "            nn.Linear(32, data_size),\n",
    "            nn.Sigmoid(),       \n",
    "        )\n",
    "\n",
    "    def forward(self, x):\n",
    "        encoded = self.encoder(x) \n",
    "        decoded = self.decoder(encoded) \n",
    "        return encoded, decoded"
   ]
  },
  {
   "cell_type": "code",
   "execution_count": 7,
   "id": "0291d6b7",
   "metadata": {},
   "outputs": [],
   "source": [
    "def Autoencoder_train(X_train, Y_train, X_test, epochs):\n",
    "    \n",
    "    X = torch.tensor(X_train, dtype = torch.float32)\n",
    "    Y = torch.tensor(X_train, dtype = torch.int64)\n",
    "    dataset = TensorDataset(X,Y)\n",
    "    loader= DataLoader(dataset, batch_size=1, shuffle = True)\n",
    "    \n",
    "    #신경망 생성하기 \n",
    "    autoencoder = Autoencoder()\n",
    "    optimizer = torch.optim.Adam(autoencoder.parameters(), lr = 0.005)\n",
    "    criterion = nn.MSELoss()\n",
    "    \n",
    "    #train data로 학습\n",
    "    autoencoder.train()\n",
    "    for epoch in range(epochs):\n",
    "        autoencoder.train()\n",
    "        for step , (x, label) in enumerate(loader):\n",
    "            y = x\n",
    "            \n",
    "            encoded, decoded = autoencoder(x)\n",
    "            loss = criterion(decoded , y)\n",
    "            optimizer.zero_grad()\n",
    "            loss.backward()\n",
    "            optimizer.step()\n",
    "            \n",
    "    \n",
    "    Y_test_pred = autoencoder(X_test)\n",
    "    \n",
    "    return y_test_pred\n",
    "        "
   ]
  }
 ],
 "metadata": {
  "kernelspec": {
   "display_name": "Python 3 (ipykernel)",
   "language": "python",
   "name": "python3"
  },
  "language_info": {
   "codemirror_mode": {
    "name": "ipython",
    "version": 3
   },
   "file_extension": ".py",
   "mimetype": "text/x-python",
   "name": "python",
   "nbconvert_exporter": "python",
   "pygments_lexer": "ipython3",
   "version": "3.8.12"
  }
 },
 "nbformat": 4,
 "nbformat_minor": 5
}
