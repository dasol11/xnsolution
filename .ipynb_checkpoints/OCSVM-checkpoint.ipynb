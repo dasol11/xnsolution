{
 "cells": [
  {
   "cell_type": "code",
   "execution_count": 116,
   "id": "11648d9f",
   "metadata": {},
   "outputs": [],
   "source": [
    "from sklearn.preprocessing import MinMaxScaler\n",
    "from sklearn.preprocessing import StandardScaler\n",
    "from sklearn.svm import OneClassSVM\n",
    "import pandas as pd\n",
    "import numpy as np\n",
    "import joblib"
   ]
  },
  {
   "cell_type": "code",
   "execution_count": 117,
   "id": "0427f876",
   "metadata": {},
   "outputs": [],
   "source": [
    "def bootstrap_limit(stat, alpha=0.05, bootstrap=100, upper = True):\n",
    "    '''\n",
    "        @Description\n",
    "            Bootstrap sampling을 활용한 Control Limit 산출 기법\n",
    "\n",
    "        @Parameter\n",
    "            stat : 통계량 (정상상태의 데이터 입력)\n",
    "            alpha : Control Limit을 정하기 위한 유의수준 (0~1)\n",
    "            bootstrap : 샘플링 횟수\n",
    "        @Return\n",
    "            limit : 임계값 (CL : Control Limit)\n",
    "    '''\n",
    "    \n",
    "    alpha = alpha * 100\n",
    "    if(upper) : alpha = 100 - alpha\n",
    "    samsize = max(100, len(stat))\n",
    "    \n",
    "    stat = stat.reshape(len(stat)) # 2차원 array를 1차원 array로 변환\n",
    "    \n",
    "    # bootstrap 수 만큼 다음 작업을 반복 : samsize(최소 10000번)만큼 정상상태 데이터를 유의수준 만큼 복원 추출 후 평균 값 사용 \n",
    "    limit = np.mean(list(map(lambda x:np.percentile(np.random.choice(stat,samsize,replace=True),alpha), range(0,bootstrap))))\n",
    "    \n",
    "    return limit"
   ]
  },
  {
   "cell_type": "code",
   "execution_count": 118,
   "id": "45c6d633",
   "metadata": {},
   "outputs": [],
   "source": [
    "# One Class SVM\n",
    "class OCSVM():\n",
    "    \n",
    "    def __init__(self):\n",
    "        self.trScore = None\n",
    "        self.tsScore = None\n",
    "        self.CL = None\n",
    "        self.scaler = StandardScaler()\n",
    "        self.model = None\n",
    "        \n",
    "    def fit(self, trdat, nu, kernel, alpha=0.05):\n",
    "        \n",
    "        # One class SVM\n",
    "        self.model = OneClassSVM(nu=nu, kernel=kernel, gamma='auto').fit(trdat)\n",
    "        \n",
    "        # Train Score\n",
    "        self.trScore = self.model.score_samples(trdat)\n",
    "        \n",
    "        # Control Limit\n",
    "        self.CL = bootstrap_limit(self.trScore, alpha=alpha)\n",
    "         \n",
    "        return {'trScore':self.trScore}\n",
    "    \n",
    "    def predict(self, tsdat):        \n",
    "        # test Score\n",
    "        self.tsScore = self.model.score_samples(tsdat)\n",
    "        \n",
    "        return {'tsScore':self.tsScore}\n",
    "\n",
    "def ocSVM(trdat, tsdat, kernel='linear', alpha=0.05):\n",
    "    # 데이터가 unit norm vector로 normalize 될 경우 SVDD = 1-SVM\n",
    "    \n",
    "    model = OCSVM()\n",
    "    model.scaler.fit(trdat)\n",
    "    \n",
    "    #  nu : 에러 허용 정도 ex. nu=0.05 100개 중 5개를 이상치라고 가정하고 hyplane을 나누겠다는 의미\n",
    "    fit = model.fit(trdat, nu=alpha, kernel=kernel, alpha=0.05)\n",
    "    CL = model.CL\n",
    "        \n",
    "    pred = model.predict(tsdat)\n",
    "    \n",
    "    # model pickle 저장\n",
    "    saved_model = joblib.dump(model, 'SVDD.pkl')\n",
    "    \n",
    "    return {'trScore':np.round(fit['trScore'],3), 'tsScore':np.round(pred['tsScore'],3), 'CL':np.round(CL,3)}\n",
    "\n",
    "def ocSVM_loader(wd, tsdat):\n",
    "    wd = 'ocSVM.pkl'\n",
    "    model = joblib.load(wd)\n",
    "\n",
    "    pred = model.predict(tsdat)\n",
    "    \n",
    "    return {'trScore':np.round(model.trScore,3), 'tsScore': np.round(model.tsScore,3), 'CL':np.round(model.CL,3)}"
   ]
  },
  {
   "cell_type": "code",
   "execution_count": 119,
   "id": "f3bc6de4",
   "metadata": {},
   "outputs": [],
   "source": [
    "from sklearn.datasets import load_iris\n",
    "\n",
    "data = load_iris(as_frame=True)\n",
    "df = data['data']\n",
    "\n",
    "trdat = df.iloc[0:50,:]\n",
    "tsdat = df.iloc[50:150,:]"
   ]
  },
  {
   "cell_type": "code",
   "execution_count": 121,
   "id": "2b33f09e",
   "metadata": {},
   "outputs": [],
   "source": [
    "svdd = ocSVM(trdat, tsdat, kernel='linear', alpha=0.05)"
   ]
  },
  {
   "cell_type": "code",
   "execution_count": 122,
   "id": "1015bab5",
   "metadata": {},
   "outputs": [],
   "source": [
    "score = np.concatenate([svdd['trScore'], svdd['tsScore']])"
   ]
  },
  {
   "cell_type": "code",
   "execution_count": 123,
   "id": "91bca674",
   "metadata": {},
   "outputs": [
    {
     "data": {
      "image/png": "[encoded data removed]",
      "text/plain": [
       "<Figure size 576x288 with 1 Axes>"
      ]
     },
     "metadata": {
      "needs_background": "light"
     },
     "output_type": "display_data"
    }
   ],
   "source": [
    "plt.figure(figsize=(8,4)) \n",
    "plt.plot(score, color='blue')\n",
    "plt.axhline(y=svdd['CL'], color='red')\n",
    "plt.show()"
   ]
  },
  {
   "cell_type": "code",
   "execution_count": null,
   "id": "3e3da4e9",
   "metadata": {},
   "outputs": [],
   "source": []
  }
 ],
 "metadata": {
  "kernelspec": {
   "display_name": "Python 3 (ipykernel)",
   "language": "python",
   "name": "python3"
  },
  "language_info": {
   "codemirror_mode": {
    "name": "ipython",
    "version": 3
   },
   "file_extension": ".py",
   "mimetype": "text/x-python",
   "name": "python",
   "nbconvert_exporter": "python",
   "pygments_lexer": "ipython3",
   "version": "3.8.12"
  }
 },
 "nbformat": 4,
 "nbformat_minor": 5
}
