{
 "cells": [
  {
   "cell_type": "code",
   "execution_count": null,
   "id": "7c7aed5c",
   "metadata": {},
   "outputs": [],
   "source": [
    "# 이상구간 -> 알람 정보로 변환 (1,0)\n",
    "# Alarm information\n",
    "def alarmInformation(tsScore, CL):\n",
    "    alarmInfo = (tsScore>CL).astype('int')\n",
    "    alarmInfo = pd.DataFrame(alarmInfo, columns=['Alarm']).astype('category')\n",
    "    \n",
    "    return(alarmInfo)\n",
    "def diagnosisTree(tsdat, tsScore, CL, max_depth=5):\n",
    "    '''\n",
    "        @Description\n",
    "            diagnosisTree : 이상진단 의사결정 나무\n",
    "\n",
    "        @Parameter\n",
    "            tsdat : Test data : Pandas.DataFrame\n",
    "            tsScore : 이상감지 통계량 (모니터링 데이터) : numpy.Array\n",
    "            CL : Control Limit : Float64\n",
    "            max_depth : 의사결정나무의 최대 깊이\n",
    "            \n",
    "        @Return\n",
    "            treeResult : 의사결정 나무 결과 (텍스트 형식)\n",
    "    '''   A\n",
    "    \n",
    "    # Alarm information 추출\n",
    "    alarm = alarmInformation(tsScore, CL)\n",
    "    \n",
    "    # 진단용 데이터 생성(모니터링 데이터에 Alarm information 결합)\n",
    "    alarmDat = pd.concat([alarm, tsdat.reset_index()], axis=1)\n",
    "    \n",
    "    x = alarmDat.drop(['Alarm'], axis=1)\n",
    "    y = alarmDat['Alarm']\n",
    "    decision_tree = DecisionTreeClassifier(random_state=0, max_depth=max_depth)\n",
    "    decision_tree = decision_tree.fit(x,y)\n",
    "    \n",
    "    treeResult = export_text(decision_tree, feature_names = x.columns.tolist(), show_weights = True)\n",
    "    \n",
    "    return(treeResult)"
   ]
  }
 ],
 "metadata": {
  "kernelspec": {
   "display_name": "Python 3 (ipykernel)",
   "language": "python",
   "name": "python3"
  },
  "language_info": {
   "codemirror_mode": {
    "name": "ipython",
    "version": 3
   },
   "file_extension": ".py",
   "mimetype": "text/x-python",
   "name": "python",
   "nbconvert_exporter": "python",
   "pygments_lexer": "ipython3",
   "version": "3.8.12"
  }
 },
 "nbformat": 4,
 "nbformat_minor": 5
}
