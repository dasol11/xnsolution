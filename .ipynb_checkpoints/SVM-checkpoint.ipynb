{
 "cells": [
  {
   "cell_type": "code",
   "execution_count": null,
   "id": "6c6e5254",
   "metadata": {},
   "outputs": [],
   "source": [
    "def svm_classification(trainX,trainY,testX,testY, kernel='rbf'):\n",
    "    if isinstance(trainX, pd.DataFrame) :\n",
    "        trainX = trainX.values\n",
    "    if isinstance(testX, pd.DataFrame) :\n",
    "        testX = testX.values\n",
    "    if isinstance(trainY, pd.DataFrame) :\n",
    "        trainY = trainY.values\n",
    "    if isinstance(testY, pd.DataFrame) :\n",
    "        testY = testY.values\n",
    "        \n",
    "    model = svm.SVC(kernel=kernel).fit(trainX, trainY)\n",
    "    pred = model.predict(ab_te_x)\n",
    "\n",
    "    fpr,tpr,threshold = roc_curve(testY,pred)\n",
    "    auc = roc_auc_score(testY,pred)\n",
    "    \n",
    "    return({\"fpr\":fpr,\"tpr\":tpr,\"auc\":auc})"
   ]
  }
 ],
 "metadata": {
  "kernelspec": {
   "display_name": "Python 3 (ipykernel)",
   "language": "python",
   "name": "python3"
  },
  "language_info": {
   "codemirror_mode": {
    "name": "ipython",
    "version": 3
   },
   "file_extension": ".py",
   "mimetype": "text/x-python",
   "name": "python",
   "nbconvert_exporter": "python",
   "pygments_lexer": "ipython3",
   "version": "3.8.12"
  }
 },
 "nbformat": 4,
 "nbformat_minor": 5
}
