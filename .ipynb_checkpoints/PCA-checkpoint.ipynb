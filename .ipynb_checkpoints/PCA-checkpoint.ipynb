{
 "cells": [
  {
   "cell_type": "code",
   "execution_count": 1,
   "id": "a031671f",
   "metadata": {},
   "outputs": [],
   "source": [
    "import pandas as pd\n",
    "import matplotlib.pyplot as plt\n",
    "\n",
    "from sklearn.datasets import load_iris # iris dataset\n",
    "from sklearn.preprocessing import StandardScaler  # 표준화 패키지 라이브러리 "
   ]
  },
  {
   "cell_type": "code",
   "execution_count": null,
   "id": "d6efaf0f",
   "metadata": {},
   "outputs": [],
   "source": [
    "import numpy as np\n",
    "from sklearn.preprocessing import StandardScaler  # 표준화 패키지 라이브러리 \n",
    "from sklearn.decomposition import PCA\n",
    "\n",
    "\n",
    "def EDA_pca(input_data, n_components) :\n",
    "    # to do\n",
    "    # 수치형 예외처리 생각해볼것\n",
    "    if isinstance(input_data, pd.DataFrame) :\n",
    "        input_data = input_data.values\n",
    "    \n",
    "    scaled_data = StandardScaler().fit_transform(input_data) # input_data scale\n",
    "    \n",
    "    ### PCA\n",
    "    pca = PCA(n_components = n_components) # 주성분을 몇개로 할지 결정\n",
    "    pca.fit(scaled_data)\n",
    "    \n",
    "    # scatter plot 관련\n",
    "    components = pca.components_\n",
    "    score_array = pca.transform(scaled_data)\n",
    "    \n",
    "    # standard_deviation 관련\n",
    "    standard_deviation = pca.explained_variance_\n",
    "    proportion_of_variance = pca.explained_variance_ratio_\n",
    "    cum_proportion = np.cumsum(proportion_of_variance)\n",
    "    \n",
    "    return {'standard_deviation' : standard_deviation, 'proportion_of_variance' : proportion_of_variance, 'cum_proportion' : cum_proportion,'components' : components, 'score_array' : score_array}"
   ]
  },
  {
   "cell_type": "code",
   "execution_count": 2,
   "id": "e0358339",
   "metadata": {},
   "outputs": [],
   "source": [
    "iris = load_iris()\n",
    "temp = pd.DataFrame(iris['data'])\n",
    "temp.columns = iris['feature_names']\n",
    "temp['target'] = iris['target']\n",
    "temp.head()\n",
    "df = temp"
   ]
  },
  {
   "cell_type": "code",
   "execution_count": 3,
   "id": "78e3499e",
   "metadata": {},
   "outputs": [
    {
     "data": {
      "text/html": [
       "<div>\n",
       "<style scoped>\n",
       "    .dataframe tbody tr th:only-of-type {\n",
       "        vertical-align: middle;\n",
       "    }\n",
       "\n",
       "    .dataframe tbody tr th {\n",
       "        vertical-align: top;\n",
       "    }\n",
       "\n",
       "    .dataframe thead th {\n",
       "        text-align: right;\n",
       "    }\n",
       "</style>\n",
       "<table border=\"1\" class=\"dataframe\">\n",
       "  <thead>\n",
       "    <tr style=\"text-align: right;\">\n",
       "      <th></th>\n",
       "      <th>sepal length</th>\n",
       "      <th>sepal width</th>\n",
       "      <th>petal length</th>\n",
       "      <th>petal width</th>\n",
       "    </tr>\n",
       "  </thead>\n",
       "  <tbody>\n",
       "    <tr>\n",
       "      <th>0</th>\n",
       "      <td>-0.900681</td>\n",
       "      <td>1.019004</td>\n",
       "      <td>-1.340227</td>\n",
       "      <td>-1.315444</td>\n",
       "    </tr>\n",
       "    <tr>\n",
       "      <th>1</th>\n",
       "      <td>-1.143017</td>\n",
       "      <td>-0.131979</td>\n",
       "      <td>-1.340227</td>\n",
       "      <td>-1.315444</td>\n",
       "    </tr>\n",
       "    <tr>\n",
       "      <th>2</th>\n",
       "      <td>-1.385353</td>\n",
       "      <td>0.328414</td>\n",
       "      <td>-1.397064</td>\n",
       "      <td>-1.315444</td>\n",
       "    </tr>\n",
       "    <tr>\n",
       "      <th>3</th>\n",
       "      <td>-1.506521</td>\n",
       "      <td>0.098217</td>\n",
       "      <td>-1.283389</td>\n",
       "      <td>-1.315444</td>\n",
       "    </tr>\n",
       "    <tr>\n",
       "      <th>4</th>\n",
       "      <td>-1.021849</td>\n",
       "      <td>1.249201</td>\n",
       "      <td>-1.340227</td>\n",
       "      <td>-1.315444</td>\n",
       "    </tr>\n",
       "  </tbody>\n",
       "</table>\n",
       "</div>"
      ],
      "text/plain": [
       "   sepal length  sepal width  petal length  petal width\n",
       "0     -0.900681     1.019004     -1.340227    -1.315444\n",
       "1     -1.143017    -0.131979     -1.340227    -1.315444\n",
       "2     -1.385353     0.328414     -1.397064    -1.315444\n",
       "3     -1.506521     0.098217     -1.283389    -1.315444\n",
       "4     -1.021849     1.249201     -1.340227    -1.315444"
      ]
     },
     "execution_count": 3,
     "metadata": {},
     "output_type": "execute_result"
    }
   ],
   "source": [
    "x = df.drop(['target'], axis=1).values # 독립변인들의 value값만 추출\n",
    "y = df['target'].values # `종속변인 추출\n",
    "\n",
    "x = StandardScaler().fit_transform(x) # x객체에 x를 표준화한 데이터를 저장\n",
    "\n",
    "features = ['sepal length', 'sepal width', 'petal length', 'petal width']\n",
    "pd.DataFrame(x, columns=features).head()"
   ]
  },
  {
   "cell_type": "code",
   "execution_count": 4,
   "id": "64509a7a",
   "metadata": {},
   "outputs": [],
   "source": []
  },
  {
   "cell_type": "code",
   "execution_count": 5,
   "id": "9c61c05c",
   "metadata": {},
   "outputs": [],
   "source": [
    "a = EDA_pca(x, 3)"
   ]
  },
  {
   "cell_type": "code",
   "execution_count": 12,
   "id": "d53e559f",
   "metadata": {},
   "outputs": [],
   "source": [
    "import matplotlib.pyplot as plt"
   ]
  },
  {
   "cell_type": "code",
   "execution_count": 17,
   "id": "d46672e4",
   "metadata": {},
   "outputs": [
    {
     "data": {
      "image/png": "[encoded data removed]",
      "text/plain": [
       "<Figure size 432x288 with 1 Axes>"
      ]
     },
     "metadata": {
      "needs_background": "light"
     },
     "output_type": "display_data"
    }
   ],
   "source": [
    "plt.scatter(a['score_array'][:,0], a['score_array'][:,1])\n",
    "plt.scatter(a['score_array'][:,0], a['score_array'][:,1])\n",
    "plt.scatter(a['score_array'][:,0], a['score_array'][:,1])\n",
    "plt.show()"
   ]
  },
  {
   "cell_type": "code",
   "execution_count": 20,
   "id": "e19e0512",
   "metadata": {},
   "outputs": [
    {
     "data": {
      "text/plain": [
       "array([0.72962445, 0.22850762, 0.03668922])"
      ]
     },
     "execution_count": 20,
     "metadata": {},
     "output_type": "execute_result"
    }
   ],
   "source": [
    "a['proportion_of_variance']"
   ]
  },
  {
   "cell_type": "code",
   "execution_count": null,
   "id": "8c5d91db",
   "metadata": {},
   "outputs": [],
   "source": []
  }
 ],
 "metadata": {
  "kernelspec": {
   "display_name": "Python 3 (ipykernel)",
   "language": "python",
   "name": "python3"
  },
  "language_info": {
   "codemirror_mode": {
    "name": "ipython",
    "version": 3
   },
   "file_extension": ".py",
   "mimetype": "text/x-python",
   "name": "python",
   "nbconvert_exporter": "python",
   "pygments_lexer": "ipython3",
   "version": "3.8.12"
  }
 },
 "nbformat": 4,
 "nbformat_minor": 5
}
